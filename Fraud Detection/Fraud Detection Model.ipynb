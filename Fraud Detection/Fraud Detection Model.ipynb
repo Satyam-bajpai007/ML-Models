{
 "cells": [
  {
   "cell_type": "markdown",
   "id": "95bdfe50",
   "metadata": {
    "toc": true
   },
   "source": [
    "<h1>Table of Contents<span class=\"tocSkip\"></span></h1>\n",
    "<div class=\"toc\"><ul class=\"toc-item\"><li><span><a href=\"#Import-DataSet\" data-toc-modified-id=\"Import-DataSet-1\"><span class=\"toc-item-num\">1&nbsp;&nbsp;</span>Import DataSet</a></span></li><li><span><a href=\"#DataSet-Analysis\" data-toc-modified-id=\"DataSet-Analysis-2\"><span class=\"toc-item-num\">2&nbsp;&nbsp;</span>DataSet Analysis</a></span><ul class=\"toc-item\"><li><span><a href=\"#Creating-numeric-and-catagorical-DataFrame\" data-toc-modified-id=\"Creating-numeric-and-catagorical-DataFrame-2.1\"><span class=\"toc-item-num\">2.1&nbsp;&nbsp;</span>Creating numeric and catagorical DataFrame</a></span></li><li><span><a href=\"#Analyzing-Numerical-Value\" data-toc-modified-id=\"Analyzing-Numerical-Value-2.2\"><span class=\"toc-item-num\">2.2&nbsp;&nbsp;</span>Analyzing Numerical Value</a></span><ul class=\"toc-item\"><li><span><a href=\"#Checking-Null-value-in-DataFrame\" data-toc-modified-id=\"Checking-Null-value-in-DataFrame-2.2.1\"><span class=\"toc-item-num\">2.2.1&nbsp;&nbsp;</span>Checking Null value in DataFrame</a></span></li><li><span><a href=\"#Finding-out-the-correlation-in-numerical-dataset\" data-toc-modified-id=\"Finding-out-the-correlation-in-numerical-dataset-2.2.2\"><span class=\"toc-item-num\">2.2.2&nbsp;&nbsp;</span>Finding out the correlation in numerical dataset</a></span></li><li><span><a href=\"#Data-Sepeartion\" data-toc-modified-id=\"Data-Sepeartion-2.2.3\"><span class=\"toc-item-num\">2.2.3&nbsp;&nbsp;</span>Data Sepeartion</a></span></li><li><span><a href=\"#Outlier-detection-and-correction\" data-toc-modified-id=\"Outlier-detection-and-correction-2.2.4\"><span class=\"toc-item-num\">2.2.4&nbsp;&nbsp;</span>Outlier detection and correction</a></span></li><li><span><a href=\"#Outlier-Index\" data-toc-modified-id=\"Outlier-Index-2.2.5\"><span class=\"toc-item-num\">2.2.5&nbsp;&nbsp;</span>Outlier Index</a></span></li></ul></li><li><span><a href=\"#Analyzing-Catagorical-Value\" data-toc-modified-id=\"Analyzing-Catagorical-Value-2.3\"><span class=\"toc-item-num\">2.3&nbsp;&nbsp;</span>Analyzing Catagorical Value</a></span><ul class=\"toc-item\"><li><span><a href=\"#Data-Filtering\" data-toc-modified-id=\"Data-Filtering-2.3.1\"><span class=\"toc-item-num\">2.3.1&nbsp;&nbsp;</span>Data Filtering</a></span></li><li><span><a href=\"#Label-Encoding\" data-toc-modified-id=\"Label-Encoding-2.3.2\"><span class=\"toc-item-num\">2.3.2&nbsp;&nbsp;</span>Label Encoding</a></span></li><li><span><a href=\"#Concatinating-Numerical-and-Catagorical-Value\" data-toc-modified-id=\"Concatinating-Numerical-and-Catagorical-Value-2.3.3\"><span class=\"toc-item-num\">2.3.3&nbsp;&nbsp;</span>Concatinating Numerical and Catagorical Value</a></span></li></ul></li></ul></li><li><span><a href=\"#Selcting-K-Best-value\" data-toc-modified-id=\"Selcting-K-Best-value-3\"><span class=\"toc-item-num\">3&nbsp;&nbsp;</span>Selcting K Best value</a></span></li><li><span><a href=\"#Training-And-Testing\" data-toc-modified-id=\"Training-And-Testing-4\"><span class=\"toc-item-num\">4&nbsp;&nbsp;</span>Training And Testing</a></span></li><li><span><a href=\"#Confusion-Matrix\" data-toc-modified-id=\"Confusion-Matrix-5\"><span class=\"toc-item-num\">5&nbsp;&nbsp;</span>Confusion Matrix</a></span></li><li><span><a href=\"#Reducing-Data-Imbalance\" data-toc-modified-id=\"Reducing-Data-Imbalance-6\"><span class=\"toc-item-num\">6&nbsp;&nbsp;</span>Reducing Data Imbalance</a></span><ul class=\"toc-item\"><li><span><a href=\"#Again-Importing-DataSet\" data-toc-modified-id=\"Again-Importing-DataSet-6.1\"><span class=\"toc-item-num\">6.1&nbsp;&nbsp;</span>Again Importing DataSet</a></span></li><li><span><a href=\"#Finding-Less-Usefull-Type\" data-toc-modified-id=\"Finding-Less-Usefull-Type-6.2\"><span class=\"toc-item-num\">6.2&nbsp;&nbsp;</span>Finding Less Usefull Type</a></span></li><li><span><a href=\"#Removing-Those-Type\" data-toc-modified-id=\"Removing-Those-Type-6.3\"><span class=\"toc-item-num\">6.3&nbsp;&nbsp;</span>Removing Those Type</a></span></li><li><span><a href=\"#Visual-Representation-of-Fraud-Transcation\" data-toc-modified-id=\"Visual-Representation-of-Fraud-Transcation-6.4\"><span class=\"toc-item-num\">6.4&nbsp;&nbsp;</span>Visual Representation of Fraud Transcation</a></span></li><li><span><a href=\"#Creating-numeric-and-catagorical-DataFrame\" data-toc-modified-id=\"Creating-numeric-and-catagorical-DataFrame-6.5\"><span class=\"toc-item-num\">6.5&nbsp;&nbsp;</span>Creating numeric and catagorical DataFrame</a></span></li><li><span><a href=\"#Analyzing-Numerical-Value\" data-toc-modified-id=\"Analyzing-Numerical-Value-6.6\"><span class=\"toc-item-num\">6.6&nbsp;&nbsp;</span>Analyzing Numerical Value</a></span></li><li><span><a href=\"#Analyzing-Catagorical-Value\" data-toc-modified-id=\"Analyzing-Catagorical-Value-6.7\"><span class=\"toc-item-num\">6.7&nbsp;&nbsp;</span>Analyzing Catagorical Value</a></span><ul class=\"toc-item\"><li><span><a href=\"#Data-Filtering\" data-toc-modified-id=\"Data-Filtering-6.7.1\"><span class=\"toc-item-num\">6.7.1&nbsp;&nbsp;</span>Data Filtering</a></span></li><li><span><a href=\"#Label-Encoding\" data-toc-modified-id=\"Label-Encoding-6.7.2\"><span class=\"toc-item-num\">6.7.2&nbsp;&nbsp;</span>Label Encoding</a></span></li><li><span><a href=\"#Concatinating-Numerical-and-Catagorical-Value\" data-toc-modified-id=\"Concatinating-Numerical-and-Catagorical-Value-6.7.3\"><span class=\"toc-item-num\">6.7.3&nbsp;&nbsp;</span>Concatinating Numerical and Catagorical Value</a></span></li></ul></li><li><span><a href=\"#UnderSampling\" data-toc-modified-id=\"UnderSampling-6.8\"><span class=\"toc-item-num\">6.8&nbsp;&nbsp;</span>UnderSampling</a></span></li><li><span><a href=\"#Training-And-Testing\" data-toc-modified-id=\"Training-And-Testing-6.9\"><span class=\"toc-item-num\">6.9&nbsp;&nbsp;</span>Training And Testing</a></span></li></ul></li><li><span><a href=\"#GridSearch-Cross-Validation\" data-toc-modified-id=\"GridSearch-Cross-Validation-7\"><span class=\"toc-item-num\">7&nbsp;&nbsp;</span>GridSearch Cross-Validation</a></span></li><li><span><a href=\"#confusion-matrix\" data-toc-modified-id=\"confusion-matrix-8\"><span class=\"toc-item-num\">8&nbsp;&nbsp;</span>confusion matrix</a></span></li></ul></div>"
   ]
  },
  {
   "cell_type": "code",
   "execution_count": 1,
   "id": "fb7a2cdc",
   "metadata": {
    "ExecuteTime": {
     "end_time": "2022-07-22T18:07:11.804560Z",
     "start_time": "2022-07-22T18:07:08.942411Z"
    }
   },
   "outputs": [],
   "source": [
    "import pandas as pd\n",
    "import matplotlib.pyplot as plt\n",
    "import seaborn as snb\n",
    "import numpy as np\n",
    "import warnings\n",
    "warnings.filterwarnings('ignore')"
   ]
  },
  {
   "cell_type": "markdown",
   "id": "5076e177",
   "metadata": {},
   "source": [
    "# Import DataSet"
   ]
  },
  {
   "cell_type": "code",
   "execution_count": 2,
   "id": "50c7a1c2",
   "metadata": {
    "ExecuteTime": {
     "end_time": "2022-07-22T18:07:25.637435Z",
     "start_time": "2022-07-22T18:07:11.807561Z"
    }
   },
   "outputs": [
    {
     "data": {
      "text/html": [
       "<div>\n",
       "<style scoped>\n",
       "    .dataframe tbody tr th:only-of-type {\n",
       "        vertical-align: middle;\n",
       "    }\n",
       "\n",
       "    .dataframe tbody tr th {\n",
       "        vertical-align: top;\n",
       "    }\n",
       "\n",
       "    .dataframe thead th {\n",
       "        text-align: right;\n",
       "    }\n",
       "</style>\n",
       "<table border=\"1\" class=\"dataframe\">\n",
       "  <thead>\n",
       "    <tr style=\"text-align: right;\">\n",
       "      <th></th>\n",
       "      <th>step</th>\n",
       "      <th>type</th>\n",
       "      <th>amount</th>\n",
       "      <th>nameOrig</th>\n",
       "      <th>oldbalanceOrg</th>\n",
       "      <th>newbalanceOrig</th>\n",
       "      <th>nameDest</th>\n",
       "      <th>oldbalanceDest</th>\n",
       "      <th>newbalanceDest</th>\n",
       "      <th>isFraud</th>\n",
       "      <th>isFlaggedFraud</th>\n",
       "    </tr>\n",
       "  </thead>\n",
       "  <tbody>\n",
       "    <tr>\n",
       "      <th>0</th>\n",
       "      <td>1</td>\n",
       "      <td>PAYMENT</td>\n",
       "      <td>9839.64</td>\n",
       "      <td>C1231006815</td>\n",
       "      <td>170136.0</td>\n",
       "      <td>160296.36</td>\n",
       "      <td>M1979787155</td>\n",
       "      <td>0.0</td>\n",
       "      <td>0.0</td>\n",
       "      <td>0</td>\n",
       "      <td>0</td>\n",
       "    </tr>\n",
       "    <tr>\n",
       "      <th>1</th>\n",
       "      <td>1</td>\n",
       "      <td>PAYMENT</td>\n",
       "      <td>1864.28</td>\n",
       "      <td>C1666544295</td>\n",
       "      <td>21249.0</td>\n",
       "      <td>19384.72</td>\n",
       "      <td>M2044282225</td>\n",
       "      <td>0.0</td>\n",
       "      <td>0.0</td>\n",
       "      <td>0</td>\n",
       "      <td>0</td>\n",
       "    </tr>\n",
       "    <tr>\n",
       "      <th>2</th>\n",
       "      <td>1</td>\n",
       "      <td>TRANSFER</td>\n",
       "      <td>181.00</td>\n",
       "      <td>C1305486145</td>\n",
       "      <td>181.0</td>\n",
       "      <td>0.00</td>\n",
       "      <td>C553264065</td>\n",
       "      <td>0.0</td>\n",
       "      <td>0.0</td>\n",
       "      <td>1</td>\n",
       "      <td>0</td>\n",
       "    </tr>\n",
       "    <tr>\n",
       "      <th>3</th>\n",
       "      <td>1</td>\n",
       "      <td>CASH_OUT</td>\n",
       "      <td>181.00</td>\n",
       "      <td>C840083671</td>\n",
       "      <td>181.0</td>\n",
       "      <td>0.00</td>\n",
       "      <td>C38997010</td>\n",
       "      <td>21182.0</td>\n",
       "      <td>0.0</td>\n",
       "      <td>1</td>\n",
       "      <td>0</td>\n",
       "    </tr>\n",
       "    <tr>\n",
       "      <th>4</th>\n",
       "      <td>1</td>\n",
       "      <td>PAYMENT</td>\n",
       "      <td>11668.14</td>\n",
       "      <td>C2048537720</td>\n",
       "      <td>41554.0</td>\n",
       "      <td>29885.86</td>\n",
       "      <td>M1230701703</td>\n",
       "      <td>0.0</td>\n",
       "      <td>0.0</td>\n",
       "      <td>0</td>\n",
       "      <td>0</td>\n",
       "    </tr>\n",
       "  </tbody>\n",
       "</table>\n",
       "</div>"
      ],
      "text/plain": [
       "   step      type    amount     nameOrig  oldbalanceOrg  newbalanceOrig  \\\n",
       "0     1   PAYMENT   9839.64  C1231006815       170136.0       160296.36   \n",
       "1     1   PAYMENT   1864.28  C1666544295        21249.0        19384.72   \n",
       "2     1  TRANSFER    181.00  C1305486145          181.0            0.00   \n",
       "3     1  CASH_OUT    181.00   C840083671          181.0            0.00   \n",
       "4     1   PAYMENT  11668.14  C2048537720        41554.0        29885.86   \n",
       "\n",
       "      nameDest  oldbalanceDest  newbalanceDest  isFraud  isFlaggedFraud  \n",
       "0  M1979787155             0.0             0.0        0               0  \n",
       "1  M2044282225             0.0             0.0        0               0  \n",
       "2   C553264065             0.0             0.0        1               0  \n",
       "3    C38997010         21182.0             0.0        1               0  \n",
       "4  M1230701703             0.0             0.0        0               0  "
      ]
     },
     "execution_count": 2,
     "metadata": {},
     "output_type": "execute_result"
    }
   ],
   "source": [
    "df = pd.read_csv('Fraud.csv')\n",
    "df.head()"
   ]
  },
  {
   "cell_type": "markdown",
   "id": "e3177114",
   "metadata": {},
   "source": [
    "# DataSet Analysis"
   ]
  },
  {
   "cell_type": "code",
   "execution_count": 3,
   "id": "38f6574c",
   "metadata": {
    "ExecuteTime": {
     "end_time": "2022-07-22T18:07:27.266604Z",
     "start_time": "2022-07-22T18:07:25.640445Z"
    }
   },
   "outputs": [
    {
     "name": "stdout",
     "output_type": "stream",
     "text": [
      "Number of zero in isFlaggedFraud :  (6362604, 11)\n",
      "Number of zero in isFraud :  (6354407, 11)\n"
     ]
    }
   ],
   "source": [
    "print('Number of zero in isFlaggedFraud : ',df[df['isFlaggedFraud']==0].shape)\n",
    "print('Number of zero in isFraud : ',df[df['isFraud']==0].shape)"
   ]
  },
  {
   "cell_type": "code",
   "execution_count": 4,
   "id": "9ff683e2",
   "metadata": {
    "ExecuteTime": {
     "end_time": "2022-07-22T18:07:27.297806Z",
     "start_time": "2022-07-22T18:07:27.268606Z"
    }
   },
   "outputs": [
    {
     "name": "stdout",
     "output_type": "stream",
     "text": [
      "Number of zero in isFlaggedFraud :  (16, 11)\n",
      "Number of zero in isFraud :  (8213, 11)\n"
     ]
    }
   ],
   "source": [
    "print('Number of zero in isFlaggedFraud : ',df[df['isFlaggedFraud']==1].shape)\n",
    "print('Number of zero in isFraud : ',df[df['isFraud']==1].shape)"
   ]
  },
  {
   "cell_type": "code",
   "execution_count": 5,
   "id": "054559a3",
   "metadata": {
    "ExecuteTime": {
     "end_time": "2022-07-22T18:07:28.090593Z",
     "start_time": "2022-07-22T18:07:27.299806Z"
    }
   },
   "outputs": [
    {
     "data": {
      "application/javascript": [
       "\n",
       "        if (window._pyforest_update_imports_cell) { window._pyforest_update_imports_cell('import seaborn as sns'); }\n",
       "    "
      ],
      "text/plain": [
       "<IPython.core.display.Javascript object>"
      ]
     },
     "metadata": {},
     "output_type": "display_data"
    },
    {
     "data": {
      "text/plain": [
       "(0.0, 30000.0)"
      ]
     },
     "execution_count": 5,
     "metadata": {},
     "output_type": "execute_result"
    },
    {
     "data": {
      "image/png": "[encoded data removed]",
      "text/plain": [
       "<Figure size 576x432 with 1 Axes>"
      ]
     },
     "metadata": {
      "needs_background": "light"
     },
     "output_type": "display_data"
    }
   ],
   "source": [
    "plt.figure(figsize = (8,6))\n",
    "sns.countplot(df[\"isFraud\"])\n",
    "plt.ylim(0,30000)"
   ]
  },
  {
   "cell_type": "markdown",
   "id": "5a297f73",
   "metadata": {},
   "source": [
    "## Creating numeric and catagorical DataFrame"
   ]
  },
  {
   "cell_type": "code",
   "execution_count": 6,
   "id": "29bd5281",
   "metadata": {
    "ExecuteTime": {
     "end_time": "2022-07-22T18:07:28.105593Z",
     "start_time": "2022-07-22T18:07:28.092595Z"
    }
   },
   "outputs": [],
   "source": [
    "df_num = pd.DataFrame()\n",
    "df_cat = pd.DataFrame()"
   ]
  },
  {
   "cell_type": "code",
   "execution_count": 7,
   "id": "0258f7b7",
   "metadata": {
    "ExecuteTime": {
     "end_time": "2022-07-22T18:07:29.022092Z",
     "start_time": "2022-07-22T18:07:28.106594Z"
    }
   },
   "outputs": [],
   "source": [
    "for i in df.columns:\n",
    "    if df[i].dtype == object:\n",
    "        df_cat[i] = df[i]\n",
    "    else:\n",
    "        df_num[i] = df[i]"
   ]
  },
  {
   "cell_type": "code",
   "execution_count": 8,
   "id": "34996dbf",
   "metadata": {
    "ExecuteTime": {
     "end_time": "2022-07-22T18:07:29.038015Z",
     "start_time": "2022-07-22T18:07:29.024013Z"
    }
   },
   "outputs": [
    {
     "data": {
      "text/html": [
       "<div>\n",
       "<style scoped>\n",
       "    .dataframe tbody tr th:only-of-type {\n",
       "        vertical-align: middle;\n",
       "    }\n",
       "\n",
       "    .dataframe tbody tr th {\n",
       "        vertical-align: top;\n",
       "    }\n",
       "\n",
       "    .dataframe thead th {\n",
       "        text-align: right;\n",
       "    }\n",
       "</style>\n",
       "<table border=\"1\" class=\"dataframe\">\n",
       "  <thead>\n",
       "    <tr style=\"text-align: right;\">\n",
       "      <th></th>\n",
       "      <th>type</th>\n",
       "      <th>nameOrig</th>\n",
       "      <th>nameDest</th>\n",
       "    </tr>\n",
       "  </thead>\n",
       "  <tbody>\n",
       "    <tr>\n",
       "      <th>0</th>\n",
       "      <td>PAYMENT</td>\n",
       "      <td>C1231006815</td>\n",
       "      <td>M1979787155</td>\n",
       "    </tr>\n",
       "    <tr>\n",
       "      <th>1</th>\n",
       "      <td>PAYMENT</td>\n",
       "      <td>C1666544295</td>\n",
       "      <td>M2044282225</td>\n",
       "    </tr>\n",
       "    <tr>\n",
       "      <th>2</th>\n",
       "      <td>TRANSFER</td>\n",
       "      <td>C1305486145</td>\n",
       "      <td>C553264065</td>\n",
       "    </tr>\n",
       "    <tr>\n",
       "      <th>3</th>\n",
       "      <td>CASH_OUT</td>\n",
       "      <td>C840083671</td>\n",
       "      <td>C38997010</td>\n",
       "    </tr>\n",
       "    <tr>\n",
       "      <th>4</th>\n",
       "      <td>PAYMENT</td>\n",
       "      <td>C2048537720</td>\n",
       "      <td>M1230701703</td>\n",
       "    </tr>\n",
       "  </tbody>\n",
       "</table>\n",
       "</div>"
      ],
      "text/plain": [
       "       type     nameOrig     nameDest\n",
       "0   PAYMENT  C1231006815  M1979787155\n",
       "1   PAYMENT  C1666544295  M2044282225\n",
       "2  TRANSFER  C1305486145   C553264065\n",
       "3  CASH_OUT   C840083671    C38997010\n",
       "4   PAYMENT  C2048537720  M1230701703"
      ]
     },
     "execution_count": 8,
     "metadata": {},
     "output_type": "execute_result"
    }
   ],
   "source": [
    "df_cat.head()"
   ]
  },
  {
   "cell_type": "code",
   "execution_count": 9,
   "id": "277dfa79",
   "metadata": {
    "ExecuteTime": {
     "end_time": "2022-07-22T18:07:29.068428Z",
     "start_time": "2022-07-22T18:07:29.040016Z"
    },
    "scrolled": true
   },
   "outputs": [
    {
     "data": {
      "text/html": [
       "<div>\n",
       "<style scoped>\n",
       "    .dataframe tbody tr th:only-of-type {\n",
       "        vertical-align: middle;\n",
       "    }\n",
       "\n",
       "    .dataframe tbody tr th {\n",
       "        vertical-align: top;\n",
       "    }\n",
       "\n",
       "    .dataframe thead th {\n",
       "        text-align: right;\n",
       "    }\n",
       "</style>\n",
       "<table border=\"1\" class=\"dataframe\">\n",
       "  <thead>\n",
       "    <tr style=\"text-align: right;\">\n",
       "      <th></th>\n",
       "      <th>step</th>\n",
       "      <th>amount</th>\n",
       "      <th>oldbalanceOrg</th>\n",
       "      <th>newbalanceOrig</th>\n",
       "      <th>oldbalanceDest</th>\n",
       "      <th>newbalanceDest</th>\n",
       "      <th>isFraud</th>\n",
       "      <th>isFlaggedFraud</th>\n",
       "    </tr>\n",
       "  </thead>\n",
       "  <tbody>\n",
       "    <tr>\n",
       "      <th>0</th>\n",
       "      <td>1</td>\n",
       "      <td>9839.64</td>\n",
       "      <td>170136.0</td>\n",
       "      <td>160296.36</td>\n",
       "      <td>0.0</td>\n",
       "      <td>0.0</td>\n",
       "      <td>0</td>\n",
       "      <td>0</td>\n",
       "    </tr>\n",
       "    <tr>\n",
       "      <th>1</th>\n",
       "      <td>1</td>\n",
       "      <td>1864.28</td>\n",
       "      <td>21249.0</td>\n",
       "      <td>19384.72</td>\n",
       "      <td>0.0</td>\n",
       "      <td>0.0</td>\n",
       "      <td>0</td>\n",
       "      <td>0</td>\n",
       "    </tr>\n",
       "    <tr>\n",
       "      <th>2</th>\n",
       "      <td>1</td>\n",
       "      <td>181.00</td>\n",
       "      <td>181.0</td>\n",
       "      <td>0.00</td>\n",
       "      <td>0.0</td>\n",
       "      <td>0.0</td>\n",
       "      <td>1</td>\n",
       "      <td>0</td>\n",
       "    </tr>\n",
       "    <tr>\n",
       "      <th>3</th>\n",
       "      <td>1</td>\n",
       "      <td>181.00</td>\n",
       "      <td>181.0</td>\n",
       "      <td>0.00</td>\n",
       "      <td>21182.0</td>\n",
       "      <td>0.0</td>\n",
       "      <td>1</td>\n",
       "      <td>0</td>\n",
       "    </tr>\n",
       "    <tr>\n",
       "      <th>4</th>\n",
       "      <td>1</td>\n",
       "      <td>11668.14</td>\n",
       "      <td>41554.0</td>\n",
       "      <td>29885.86</td>\n",
       "      <td>0.0</td>\n",
       "      <td>0.0</td>\n",
       "      <td>0</td>\n",
       "      <td>0</td>\n",
       "    </tr>\n",
       "  </tbody>\n",
       "</table>\n",
       "</div>"
      ],
      "text/plain": [
       "   step    amount  oldbalanceOrg  newbalanceOrig  oldbalanceDest  \\\n",
       "0     1   9839.64       170136.0       160296.36             0.0   \n",
       "1     1   1864.28        21249.0        19384.72             0.0   \n",
       "2     1    181.00          181.0            0.00             0.0   \n",
       "3     1    181.00          181.0            0.00         21182.0   \n",
       "4     1  11668.14        41554.0        29885.86             0.0   \n",
       "\n",
       "   newbalanceDest  isFraud  isFlaggedFraud  \n",
       "0             0.0        0               0  \n",
       "1             0.0        0               0  \n",
       "2             0.0        1               0  \n",
       "3             0.0        1               0  \n",
       "4             0.0        0               0  "
      ]
     },
     "execution_count": 9,
     "metadata": {},
     "output_type": "execute_result"
    }
   ],
   "source": [
    "df_num.head()"
   ]
  },
  {
   "cell_type": "markdown",
   "id": "f72f89db",
   "metadata": {},
   "source": [
    "## Analyzing Numerical Value"
   ]
  },
  {
   "cell_type": "markdown",
   "id": "2f800b98",
   "metadata": {},
   "source": [
    "### Checking Null value in DataFrame"
   ]
  },
  {
   "cell_type": "code",
   "execution_count": 10,
   "id": "425c7126",
   "metadata": {
    "ExecuteTime": {
     "end_time": "2022-07-22T18:07:32.026585Z",
     "start_time": "2022-07-22T18:07:29.073149Z"
    }
   },
   "outputs": [
    {
     "name": "stdout",
     "output_type": "stream",
     "text": [
      "type        0\n",
      "nameOrig    0\n",
      "nameDest    0\n",
      "dtype: int64\n"
     ]
    }
   ],
   "source": [
    "print(df_cat.isnull().sum())\n",
    "# snb.heatmap(df_cat.isnull())"
   ]
  },
  {
   "cell_type": "code",
   "execution_count": 11,
   "id": "6c1646bc",
   "metadata": {
    "ExecuteTime": {
     "end_time": "2022-07-22T18:07:32.135659Z",
     "start_time": "2022-07-22T18:07:32.028587Z"
    }
   },
   "outputs": [
    {
     "name": "stdout",
     "output_type": "stream",
     "text": [
      "step              0\n",
      "amount            0\n",
      "oldbalanceOrg     0\n",
      "newbalanceOrig    0\n",
      "oldbalanceDest    0\n",
      "newbalanceDest    0\n",
      "isFraud           0\n",
      "isFlaggedFraud    0\n",
      "dtype: int64\n"
     ]
    }
   ],
   "source": [
    "print(df_num.isnull().sum())\n",
    "# snb.heatmap(df_num.isnull())"
   ]
  },
  {
   "cell_type": "markdown",
   "id": "b43eca24",
   "metadata": {},
   "source": [
    "### Finding out the correlation in numerical dataset"
   ]
  },
  {
   "cell_type": "code",
   "execution_count": 12,
   "id": "3e3cbcd2",
   "metadata": {
    "ExecuteTime": {
     "end_time": "2022-07-22T18:07:34.262675Z",
     "start_time": "2022-07-22T18:07:32.137659Z"
    }
   },
   "outputs": [
    {
     "data": {
      "text/plain": [
       "<AxesSubplot:>"
      ]
     },
     "execution_count": 12,
     "metadata": {},
     "output_type": "execute_result"
    },
    {
     "data": {
      "image/png": "[encoded data removed]",
      "text/plain": [
       "<Figure size 720x576 with 2 Axes>"
      ]
     },
     "metadata": {
      "needs_background": "light"
     },
     "output_type": "display_data"
    }
   ],
   "source": [
    "cr = df_num.corr()\n",
    "plt.figure(figsize=(10,8))\n",
    "snb.heatmap(cr,annot=True)"
   ]
  },
  {
   "cell_type": "markdown",
   "id": "57dae077",
   "metadata": {},
   "source": [
    "### Data Sepeartion"
   ]
  },
  {
   "cell_type": "code",
   "execution_count": 13,
   "id": "ec407aaa",
   "metadata": {
    "ExecuteTime": {
     "end_time": "2022-07-22T18:07:34.588760Z",
     "start_time": "2022-07-22T18:07:34.264674Z"
    }
   },
   "outputs": [
    {
     "data": {
      "text/html": [
       "<div>\n",
       "<style scoped>\n",
       "    .dataframe tbody tr th:only-of-type {\n",
       "        vertical-align: middle;\n",
       "    }\n",
       "\n",
       "    .dataframe tbody tr th {\n",
       "        vertical-align: top;\n",
       "    }\n",
       "\n",
       "    .dataframe thead th {\n",
       "        text-align: right;\n",
       "    }\n",
       "</style>\n",
       "<table border=\"1\" class=\"dataframe\">\n",
       "  <thead>\n",
       "    <tr style=\"text-align: right;\">\n",
       "      <th></th>\n",
       "      <th>step</th>\n",
       "      <th>amount</th>\n",
       "      <th>oldbalanceOrg</th>\n",
       "      <th>newbalanceOrig</th>\n",
       "      <th>oldbalanceDest</th>\n",
       "      <th>newbalanceDest</th>\n",
       "      <th>isFlaggedFraud</th>\n",
       "    </tr>\n",
       "  </thead>\n",
       "  <tbody>\n",
       "    <tr>\n",
       "      <th>0</th>\n",
       "      <td>1</td>\n",
       "      <td>9839.64</td>\n",
       "      <td>170136.0</td>\n",
       "      <td>160296.36</td>\n",
       "      <td>0.0</td>\n",
       "      <td>0.0</td>\n",
       "      <td>0</td>\n",
       "    </tr>\n",
       "    <tr>\n",
       "      <th>1</th>\n",
       "      <td>1</td>\n",
       "      <td>1864.28</td>\n",
       "      <td>21249.0</td>\n",
       "      <td>19384.72</td>\n",
       "      <td>0.0</td>\n",
       "      <td>0.0</td>\n",
       "      <td>0</td>\n",
       "    </tr>\n",
       "    <tr>\n",
       "      <th>2</th>\n",
       "      <td>1</td>\n",
       "      <td>181.00</td>\n",
       "      <td>181.0</td>\n",
       "      <td>0.00</td>\n",
       "      <td>0.0</td>\n",
       "      <td>0.0</td>\n",
       "      <td>0</td>\n",
       "    </tr>\n",
       "    <tr>\n",
       "      <th>3</th>\n",
       "      <td>1</td>\n",
       "      <td>181.00</td>\n",
       "      <td>181.0</td>\n",
       "      <td>0.00</td>\n",
       "      <td>21182.0</td>\n",
       "      <td>0.0</td>\n",
       "      <td>0</td>\n",
       "    </tr>\n",
       "    <tr>\n",
       "      <th>4</th>\n",
       "      <td>1</td>\n",
       "      <td>11668.14</td>\n",
       "      <td>41554.0</td>\n",
       "      <td>29885.86</td>\n",
       "      <td>0.0</td>\n",
       "      <td>0.0</td>\n",
       "      <td>0</td>\n",
       "    </tr>\n",
       "  </tbody>\n",
       "</table>\n",
       "</div>"
      ],
      "text/plain": [
       "   step    amount  oldbalanceOrg  newbalanceOrig  oldbalanceDest  \\\n",
       "0     1   9839.64       170136.0       160296.36             0.0   \n",
       "1     1   1864.28        21249.0        19384.72             0.0   \n",
       "2     1    181.00          181.0            0.00             0.0   \n",
       "3     1    181.00          181.0            0.00         21182.0   \n",
       "4     1  11668.14        41554.0        29885.86             0.0   \n",
       "\n",
       "   newbalanceDest  isFlaggedFraud  \n",
       "0             0.0               0  \n",
       "1             0.0               0  \n",
       "2             0.0               0  \n",
       "3             0.0               0  \n",
       "4             0.0               0  "
      ]
     },
     "execution_count": 13,
     "metadata": {},
     "output_type": "execute_result"
    }
   ],
   "source": [
    "inputs = df_num.drop(['isFraud'],axis='columns')\n",
    "inputs.head()"
   ]
  },
  {
   "cell_type": "code",
   "execution_count": 14,
   "id": "9bec4cc8",
   "metadata": {
    "ExecuteTime": {
     "end_time": "2022-07-22T18:07:34.604632Z",
     "start_time": "2022-07-22T18:07:34.590762Z"
    }
   },
   "outputs": [
    {
     "data": {
      "text/plain": [
       "0    0\n",
       "1    0\n",
       "2    1\n",
       "3    1\n",
       "4    0\n",
       "Name: isFraud, dtype: int64"
      ]
     },
     "execution_count": 14,
     "metadata": {},
     "output_type": "execute_result"
    }
   ],
   "source": [
    "target = df_num['isFraud']\n",
    "target.head()"
   ]
  },
  {
   "cell_type": "markdown",
   "id": "82da5ae0",
   "metadata": {
    "ExecuteTime": {
     "end_time": "2022-07-20T22:22:47.930032Z",
     "start_time": "2022-07-20T22:22:47.851454Z"
    }
   },
   "source": [
    "### Outlier detection and correction"
   ]
  },
  {
   "cell_type": "code",
   "execution_count": 15,
   "id": "f6a5292a",
   "metadata": {
    "ExecuteTime": {
     "end_time": "2022-07-22T18:07:34.620691Z",
     "start_time": "2022-07-22T18:07:34.605633Z"
    }
   },
   "outputs": [],
   "source": [
    "def outlier(df,ft):\n",
    "    q1 = df[ft].quantile(0.25)\n",
    "    q3 = df[ft].quantile(0.75)\n",
    "    iqr = q3 - q1\n",
    "    lower = q1 - 1.5*iqr\n",
    "    upper = q3 + 1.5*iqr\n",
    "    \n",
    "    lst = df.index[(df[ft]<lower)|df[ft]>upper]\n",
    "    \n",
    "#     mean = df[ft].mean()\n",
    "#     for i in lst:\n",
    "#         df[ft].loc[i] = mean\n",
    "    return lst"
   ]
  },
  {
   "cell_type": "markdown",
   "id": "5308559f",
   "metadata": {},
   "source": [
    "### Outlier Index"
   ]
  },
  {
   "cell_type": "code",
   "execution_count": 16,
   "id": "bea190f2",
   "metadata": {
    "ExecuteTime": {
     "end_time": "2022-07-22T18:07:36.170125Z",
     "start_time": "2022-07-22T18:07:34.622692Z"
    },
    "scrolled": true
   },
   "outputs": [
    {
     "data": {
      "text/plain": [
       "[2736446,\n",
       " 3247297,\n",
       " 3760288,\n",
       " 5563713,\n",
       " 5996407,\n",
       " 5996409,\n",
       " 6168499,\n",
       " 6205439,\n",
       " 6266413,\n",
       " 6281482,\n",
       " 6281484,\n",
       " 6296014,\n",
       " 6351225,\n",
       " 6362460,\n",
       " 6362462,\n",
       " 6362584]"
      ]
     },
     "execution_count": 16,
     "metadata": {},
     "output_type": "execute_result"
    }
   ],
   "source": [
    "df_lst = []\n",
    "for i in inputs.columns:\n",
    "    df_lst.extend(outlier(inputs,i))\n",
    "df_lst"
   ]
  },
  {
   "cell_type": "code",
   "execution_count": 17,
   "id": "c81616d3",
   "metadata": {
    "ExecuteTime": {
     "end_time": "2022-07-22T18:07:36.185767Z",
     "start_time": "2022-07-22T18:07:36.172077Z"
    }
   },
   "outputs": [
    {
     "data": {
      "text/html": [
       "<div>\n",
       "<style scoped>\n",
       "    .dataframe tbody tr th:only-of-type {\n",
       "        vertical-align: middle;\n",
       "    }\n",
       "\n",
       "    .dataframe tbody tr th {\n",
       "        vertical-align: top;\n",
       "    }\n",
       "\n",
       "    .dataframe thead th {\n",
       "        text-align: right;\n",
       "    }\n",
       "</style>\n",
       "<table border=\"1\" class=\"dataframe\">\n",
       "  <thead>\n",
       "    <tr style=\"text-align: right;\">\n",
       "      <th></th>\n",
       "      <th>step</th>\n",
       "      <th>amount</th>\n",
       "      <th>oldbalanceOrg</th>\n",
       "      <th>newbalanceOrig</th>\n",
       "      <th>oldbalanceDest</th>\n",
       "      <th>newbalanceDest</th>\n",
       "      <th>isFlaggedFraud</th>\n",
       "    </tr>\n",
       "  </thead>\n",
       "  <tbody>\n",
       "    <tr>\n",
       "      <th>0</th>\n",
       "      <td>1</td>\n",
       "      <td>9839.64</td>\n",
       "      <td>170136.0</td>\n",
       "      <td>160296.36</td>\n",
       "      <td>0.0</td>\n",
       "      <td>0.0</td>\n",
       "      <td>0.0</td>\n",
       "    </tr>\n",
       "    <tr>\n",
       "      <th>1</th>\n",
       "      <td>1</td>\n",
       "      <td>1864.28</td>\n",
       "      <td>21249.0</td>\n",
       "      <td>19384.72</td>\n",
       "      <td>0.0</td>\n",
       "      <td>0.0</td>\n",
       "      <td>0.0</td>\n",
       "    </tr>\n",
       "    <tr>\n",
       "      <th>2</th>\n",
       "      <td>1</td>\n",
       "      <td>181.00</td>\n",
       "      <td>181.0</td>\n",
       "      <td>0.00</td>\n",
       "      <td>0.0</td>\n",
       "      <td>0.0</td>\n",
       "      <td>0.0</td>\n",
       "    </tr>\n",
       "    <tr>\n",
       "      <th>3</th>\n",
       "      <td>1</td>\n",
       "      <td>181.00</td>\n",
       "      <td>181.0</td>\n",
       "      <td>0.00</td>\n",
       "      <td>21182.0</td>\n",
       "      <td>0.0</td>\n",
       "      <td>0.0</td>\n",
       "    </tr>\n",
       "    <tr>\n",
       "      <th>4</th>\n",
       "      <td>1</td>\n",
       "      <td>11668.14</td>\n",
       "      <td>41554.0</td>\n",
       "      <td>29885.86</td>\n",
       "      <td>0.0</td>\n",
       "      <td>0.0</td>\n",
       "      <td>0.0</td>\n",
       "    </tr>\n",
       "  </tbody>\n",
       "</table>\n",
       "</div>"
      ],
      "text/plain": [
       "   step    amount  oldbalanceOrg  newbalanceOrig  oldbalanceDest  \\\n",
       "0     1   9839.64       170136.0       160296.36             0.0   \n",
       "1     1   1864.28        21249.0        19384.72             0.0   \n",
       "2     1    181.00          181.0            0.00             0.0   \n",
       "3     1    181.00          181.0            0.00         21182.0   \n",
       "4     1  11668.14        41554.0        29885.86             0.0   \n",
       "\n",
       "   newbalanceDest  isFlaggedFraud  \n",
       "0             0.0             0.0  \n",
       "1             0.0             0.0  \n",
       "2             0.0             0.0  \n",
       "3             0.0             0.0  \n",
       "4             0.0             0.0  "
      ]
     },
     "execution_count": 17,
     "metadata": {},
     "output_type": "execute_result"
    }
   ],
   "source": [
    "inputs.head()"
   ]
  },
  {
   "cell_type": "markdown",
   "id": "2cb2446b",
   "metadata": {},
   "source": [
    "## Analyzing Catagorical Value"
   ]
  },
  {
   "cell_type": "code",
   "execution_count": 18,
   "id": "d857a5a2",
   "metadata": {
    "ExecuteTime": {
     "end_time": "2022-07-22T18:07:36.200799Z",
     "start_time": "2022-07-22T18:07:36.186768Z"
    }
   },
   "outputs": [
    {
     "data": {
      "text/html": [
       "<div>\n",
       "<style scoped>\n",
       "    .dataframe tbody tr th:only-of-type {\n",
       "        vertical-align: middle;\n",
       "    }\n",
       "\n",
       "    .dataframe tbody tr th {\n",
       "        vertical-align: top;\n",
       "    }\n",
       "\n",
       "    .dataframe thead th {\n",
       "        text-align: right;\n",
       "    }\n",
       "</style>\n",
       "<table border=\"1\" class=\"dataframe\">\n",
       "  <thead>\n",
       "    <tr style=\"text-align: right;\">\n",
       "      <th></th>\n",
       "      <th>type</th>\n",
       "      <th>nameOrig</th>\n",
       "      <th>nameDest</th>\n",
       "    </tr>\n",
       "  </thead>\n",
       "  <tbody>\n",
       "    <tr>\n",
       "      <th>0</th>\n",
       "      <td>PAYMENT</td>\n",
       "      <td>C1231006815</td>\n",
       "      <td>M1979787155</td>\n",
       "    </tr>\n",
       "    <tr>\n",
       "      <th>1</th>\n",
       "      <td>PAYMENT</td>\n",
       "      <td>C1666544295</td>\n",
       "      <td>M2044282225</td>\n",
       "    </tr>\n",
       "    <tr>\n",
       "      <th>2</th>\n",
       "      <td>TRANSFER</td>\n",
       "      <td>C1305486145</td>\n",
       "      <td>C553264065</td>\n",
       "    </tr>\n",
       "    <tr>\n",
       "      <th>3</th>\n",
       "      <td>CASH_OUT</td>\n",
       "      <td>C840083671</td>\n",
       "      <td>C38997010</td>\n",
       "    </tr>\n",
       "    <tr>\n",
       "      <th>4</th>\n",
       "      <td>PAYMENT</td>\n",
       "      <td>C2048537720</td>\n",
       "      <td>M1230701703</td>\n",
       "    </tr>\n",
       "  </tbody>\n",
       "</table>\n",
       "</div>"
      ],
      "text/plain": [
       "       type     nameOrig     nameDest\n",
       "0   PAYMENT  C1231006815  M1979787155\n",
       "1   PAYMENT  C1666544295  M2044282225\n",
       "2  TRANSFER  C1305486145   C553264065\n",
       "3  CASH_OUT   C840083671    C38997010\n",
       "4   PAYMENT  C2048537720  M1230701703"
      ]
     },
     "execution_count": 18,
     "metadata": {},
     "output_type": "execute_result"
    }
   ],
   "source": [
    "df_cat.head()"
   ]
  },
  {
   "cell_type": "markdown",
   "id": "7b36dc6d",
   "metadata": {},
   "source": [
    "### Data Filtering"
   ]
  },
  {
   "cell_type": "code",
   "execution_count": 19,
   "id": "28dcf2e1",
   "metadata": {
    "ExecuteTime": {
     "end_time": "2022-07-22T18:07:36.666562Z",
     "start_time": "2022-07-22T18:07:36.202767Z"
    }
   },
   "outputs": [
    {
     "data": {
      "text/html": [
       "<div>\n",
       "<style scoped>\n",
       "    .dataframe tbody tr th:only-of-type {\n",
       "        vertical-align: middle;\n",
       "    }\n",
       "\n",
       "    .dataframe tbody tr th {\n",
       "        vertical-align: top;\n",
       "    }\n",
       "\n",
       "    .dataframe thead th {\n",
       "        text-align: right;\n",
       "    }\n",
       "</style>\n",
       "<table border=\"1\" class=\"dataframe\">\n",
       "  <thead>\n",
       "    <tr style=\"text-align: right;\">\n",
       "      <th></th>\n",
       "      <th>type</th>\n",
       "    </tr>\n",
       "  </thead>\n",
       "  <tbody>\n",
       "    <tr>\n",
       "      <th>0</th>\n",
       "      <td>PAYMENT</td>\n",
       "    </tr>\n",
       "    <tr>\n",
       "      <th>1</th>\n",
       "      <td>PAYMENT</td>\n",
       "    </tr>\n",
       "    <tr>\n",
       "      <th>2</th>\n",
       "      <td>TRANSFER</td>\n",
       "    </tr>\n",
       "    <tr>\n",
       "      <th>3</th>\n",
       "      <td>CASH_OUT</td>\n",
       "    </tr>\n",
       "    <tr>\n",
       "      <th>4</th>\n",
       "      <td>PAYMENT</td>\n",
       "    </tr>\n",
       "  </tbody>\n",
       "</table>\n",
       "</div>"
      ],
      "text/plain": [
       "       type\n",
       "0   PAYMENT\n",
       "1   PAYMENT\n",
       "2  TRANSFER\n",
       "3  CASH_OUT\n",
       "4   PAYMENT"
      ]
     },
     "execution_count": 19,
     "metadata": {},
     "output_type": "execute_result"
    }
   ],
   "source": [
    "cat_input = df_cat.drop(['nameOrig','nameDest'],axis='columns')\n",
    "cat_input.head()"
   ]
  },
  {
   "cell_type": "markdown",
   "id": "59f53e32",
   "metadata": {},
   "source": [
    "### Label Encoding"
   ]
  },
  {
   "cell_type": "code",
   "execution_count": 20,
   "id": "04e21352",
   "metadata": {
    "ExecuteTime": {
     "end_time": "2022-07-22T18:07:36.820755Z",
     "start_time": "2022-07-22T18:07:36.668562Z"
    }
   },
   "outputs": [],
   "source": [
    "from sklearn.preprocessing import LabelEncoder"
   ]
  },
  {
   "cell_type": "code",
   "execution_count": 21,
   "id": "bf9cfc19",
   "metadata": {
    "ExecuteTime": {
     "end_time": "2022-07-22T18:07:38.211614Z",
     "start_time": "2022-07-22T18:07:36.822756Z"
    }
   },
   "outputs": [
    {
     "data": {
      "text/html": [
       "<div>\n",
       "<style scoped>\n",
       "    .dataframe tbody tr th:only-of-type {\n",
       "        vertical-align: middle;\n",
       "    }\n",
       "\n",
       "    .dataframe tbody tr th {\n",
       "        vertical-align: top;\n",
       "    }\n",
       "\n",
       "    .dataframe thead th {\n",
       "        text-align: right;\n",
       "    }\n",
       "</style>\n",
       "<table border=\"1\" class=\"dataframe\">\n",
       "  <thead>\n",
       "    <tr style=\"text-align: right;\">\n",
       "      <th></th>\n",
       "      <th>type</th>\n",
       "    </tr>\n",
       "  </thead>\n",
       "  <tbody>\n",
       "    <tr>\n",
       "      <th>0</th>\n",
       "      <td>3</td>\n",
       "    </tr>\n",
       "    <tr>\n",
       "      <th>1</th>\n",
       "      <td>3</td>\n",
       "    </tr>\n",
       "    <tr>\n",
       "      <th>2</th>\n",
       "      <td>4</td>\n",
       "    </tr>\n",
       "    <tr>\n",
       "      <th>3</th>\n",
       "      <td>1</td>\n",
       "    </tr>\n",
       "    <tr>\n",
       "      <th>4</th>\n",
       "      <td>3</td>\n",
       "    </tr>\n",
       "  </tbody>\n",
       "</table>\n",
       "</div>"
      ],
      "text/plain": [
       "   type\n",
       "0     3\n",
       "1     3\n",
       "2     4\n",
       "3     1\n",
       "4     3"
      ]
     },
     "execution_count": 21,
     "metadata": {},
     "output_type": "execute_result"
    }
   ],
   "source": [
    "le = LabelEncoder()\n",
    "cat_input['type'] = le.fit_transform(cat_input['type'])\n",
    "cat_input.head()"
   ]
  },
  {
   "cell_type": "markdown",
   "id": "5453c6dd",
   "metadata": {},
   "source": [
    "### Concatinating Numerical and Catagorical Value"
   ]
  },
  {
   "cell_type": "code",
   "execution_count": 22,
   "id": "0b2a2645",
   "metadata": {
    "ExecuteTime": {
     "end_time": "2022-07-22T18:07:38.306021Z",
     "start_time": "2022-07-22T18:07:38.213615Z"
    }
   },
   "outputs": [
    {
     "data": {
      "text/html": [
       "<div>\n",
       "<style scoped>\n",
       "    .dataframe tbody tr th:only-of-type {\n",
       "        vertical-align: middle;\n",
       "    }\n",
       "\n",
       "    .dataframe tbody tr th {\n",
       "        vertical-align: top;\n",
       "    }\n",
       "\n",
       "    .dataframe thead th {\n",
       "        text-align: right;\n",
       "    }\n",
       "</style>\n",
       "<table border=\"1\" class=\"dataframe\">\n",
       "  <thead>\n",
       "    <tr style=\"text-align: right;\">\n",
       "      <th></th>\n",
       "      <th>step</th>\n",
       "      <th>amount</th>\n",
       "      <th>oldbalanceOrg</th>\n",
       "      <th>newbalanceOrig</th>\n",
       "      <th>oldbalanceDest</th>\n",
       "      <th>newbalanceDest</th>\n",
       "      <th>isFlaggedFraud</th>\n",
       "      <th>type</th>\n",
       "    </tr>\n",
       "  </thead>\n",
       "  <tbody>\n",
       "    <tr>\n",
       "      <th>0</th>\n",
       "      <td>1</td>\n",
       "      <td>9839.64</td>\n",
       "      <td>170136.0</td>\n",
       "      <td>160296.36</td>\n",
       "      <td>0.0</td>\n",
       "      <td>0.0</td>\n",
       "      <td>0.0</td>\n",
       "      <td>3</td>\n",
       "    </tr>\n",
       "    <tr>\n",
       "      <th>1</th>\n",
       "      <td>1</td>\n",
       "      <td>1864.28</td>\n",
       "      <td>21249.0</td>\n",
       "      <td>19384.72</td>\n",
       "      <td>0.0</td>\n",
       "      <td>0.0</td>\n",
       "      <td>0.0</td>\n",
       "      <td>3</td>\n",
       "    </tr>\n",
       "    <tr>\n",
       "      <th>2</th>\n",
       "      <td>1</td>\n",
       "      <td>181.00</td>\n",
       "      <td>181.0</td>\n",
       "      <td>0.00</td>\n",
       "      <td>0.0</td>\n",
       "      <td>0.0</td>\n",
       "      <td>0.0</td>\n",
       "      <td>4</td>\n",
       "    </tr>\n",
       "    <tr>\n",
       "      <th>3</th>\n",
       "      <td>1</td>\n",
       "      <td>181.00</td>\n",
       "      <td>181.0</td>\n",
       "      <td>0.00</td>\n",
       "      <td>21182.0</td>\n",
       "      <td>0.0</td>\n",
       "      <td>0.0</td>\n",
       "      <td>1</td>\n",
       "    </tr>\n",
       "    <tr>\n",
       "      <th>4</th>\n",
       "      <td>1</td>\n",
       "      <td>11668.14</td>\n",
       "      <td>41554.0</td>\n",
       "      <td>29885.86</td>\n",
       "      <td>0.0</td>\n",
       "      <td>0.0</td>\n",
       "      <td>0.0</td>\n",
       "      <td>3</td>\n",
       "    </tr>\n",
       "  </tbody>\n",
       "</table>\n",
       "</div>"
      ],
      "text/plain": [
       "   step    amount  oldbalanceOrg  newbalanceOrig  oldbalanceDest  \\\n",
       "0     1   9839.64       170136.0       160296.36             0.0   \n",
       "1     1   1864.28        21249.0        19384.72             0.0   \n",
       "2     1    181.00          181.0            0.00             0.0   \n",
       "3     1    181.00          181.0            0.00         21182.0   \n",
       "4     1  11668.14        41554.0        29885.86             0.0   \n",
       "\n",
       "   newbalanceDest  isFlaggedFraud  type  \n",
       "0             0.0             0.0     3  \n",
       "1             0.0             0.0     3  \n",
       "2             0.0             0.0     4  \n",
       "3             0.0             0.0     1  \n",
       "4             0.0             0.0     3  "
      ]
     },
     "execution_count": 22,
     "metadata": {},
     "output_type": "execute_result"
    }
   ],
   "source": [
    "inputs = pd.concat([inputs,cat_input],axis='columns')\n",
    "inputs.head()"
   ]
  },
  {
   "cell_type": "markdown",
   "id": "942e2737",
   "metadata": {},
   "source": [
    "# Selcting K Best value"
   ]
  },
  {
   "cell_type": "code",
   "execution_count": 23,
   "id": "10bf646e",
   "metadata": {
    "ExecuteTime": {
     "end_time": "2022-07-22T18:07:38.320926Z",
     "start_time": "2022-07-22T18:07:38.308022Z"
    }
   },
   "outputs": [],
   "source": [
    "# from sklearn.feature_selection import SelectKBest\n",
    "# from sklearn.feature_selection import chi2"
   ]
  },
  {
   "cell_type": "code",
   "execution_count": 24,
   "id": "8e8dd3ce",
   "metadata": {
    "ExecuteTime": {
     "end_time": "2022-07-22T18:07:38.335895Z",
     "start_time": "2022-07-22T18:07:38.322904Z"
    }
   },
   "outputs": [],
   "source": [
    "# df_x = SelectKBest(chi2,10).fit_transform(inputs,target)"
   ]
  },
  {
   "cell_type": "markdown",
   "id": "19754b68",
   "metadata": {},
   "source": [
    "# Training And Testing"
   ]
  },
  {
   "cell_type": "code",
   "execution_count": 25,
   "id": "7f7bc96f",
   "metadata": {
    "ExecuteTime": {
     "end_time": "2022-07-22T18:07:38.381762Z",
     "start_time": "2022-07-22T18:07:38.336896Z"
    }
   },
   "outputs": [],
   "source": [
    "from sklearn.model_selection import train_test_split"
   ]
  },
  {
   "cell_type": "code",
   "execution_count": 26,
   "id": "f736672a",
   "metadata": {
    "ExecuteTime": {
     "end_time": "2022-07-22T18:07:41.054086Z",
     "start_time": "2022-07-22T18:07:38.383721Z"
    }
   },
   "outputs": [],
   "source": [
    "xtrain,xtest,ytrain,ytest = train_test_split(inputs,target,test_size=0.3,random_state=10)"
   ]
  },
  {
   "cell_type": "code",
   "execution_count": 27,
   "id": "fa004741",
   "metadata": {
    "ExecuteTime": {
     "end_time": "2022-07-22T18:07:41.131703Z",
     "start_time": "2022-07-22T18:07:41.057088Z"
    }
   },
   "outputs": [],
   "source": [
    "from sklearn.linear_model import LogisticRegression\n",
    "model = LogisticRegression()"
   ]
  },
  {
   "cell_type": "code",
   "execution_count": 28,
   "id": "c70ad83d",
   "metadata": {
    "ExecuteTime": {
     "end_time": "2022-07-22T18:08:26.515776Z",
     "start_time": "2022-07-22T18:07:41.138706Z"
    }
   },
   "outputs": [
    {
     "data": {
      "text/plain": [
       "LogisticRegression()"
      ]
     },
     "execution_count": 28,
     "metadata": {},
     "output_type": "execute_result"
    }
   ],
   "source": [
    "model.fit(xtrain,ytrain)"
   ]
  },
  {
   "cell_type": "code",
   "execution_count": 29,
   "id": "1a572bb2",
   "metadata": {
    "ExecuteTime": {
     "end_time": "2022-07-22T18:08:26.752568Z",
     "start_time": "2022-07-22T18:08:26.517778Z"
    }
   },
   "outputs": [
    {
     "data": {
      "text/plain": [
       "0.9982449577899252"
      ]
     },
     "execution_count": 29,
     "metadata": {},
     "output_type": "execute_result"
    }
   ],
   "source": [
    "model.score(xtest,ytest)"
   ]
  },
  {
   "cell_type": "markdown",
   "id": "b08782ac",
   "metadata": {},
   "source": [
    "# Confusion Matrix"
   ]
  },
  {
   "cell_type": "code",
   "execution_count": 30,
   "id": "929c1b08",
   "metadata": {
    "ExecuteTime": {
     "end_time": "2022-07-22T18:08:27.102006Z",
     "start_time": "2022-07-22T18:08:26.754570Z"
    }
   },
   "outputs": [],
   "source": [
    "from sklearn.metrics import confusion_matrix\n",
    "cm = confusion_matrix(ytest,model.predict(xtest))"
   ]
  },
  {
   "cell_type": "code",
   "execution_count": 31,
   "id": "8a8c1386",
   "metadata": {
    "ExecuteTime": {
     "end_time": "2022-07-22T18:08:27.304498Z",
     "start_time": "2022-07-22T18:08:27.103944Z"
    }
   },
   "outputs": [
    {
     "data": {
      "text/plain": [
       "<AxesSubplot:>"
      ]
     },
     "execution_count": 31,
     "metadata": {},
     "output_type": "execute_result"
    },
    {
     "data": {
      "image/png": "[encoded data removed]",
      "text/plain": [
       "<Figure size 576x432 with 2 Axes>"
      ]
     },
     "metadata": {
      "needs_background": "light"
     },
     "output_type": "display_data"
    }
   ],
   "source": [
    "plt.figure(figsize=(8,6))\n",
    "snb.heatmap(cm,annot=True)"
   ]
  },
  {
   "cell_type": "code",
   "execution_count": 32,
   "id": "4074a12c",
   "metadata": {
    "ExecuteTime": {
     "end_time": "2022-07-22T18:08:27.319482Z",
     "start_time": "2022-07-22T18:08:27.306498Z"
    }
   },
   "outputs": [],
   "source": [
    "# In this model due to data imbalance the accuracy of model become very high.\n",
    "#Hence we need to Under Sample the Data To reduce it"
   ]
  },
  {
   "cell_type": "markdown",
   "id": "981b4055",
   "metadata": {},
   "source": [
    "# Reducing Data Imbalance"
   ]
  },
  {
   "cell_type": "markdown",
   "id": "9b35e0e5",
   "metadata": {},
   "source": [
    "## Again Importing DataSet"
   ]
  },
  {
   "cell_type": "code",
   "execution_count": 33,
   "id": "d0e4677f",
   "metadata": {
    "ExecuteTime": {
     "end_time": "2022-07-22T18:08:38.843975Z",
     "start_time": "2022-07-22T18:08:27.321482Z"
    }
   },
   "outputs": [
    {
     "data": {
      "text/html": [
       "<div>\n",
       "<style scoped>\n",
       "    .dataframe tbody tr th:only-of-type {\n",
       "        vertical-align: middle;\n",
       "    }\n",
       "\n",
       "    .dataframe tbody tr th {\n",
       "        vertical-align: top;\n",
       "    }\n",
       "\n",
       "    .dataframe thead th {\n",
       "        text-align: right;\n",
       "    }\n",
       "</style>\n",
       "<table border=\"1\" class=\"dataframe\">\n",
       "  <thead>\n",
       "    <tr style=\"text-align: right;\">\n",
       "      <th></th>\n",
       "      <th>step</th>\n",
       "      <th>type</th>\n",
       "      <th>amount</th>\n",
       "      <th>nameOrig</th>\n",
       "      <th>oldbalanceOrg</th>\n",
       "      <th>newbalanceOrig</th>\n",
       "      <th>nameDest</th>\n",
       "      <th>oldbalanceDest</th>\n",
       "      <th>newbalanceDest</th>\n",
       "      <th>isFraud</th>\n",
       "      <th>isFlaggedFraud</th>\n",
       "    </tr>\n",
       "  </thead>\n",
       "  <tbody>\n",
       "    <tr>\n",
       "      <th>0</th>\n",
       "      <td>1</td>\n",
       "      <td>PAYMENT</td>\n",
       "      <td>9839.64</td>\n",
       "      <td>C1231006815</td>\n",
       "      <td>170136.0</td>\n",
       "      <td>160296.36</td>\n",
       "      <td>M1979787155</td>\n",
       "      <td>0.0</td>\n",
       "      <td>0.0</td>\n",
       "      <td>0</td>\n",
       "      <td>0</td>\n",
       "    </tr>\n",
       "    <tr>\n",
       "      <th>1</th>\n",
       "      <td>1</td>\n",
       "      <td>PAYMENT</td>\n",
       "      <td>1864.28</td>\n",
       "      <td>C1666544295</td>\n",
       "      <td>21249.0</td>\n",
       "      <td>19384.72</td>\n",
       "      <td>M2044282225</td>\n",
       "      <td>0.0</td>\n",
       "      <td>0.0</td>\n",
       "      <td>0</td>\n",
       "      <td>0</td>\n",
       "    </tr>\n",
       "    <tr>\n",
       "      <th>2</th>\n",
       "      <td>1</td>\n",
       "      <td>TRANSFER</td>\n",
       "      <td>181.00</td>\n",
       "      <td>C1305486145</td>\n",
       "      <td>181.0</td>\n",
       "      <td>0.00</td>\n",
       "      <td>C553264065</td>\n",
       "      <td>0.0</td>\n",
       "      <td>0.0</td>\n",
       "      <td>1</td>\n",
       "      <td>0</td>\n",
       "    </tr>\n",
       "    <tr>\n",
       "      <th>3</th>\n",
       "      <td>1</td>\n",
       "      <td>CASH_OUT</td>\n",
       "      <td>181.00</td>\n",
       "      <td>C840083671</td>\n",
       "      <td>181.0</td>\n",
       "      <td>0.00</td>\n",
       "      <td>C38997010</td>\n",
       "      <td>21182.0</td>\n",
       "      <td>0.0</td>\n",
       "      <td>1</td>\n",
       "      <td>0</td>\n",
       "    </tr>\n",
       "    <tr>\n",
       "      <th>4</th>\n",
       "      <td>1</td>\n",
       "      <td>PAYMENT</td>\n",
       "      <td>11668.14</td>\n",
       "      <td>C2048537720</td>\n",
       "      <td>41554.0</td>\n",
       "      <td>29885.86</td>\n",
       "      <td>M1230701703</td>\n",
       "      <td>0.0</td>\n",
       "      <td>0.0</td>\n",
       "      <td>0</td>\n",
       "      <td>0</td>\n",
       "    </tr>\n",
       "  </tbody>\n",
       "</table>\n",
       "</div>"
      ],
      "text/plain": [
       "   step      type    amount     nameOrig  oldbalanceOrg  newbalanceOrig  \\\n",
       "0     1   PAYMENT   9839.64  C1231006815       170136.0       160296.36   \n",
       "1     1   PAYMENT   1864.28  C1666544295        21249.0        19384.72   \n",
       "2     1  TRANSFER    181.00  C1305486145          181.0            0.00   \n",
       "3     1  CASH_OUT    181.00   C840083671          181.0            0.00   \n",
       "4     1   PAYMENT  11668.14  C2048537720        41554.0        29885.86   \n",
       "\n",
       "      nameDest  oldbalanceDest  newbalanceDest  isFraud  isFlaggedFraud  \n",
       "0  M1979787155             0.0             0.0        0               0  \n",
       "1  M2044282225             0.0             0.0        0               0  \n",
       "2   C553264065             0.0             0.0        1               0  \n",
       "3    C38997010         21182.0             0.0        1               0  \n",
       "4  M1230701703             0.0             0.0        0               0  "
      ]
     },
     "execution_count": 33,
     "metadata": {},
     "output_type": "execute_result"
    }
   ],
   "source": [
    "df = pd.read_csv('Fraud.csv')\n",
    "df.head()"
   ]
  },
  {
   "cell_type": "markdown",
   "id": "14b4de6b",
   "metadata": {},
   "source": [
    "## Finding Less Usefull Type "
   ]
  },
  {
   "cell_type": "code",
   "execution_count": 34,
   "id": "ac6de79b",
   "metadata": {
    "ExecuteTime": {
     "end_time": "2022-07-22T18:08:39.157687Z",
     "start_time": "2022-07-22T18:08:38.847845Z"
    }
   },
   "outputs": [
    {
     "data": {
      "text/plain": [
       "array(['PAYMENT', 'TRANSFER', 'CASH_OUT', 'DEBIT', 'CASH_IN'],\n",
       "      dtype=object)"
      ]
     },
     "execution_count": 34,
     "metadata": {},
     "output_type": "execute_result"
    }
   ],
   "source": [
    "df.type.unique()"
   ]
  },
  {
   "cell_type": "code",
   "execution_count": 35,
   "id": "7aa816de",
   "metadata": {
    "ExecuteTime": {
     "end_time": "2022-07-22T18:08:39.546720Z",
     "start_time": "2022-07-22T18:08:39.159741Z"
    }
   },
   "outputs": [
    {
     "data": {
      "text/plain": [
       "(0, 11)"
      ]
     },
     "execution_count": 35,
     "metadata": {},
     "output_type": "execute_result"
    }
   ],
   "source": [
    "df[(df['isFraud']==1)&(df['type']=='DEBIT')].shape\n"
   ]
  },
  {
   "cell_type": "code",
   "execution_count": 36,
   "id": "6104a8ba",
   "metadata": {
    "ExecuteTime": {
     "end_time": "2022-07-22T18:08:39.973738Z",
     "start_time": "2022-07-22T18:08:39.548722Z"
    }
   },
   "outputs": [
    {
     "data": {
      "text/plain": [
       "(0, 11)"
      ]
     },
     "execution_count": 36,
     "metadata": {},
     "output_type": "execute_result"
    }
   ],
   "source": [
    "df[(df['isFraud']==1)&(df['type']=='PAYMENT')].shape"
   ]
  },
  {
   "cell_type": "code",
   "execution_count": 37,
   "id": "422e030a",
   "metadata": {
    "ExecuteTime": {
     "end_time": "2022-07-22T18:08:40.394146Z",
     "start_time": "2022-07-22T18:08:39.976738Z"
    }
   },
   "outputs": [
    {
     "data": {
      "text/plain": [
       "(0, 11)"
      ]
     },
     "execution_count": 37,
     "metadata": {},
     "output_type": "execute_result"
    }
   ],
   "source": [
    "df[(df['isFraud']==1)&(df['type']=='CASH_IN')].shape"
   ]
  },
  {
   "cell_type": "markdown",
   "id": "f1f1e828",
   "metadata": {},
   "source": [
    "## Removing Those Type"
   ]
  },
  {
   "cell_type": "code",
   "execution_count": 38,
   "id": "8169fd75",
   "metadata": {
    "ExecuteTime": {
     "end_time": "2022-07-22T18:08:44.008612Z",
     "start_time": "2022-07-22T18:08:40.395149Z"
    }
   },
   "outputs": [],
   "source": [
    "df.drop(df[df['type']=='CASH_IN'].index,inplace=True)\n",
    "df.drop(df[df['type']=='DEBIT'].index,inplace=True)\n",
    "df.drop(df[df['type']=='PAYMENT'].index,inplace=True)"
   ]
  },
  {
   "cell_type": "code",
   "execution_count": 39,
   "id": "b34bb1da",
   "metadata": {
    "ExecuteTime": {
     "end_time": "2022-07-22T18:08:44.151764Z",
     "start_time": "2022-07-22T18:08:44.010613Z"
    }
   },
   "outputs": [
    {
     "data": {
      "text/plain": [
       "array(['TRANSFER', 'CASH_OUT'], dtype=object)"
      ]
     },
     "execution_count": 39,
     "metadata": {},
     "output_type": "execute_result"
    }
   ],
   "source": [
    "df.type.unique()"
   ]
  },
  {
   "cell_type": "code",
   "execution_count": 40,
   "id": "15292ecd",
   "metadata": {
    "ExecuteTime": {
     "end_time": "2022-07-22T18:08:44.166766Z",
     "start_time": "2022-07-22T18:08:44.154764Z"
    }
   },
   "outputs": [
    {
     "data": {
      "text/plain": [
       "(2770409, 11)"
      ]
     },
     "execution_count": 40,
     "metadata": {},
     "output_type": "execute_result"
    }
   ],
   "source": [
    "df.shape"
   ]
  },
  {
   "cell_type": "markdown",
   "id": "a175429f",
   "metadata": {},
   "source": [
    "## Visual Representation of Fraud Transcation"
   ]
  },
  {
   "cell_type": "code",
   "execution_count": 41,
   "id": "b9c04e48",
   "metadata": {
    "ExecuteTime": {
     "end_time": "2022-07-22T18:08:44.495519Z",
     "start_time": "2022-07-22T18:08:44.169768Z"
    }
   },
   "outputs": [
    {
     "data": {
      "application/javascript": [
       "\n",
       "        if (window._pyforest_update_imports_cell) { window._pyforest_update_imports_cell('import seaborn as sns'); }\n",
       "    "
      ],
      "text/plain": [
       "<IPython.core.display.Javascript object>"
      ]
     },
     "metadata": {},
     "output_type": "display_data"
    },
    {
     "data": {
      "text/plain": [
       "(0.0, 30000.0)"
      ]
     },
     "execution_count": 41,
     "metadata": {},
     "output_type": "execute_result"
    },
    {
     "data": {
      "image/png": "[encoded data removed]",
      "text/plain": [
       "<Figure size 576x432 with 1 Axes>"
      ]
     },
     "metadata": {
      "needs_background": "light"
     },
     "output_type": "display_data"
    }
   ],
   "source": [
    "plt.figure(figsize = (8,6))\n",
    "sns.countplot(df[\"isFraud\"])\n",
    "plt.ylim(0,30000)"
   ]
  },
  {
   "cell_type": "markdown",
   "id": "4bacc87b",
   "metadata": {},
   "source": [
    "## Creating numeric and catagorical DataFrame"
   ]
  },
  {
   "cell_type": "code",
   "execution_count": 42,
   "id": "84b32095",
   "metadata": {
    "ExecuteTime": {
     "end_time": "2022-07-22T18:08:44.648882Z",
     "start_time": "2022-07-22T18:08:44.496519Z"
    }
   },
   "outputs": [],
   "source": [
    "df_num = pd.DataFrame()\n",
    "df_cat = pd.DataFrame()"
   ]
  },
  {
   "cell_type": "code",
   "execution_count": 43,
   "id": "b3570aee",
   "metadata": {
    "ExecuteTime": {
     "end_time": "2022-07-22T18:08:45.130524Z",
     "start_time": "2022-07-22T18:08:44.651877Z"
    }
   },
   "outputs": [],
   "source": [
    "for i in df.columns:\n",
    "    if df[i].dtype == object:\n",
    "        df_cat[i] = df[i]\n",
    "    else:\n",
    "        df_num[i] = df[i]"
   ]
  },
  {
   "cell_type": "markdown",
   "id": "22c5e268",
   "metadata": {
    "ExecuteTime": {
     "end_time": "2022-07-22T17:31:36.264416Z",
     "start_time": "2022-07-22T17:31:36.244590Z"
    }
   },
   "source": [
    "## Analyzing Numerical Value"
   ]
  },
  {
   "cell_type": "code",
   "execution_count": 44,
   "id": "b020e729",
   "metadata": {
    "ExecuteTime": {
     "end_time": "2022-07-22T18:08:45.363344Z",
     "start_time": "2022-07-22T18:08:45.134636Z"
    }
   },
   "outputs": [
    {
     "data": {
      "text/html": [
       "<div>\n",
       "<style scoped>\n",
       "    .dataframe tbody tr th:only-of-type {\n",
       "        vertical-align: middle;\n",
       "    }\n",
       "\n",
       "    .dataframe tbody tr th {\n",
       "        vertical-align: top;\n",
       "    }\n",
       "\n",
       "    .dataframe thead th {\n",
       "        text-align: right;\n",
       "    }\n",
       "</style>\n",
       "<table border=\"1\" class=\"dataframe\">\n",
       "  <thead>\n",
       "    <tr style=\"text-align: right;\">\n",
       "      <th></th>\n",
       "      <th>step</th>\n",
       "      <th>amount</th>\n",
       "      <th>oldbalanceOrg</th>\n",
       "      <th>newbalanceOrig</th>\n",
       "      <th>oldbalanceDest</th>\n",
       "      <th>newbalanceDest</th>\n",
       "      <th>isFlaggedFraud</th>\n",
       "    </tr>\n",
       "  </thead>\n",
       "  <tbody>\n",
       "    <tr>\n",
       "      <th>2</th>\n",
       "      <td>1</td>\n",
       "      <td>181.00</td>\n",
       "      <td>181.0</td>\n",
       "      <td>0.0</td>\n",
       "      <td>0.0</td>\n",
       "      <td>0.00</td>\n",
       "      <td>0</td>\n",
       "    </tr>\n",
       "    <tr>\n",
       "      <th>3</th>\n",
       "      <td>1</td>\n",
       "      <td>181.00</td>\n",
       "      <td>181.0</td>\n",
       "      <td>0.0</td>\n",
       "      <td>21182.0</td>\n",
       "      <td>0.00</td>\n",
       "      <td>0</td>\n",
       "    </tr>\n",
       "    <tr>\n",
       "      <th>15</th>\n",
       "      <td>1</td>\n",
       "      <td>229133.94</td>\n",
       "      <td>15325.0</td>\n",
       "      <td>0.0</td>\n",
       "      <td>5083.0</td>\n",
       "      <td>51513.44</td>\n",
       "      <td>0</td>\n",
       "    </tr>\n",
       "    <tr>\n",
       "      <th>19</th>\n",
       "      <td>1</td>\n",
       "      <td>215310.30</td>\n",
       "      <td>705.0</td>\n",
       "      <td>0.0</td>\n",
       "      <td>22425.0</td>\n",
       "      <td>0.00</td>\n",
       "      <td>0</td>\n",
       "    </tr>\n",
       "    <tr>\n",
       "      <th>24</th>\n",
       "      <td>1</td>\n",
       "      <td>311685.89</td>\n",
       "      <td>10835.0</td>\n",
       "      <td>0.0</td>\n",
       "      <td>6267.0</td>\n",
       "      <td>2719172.89</td>\n",
       "      <td>0</td>\n",
       "    </tr>\n",
       "  </tbody>\n",
       "</table>\n",
       "</div>"
      ],
      "text/plain": [
       "    step     amount  oldbalanceOrg  newbalanceOrig  oldbalanceDest  \\\n",
       "2      1     181.00          181.0             0.0             0.0   \n",
       "3      1     181.00          181.0             0.0         21182.0   \n",
       "15     1  229133.94        15325.0             0.0          5083.0   \n",
       "19     1  215310.30          705.0             0.0         22425.0   \n",
       "24     1  311685.89        10835.0             0.0          6267.0   \n",
       "\n",
       "    newbalanceDest  isFlaggedFraud  \n",
       "2             0.00               0  \n",
       "3             0.00               0  \n",
       "15        51513.44               0  \n",
       "19            0.00               0  \n",
       "24      2719172.89               0  "
      ]
     },
     "execution_count": 44,
     "metadata": {},
     "output_type": "execute_result"
    }
   ],
   "source": [
    "inputs = df_num.drop(['isFraud'],axis='columns')\n",
    "inputs.head()"
   ]
  },
  {
   "cell_type": "code",
   "execution_count": 45,
   "id": "87f6523b",
   "metadata": {
    "ExecuteTime": {
     "end_time": "2022-07-22T18:08:45.379039Z",
     "start_time": "2022-07-22T18:08:45.365349Z"
    }
   },
   "outputs": [
    {
     "data": {
      "text/plain": [
       "2     1\n",
       "3     1\n",
       "15    0\n",
       "19    0\n",
       "24    0\n",
       "Name: isFraud, dtype: int64"
      ]
     },
     "execution_count": 45,
     "metadata": {},
     "output_type": "execute_result"
    }
   ],
   "source": [
    "target = df_num['isFraud']\n",
    "target.head()"
   ]
  },
  {
   "cell_type": "markdown",
   "id": "3e9b5b63",
   "metadata": {},
   "source": [
    "## Analyzing Catagorical Value"
   ]
  },
  {
   "cell_type": "code",
   "execution_count": 46,
   "id": "7f7435b5",
   "metadata": {
    "ExecuteTime": {
     "end_time": "2022-07-22T18:08:45.394800Z",
     "start_time": "2022-07-22T18:08:45.380812Z"
    }
   },
   "outputs": [
    {
     "data": {
      "text/html": [
       "<div>\n",
       "<style scoped>\n",
       "    .dataframe tbody tr th:only-of-type {\n",
       "        vertical-align: middle;\n",
       "    }\n",
       "\n",
       "    .dataframe tbody tr th {\n",
       "        vertical-align: top;\n",
       "    }\n",
       "\n",
       "    .dataframe thead th {\n",
       "        text-align: right;\n",
       "    }\n",
       "</style>\n",
       "<table border=\"1\" class=\"dataframe\">\n",
       "  <thead>\n",
       "    <tr style=\"text-align: right;\">\n",
       "      <th></th>\n",
       "      <th>type</th>\n",
       "      <th>nameOrig</th>\n",
       "      <th>nameDest</th>\n",
       "    </tr>\n",
       "  </thead>\n",
       "  <tbody>\n",
       "    <tr>\n",
       "      <th>2</th>\n",
       "      <td>TRANSFER</td>\n",
       "      <td>C1305486145</td>\n",
       "      <td>C553264065</td>\n",
       "    </tr>\n",
       "    <tr>\n",
       "      <th>3</th>\n",
       "      <td>CASH_OUT</td>\n",
       "      <td>C840083671</td>\n",
       "      <td>C38997010</td>\n",
       "    </tr>\n",
       "    <tr>\n",
       "      <th>15</th>\n",
       "      <td>CASH_OUT</td>\n",
       "      <td>C905080434</td>\n",
       "      <td>C476402209</td>\n",
       "    </tr>\n",
       "    <tr>\n",
       "      <th>19</th>\n",
       "      <td>TRANSFER</td>\n",
       "      <td>C1670993182</td>\n",
       "      <td>C1100439041</td>\n",
       "    </tr>\n",
       "    <tr>\n",
       "      <th>24</th>\n",
       "      <td>TRANSFER</td>\n",
       "      <td>C1984094095</td>\n",
       "      <td>C932583850</td>\n",
       "    </tr>\n",
       "  </tbody>\n",
       "</table>\n",
       "</div>"
      ],
      "text/plain": [
       "        type     nameOrig     nameDest\n",
       "2   TRANSFER  C1305486145   C553264065\n",
       "3   CASH_OUT   C840083671    C38997010\n",
       "15  CASH_OUT   C905080434   C476402209\n",
       "19  TRANSFER  C1670993182  C1100439041\n",
       "24  TRANSFER  C1984094095   C932583850"
      ]
     },
     "execution_count": 46,
     "metadata": {},
     "output_type": "execute_result"
    }
   ],
   "source": [
    "df_cat.head()"
   ]
  },
  {
   "cell_type": "markdown",
   "id": "69955a8f",
   "metadata": {},
   "source": [
    "### Data Filtering"
   ]
  },
  {
   "cell_type": "code",
   "execution_count": 47,
   "id": "6c67d5a4",
   "metadata": {
    "ExecuteTime": {
     "end_time": "2022-07-22T18:08:45.753210Z",
     "start_time": "2022-07-22T18:08:45.397802Z"
    }
   },
   "outputs": [
    {
     "data": {
      "text/html": [
       "<div>\n",
       "<style scoped>\n",
       "    .dataframe tbody tr th:only-of-type {\n",
       "        vertical-align: middle;\n",
       "    }\n",
       "\n",
       "    .dataframe tbody tr th {\n",
       "        vertical-align: top;\n",
       "    }\n",
       "\n",
       "    .dataframe thead th {\n",
       "        text-align: right;\n",
       "    }\n",
       "</style>\n",
       "<table border=\"1\" class=\"dataframe\">\n",
       "  <thead>\n",
       "    <tr style=\"text-align: right;\">\n",
       "      <th></th>\n",
       "      <th>type</th>\n",
       "    </tr>\n",
       "  </thead>\n",
       "  <tbody>\n",
       "    <tr>\n",
       "      <th>2</th>\n",
       "      <td>TRANSFER</td>\n",
       "    </tr>\n",
       "    <tr>\n",
       "      <th>3</th>\n",
       "      <td>CASH_OUT</td>\n",
       "    </tr>\n",
       "    <tr>\n",
       "      <th>15</th>\n",
       "      <td>CASH_OUT</td>\n",
       "    </tr>\n",
       "    <tr>\n",
       "      <th>19</th>\n",
       "      <td>TRANSFER</td>\n",
       "    </tr>\n",
       "    <tr>\n",
       "      <th>24</th>\n",
       "      <td>TRANSFER</td>\n",
       "    </tr>\n",
       "  </tbody>\n",
       "</table>\n",
       "</div>"
      ],
      "text/plain": [
       "        type\n",
       "2   TRANSFER\n",
       "3   CASH_OUT\n",
       "15  CASH_OUT\n",
       "19  TRANSFER\n",
       "24  TRANSFER"
      ]
     },
     "execution_count": 47,
     "metadata": {},
     "output_type": "execute_result"
    }
   ],
   "source": [
    "cat_input = df_cat.drop(['nameOrig','nameDest'],axis='columns')\n",
    "cat_input.head()"
   ]
  },
  {
   "cell_type": "markdown",
   "id": "c68b1a75",
   "metadata": {
    "ExecuteTime": {
     "end_time": "2022-07-22T17:36:09.298951Z",
     "start_time": "2022-07-22T17:36:09.285777Z"
    }
   },
   "source": [
    "### Label Encoding"
   ]
  },
  {
   "cell_type": "code",
   "execution_count": 48,
   "id": "c8dd1931",
   "metadata": {
    "ExecuteTime": {
     "end_time": "2022-07-22T18:08:45.769075Z",
     "start_time": "2022-07-22T18:08:45.756211Z"
    }
   },
   "outputs": [],
   "source": [
    "from sklearn.preprocessing import LabelEncoder"
   ]
  },
  {
   "cell_type": "code",
   "execution_count": 49,
   "id": "7cd4f4f0",
   "metadata": {
    "ExecuteTime": {
     "end_time": "2022-07-22T18:08:46.343786Z",
     "start_time": "2022-07-22T18:08:45.770075Z"
    }
   },
   "outputs": [
    {
     "data": {
      "text/html": [
       "<div>\n",
       "<style scoped>\n",
       "    .dataframe tbody tr th:only-of-type {\n",
       "        vertical-align: middle;\n",
       "    }\n",
       "\n",
       "    .dataframe tbody tr th {\n",
       "        vertical-align: top;\n",
       "    }\n",
       "\n",
       "    .dataframe thead th {\n",
       "        text-align: right;\n",
       "    }\n",
       "</style>\n",
       "<table border=\"1\" class=\"dataframe\">\n",
       "  <thead>\n",
       "    <tr style=\"text-align: right;\">\n",
       "      <th></th>\n",
       "      <th>type</th>\n",
       "    </tr>\n",
       "  </thead>\n",
       "  <tbody>\n",
       "    <tr>\n",
       "      <th>2</th>\n",
       "      <td>1</td>\n",
       "    </tr>\n",
       "    <tr>\n",
       "      <th>3</th>\n",
       "      <td>0</td>\n",
       "    </tr>\n",
       "    <tr>\n",
       "      <th>15</th>\n",
       "      <td>0</td>\n",
       "    </tr>\n",
       "    <tr>\n",
       "      <th>19</th>\n",
       "      <td>1</td>\n",
       "    </tr>\n",
       "    <tr>\n",
       "      <th>24</th>\n",
       "      <td>1</td>\n",
       "    </tr>\n",
       "  </tbody>\n",
       "</table>\n",
       "</div>"
      ],
      "text/plain": [
       "    type\n",
       "2      1\n",
       "3      0\n",
       "15     0\n",
       "19     1\n",
       "24     1"
      ]
     },
     "execution_count": 49,
     "metadata": {},
     "output_type": "execute_result"
    }
   ],
   "source": [
    "le = LabelEncoder()\n",
    "cat_input['type'] = le.fit_transform(cat_input['type'])\n",
    "cat_input.head()"
   ]
  },
  {
   "cell_type": "markdown",
   "id": "2edbeac7",
   "metadata": {},
   "source": [
    "### Concatinating Numerical and Catagorical Value"
   ]
  },
  {
   "cell_type": "code",
   "execution_count": 50,
   "id": "b97c483e",
   "metadata": {
    "ExecuteTime": {
     "end_time": "2022-07-22T18:08:46.437469Z",
     "start_time": "2022-07-22T18:08:46.345789Z"
    }
   },
   "outputs": [
    {
     "data": {
      "text/html": [
       "<div>\n",
       "<style scoped>\n",
       "    .dataframe tbody tr th:only-of-type {\n",
       "        vertical-align: middle;\n",
       "    }\n",
       "\n",
       "    .dataframe tbody tr th {\n",
       "        vertical-align: top;\n",
       "    }\n",
       "\n",
       "    .dataframe thead th {\n",
       "        text-align: right;\n",
       "    }\n",
       "</style>\n",
       "<table border=\"1\" class=\"dataframe\">\n",
       "  <thead>\n",
       "    <tr style=\"text-align: right;\">\n",
       "      <th></th>\n",
       "      <th>step</th>\n",
       "      <th>amount</th>\n",
       "      <th>oldbalanceOrg</th>\n",
       "      <th>newbalanceOrig</th>\n",
       "      <th>oldbalanceDest</th>\n",
       "      <th>newbalanceDest</th>\n",
       "      <th>isFlaggedFraud</th>\n",
       "      <th>type</th>\n",
       "    </tr>\n",
       "  </thead>\n",
       "  <tbody>\n",
       "    <tr>\n",
       "      <th>2</th>\n",
       "      <td>1</td>\n",
       "      <td>181.00</td>\n",
       "      <td>181.0</td>\n",
       "      <td>0.0</td>\n",
       "      <td>0.0</td>\n",
       "      <td>0.00</td>\n",
       "      <td>0</td>\n",
       "      <td>1</td>\n",
       "    </tr>\n",
       "    <tr>\n",
       "      <th>3</th>\n",
       "      <td>1</td>\n",
       "      <td>181.00</td>\n",
       "      <td>181.0</td>\n",
       "      <td>0.0</td>\n",
       "      <td>21182.0</td>\n",
       "      <td>0.00</td>\n",
       "      <td>0</td>\n",
       "      <td>0</td>\n",
       "    </tr>\n",
       "    <tr>\n",
       "      <th>15</th>\n",
       "      <td>1</td>\n",
       "      <td>229133.94</td>\n",
       "      <td>15325.0</td>\n",
       "      <td>0.0</td>\n",
       "      <td>5083.0</td>\n",
       "      <td>51513.44</td>\n",
       "      <td>0</td>\n",
       "      <td>0</td>\n",
       "    </tr>\n",
       "    <tr>\n",
       "      <th>19</th>\n",
       "      <td>1</td>\n",
       "      <td>215310.30</td>\n",
       "      <td>705.0</td>\n",
       "      <td>0.0</td>\n",
       "      <td>22425.0</td>\n",
       "      <td>0.00</td>\n",
       "      <td>0</td>\n",
       "      <td>1</td>\n",
       "    </tr>\n",
       "    <tr>\n",
       "      <th>24</th>\n",
       "      <td>1</td>\n",
       "      <td>311685.89</td>\n",
       "      <td>10835.0</td>\n",
       "      <td>0.0</td>\n",
       "      <td>6267.0</td>\n",
       "      <td>2719172.89</td>\n",
       "      <td>0</td>\n",
       "      <td>1</td>\n",
       "    </tr>\n",
       "  </tbody>\n",
       "</table>\n",
       "</div>"
      ],
      "text/plain": [
       "    step     amount  oldbalanceOrg  newbalanceOrig  oldbalanceDest  \\\n",
       "2      1     181.00          181.0             0.0             0.0   \n",
       "3      1     181.00          181.0             0.0         21182.0   \n",
       "15     1  229133.94        15325.0             0.0          5083.0   \n",
       "19     1  215310.30          705.0             0.0         22425.0   \n",
       "24     1  311685.89        10835.0             0.0          6267.0   \n",
       "\n",
       "    newbalanceDest  isFlaggedFraud  type  \n",
       "2             0.00               0     1  \n",
       "3             0.00               0     0  \n",
       "15        51513.44               0     0  \n",
       "19            0.00               0     1  \n",
       "24      2719172.89               0     1  "
      ]
     },
     "execution_count": 50,
     "metadata": {},
     "output_type": "execute_result"
    }
   ],
   "source": [
    "inputs = pd.concat([inputs,cat_input],axis='columns')\n",
    "inputs.head()"
   ]
  },
  {
   "cell_type": "markdown",
   "id": "6c164e27",
   "metadata": {},
   "source": [
    "## UnderSampling"
   ]
  },
  {
   "cell_type": "code",
   "execution_count": 51,
   "id": "753e49ba",
   "metadata": {
    "ExecuteTime": {
     "end_time": "2022-07-22T18:08:46.703590Z",
     "start_time": "2022-07-22T18:08:46.440468Z"
    }
   },
   "outputs": [
    {
     "name": "stdout",
     "output_type": "stream",
     "text": [
      "(2770409, 8) (2770409,)\n",
      "0    2762196\n",
      "1       8213\n",
      "Name: isFraud, dtype: int64\n"
     ]
    }
   ],
   "source": [
    "from imblearn.under_sampling import NearMiss\n",
    "print(inputs.shape,target.shape)\n",
    "print(target.value_counts())"
   ]
  },
  {
   "cell_type": "code",
   "execution_count": 52,
   "id": "8a8290fd",
   "metadata": {
    "ExecuteTime": {
     "end_time": "2022-07-22T18:09:05.888628Z",
     "start_time": "2022-07-22T18:08:46.707591Z"
    }
   },
   "outputs": [],
   "source": [
    "undersample = NearMiss(version=1, n_neighbors=1)\n",
    "inputs, target = undersample.fit_resample(inputs, target)"
   ]
  },
  {
   "cell_type": "code",
   "execution_count": 53,
   "id": "18fd3bdc",
   "metadata": {
    "ExecuteTime": {
     "end_time": "2022-07-22T18:09:05.904733Z",
     "start_time": "2022-07-22T18:09:05.891632Z"
    }
   },
   "outputs": [
    {
     "name": "stdout",
     "output_type": "stream",
     "text": [
      "(16426, 8) (16426,)\n",
      "0    8213\n",
      "1    8213\n",
      "Name: isFraud, dtype: int64\n"
     ]
    }
   ],
   "source": [
    "print(inputs.shape,target.shape)\n",
    "print(target.value_counts())"
   ]
  },
  {
   "cell_type": "code",
   "execution_count": 54,
   "id": "92ebed20",
   "metadata": {
    "ExecuteTime": {
     "end_time": "2022-07-22T18:09:06.076266Z",
     "start_time": "2022-07-22T18:09:05.907733Z"
    }
   },
   "outputs": [
    {
     "data": {
      "application/javascript": [
       "\n",
       "        if (window._pyforest_update_imports_cell) { window._pyforest_update_imports_cell('import seaborn as sns'); }\n",
       "    "
      ],
      "text/plain": [
       "<IPython.core.display.Javascript object>"
      ]
     },
     "metadata": {},
     "output_type": "display_data"
    },
    {
     "data": {
      "text/plain": [
       "(0.0, 15000.0)"
      ]
     },
     "execution_count": 54,
     "metadata": {},
     "output_type": "execute_result"
    },
    {
     "data": {
      "image/png": "[encoded data removed]",
      "text/plain": [
       "<Figure size 576x432 with 1 Axes>"
      ]
     },
     "metadata": {
      "needs_background": "light"
     },
     "output_type": "display_data"
    }
   ],
   "source": [
    "plt.figure(figsize = (8,6))\n",
    "sns.countplot(target)\n",
    "plt.ylim(0,15000)"
   ]
  },
  {
   "cell_type": "markdown",
   "id": "ff4d4f5f",
   "metadata": {},
   "source": [
    "## Training And Testing"
   ]
  },
  {
   "cell_type": "code",
   "execution_count": 55,
   "id": "676ca333",
   "metadata": {
    "ExecuteTime": {
     "end_time": "2022-07-22T18:09:06.092265Z",
     "start_time": "2022-07-22T18:09:06.079265Z"
    }
   },
   "outputs": [],
   "source": [
    "from sklearn.model_selection import train_test_split"
   ]
  },
  {
   "cell_type": "code",
   "execution_count": 56,
   "id": "65153ce4",
   "metadata": {
    "ExecuteTime": {
     "end_time": "2022-07-22T18:09:06.201581Z",
     "start_time": "2022-07-22T18:09:06.101267Z"
    }
   },
   "outputs": [],
   "source": [
    "xtrain,xtest,ytrain,ytest = train_test_split(inputs,target,test_size=0.3,random_state=10)"
   ]
  },
  {
   "cell_type": "code",
   "execution_count": 57,
   "id": "379cb547",
   "metadata": {
    "ExecuteTime": {
     "end_time": "2022-07-22T18:09:06.216580Z",
     "start_time": "2022-07-22T18:09:06.203578Z"
    }
   },
   "outputs": [],
   "source": [
    "from sklearn.linear_model import LogisticRegression\n",
    "model = LogisticRegression()"
   ]
  },
  {
   "cell_type": "code",
   "execution_count": 58,
   "id": "0d505915",
   "metadata": {
    "ExecuteTime": {
     "end_time": "2022-07-22T18:09:06.404474Z",
     "start_time": "2022-07-22T18:09:06.219580Z"
    }
   },
   "outputs": [
    {
     "data": {
      "text/plain": [
       "LogisticRegression()"
      ]
     },
     "execution_count": 58,
     "metadata": {},
     "output_type": "execute_result"
    }
   ],
   "source": [
    "model.fit(xtrain,ytrain)"
   ]
  },
  {
   "cell_type": "code",
   "execution_count": 59,
   "id": "d63876db",
   "metadata": {
    "ExecuteTime": {
     "end_time": "2022-07-22T18:09:06.419477Z",
     "start_time": "2022-07-22T18:09:06.406479Z"
    }
   },
   "outputs": [
    {
     "data": {
      "text/plain": [
       "0.8616071428571429"
      ]
     },
     "execution_count": 59,
     "metadata": {},
     "output_type": "execute_result"
    }
   ],
   "source": [
    "model.score(xtest,ytest)"
   ]
  },
  {
   "cell_type": "markdown",
   "id": "909c9f37",
   "metadata": {},
   "source": [
    "# GridSearch Cross-Validation"
   ]
  },
  {
   "cell_type": "code",
   "execution_count": 60,
   "id": "b1795ae8",
   "metadata": {
    "ExecuteTime": {
     "end_time": "2022-07-22T18:09:06.435000Z",
     "start_time": "2022-07-22T18:09:06.422216Z"
    }
   },
   "outputs": [],
   "source": [
    "from sklearn.model_selection import GridSearchCV"
   ]
  },
  {
   "cell_type": "code",
   "execution_count": 61,
   "id": "636a0ef4",
   "metadata": {
    "ExecuteTime": {
     "end_time": "2022-07-22T18:09:06.450640Z",
     "start_time": "2022-07-22T18:09:06.438999Z"
    }
   },
   "outputs": [],
   "source": [
    "para={\"C\":np.logspace(-3,3,7), \"penalty\":[\"l1\",\"l2\"]}\n",
    "model_cv = GridSearchCV(model,para,cv=5)"
   ]
  },
  {
   "cell_type": "code",
   "execution_count": 62,
   "id": "ed77cbec",
   "metadata": {
    "ExecuteTime": {
     "end_time": "2022-07-22T18:09:10.371177Z",
     "start_time": "2022-07-22T18:09:06.454644Z"
    }
   },
   "outputs": [
    {
     "data": {
      "text/plain": [
       "GridSearchCV(cv=5, estimator=LogisticRegression(),\n",
       "             param_grid={'C': array([1.e-03, 1.e-02, 1.e-01, 1.e+00, 1.e+01, 1.e+02, 1.e+03]),\n",
       "                         'penalty': ['l1', 'l2']})"
      ]
     },
     "execution_count": 62,
     "metadata": {},
     "output_type": "execute_result"
    }
   ],
   "source": [
    "model_cv.fit(xtrain,ytrain)"
   ]
  },
  {
   "cell_type": "code",
   "execution_count": 63,
   "id": "486e94eb",
   "metadata": {
    "ExecuteTime": {
     "end_time": "2022-07-22T18:09:10.449635Z",
     "start_time": "2022-07-22T18:09:10.379142Z"
    }
   },
   "outputs": [
    {
     "data": {
      "text/plain": [
       "LogisticRegression()"
      ]
     },
     "execution_count": 63,
     "metadata": {},
     "output_type": "execute_result"
    }
   ],
   "source": [
    "model.fit(xtest,ytest)"
   ]
  },
  {
   "cell_type": "code",
   "execution_count": 64,
   "id": "6e5eccac",
   "metadata": {
    "ExecuteTime": {
     "end_time": "2022-07-22T18:09:10.465135Z",
     "start_time": "2022-07-22T18:09:10.451598Z"
    }
   },
   "outputs": [
    {
     "data": {
      "text/plain": [
       "0.8557224025974026"
      ]
     },
     "execution_count": 64,
     "metadata": {},
     "output_type": "execute_result"
    }
   ],
   "source": [
    "model.score(xtest,ytest)"
   ]
  },
  {
   "cell_type": "markdown",
   "id": "374d33b4",
   "metadata": {
    "ExecuteTime": {
     "end_time": "2022-07-22T17:52:54.766185Z",
     "start_time": "2022-07-22T17:52:54.763183Z"
    }
   },
   "source": [
    "# confusion matrix"
   ]
  },
  {
   "cell_type": "code",
   "execution_count": 65,
   "id": "65d653bf",
   "metadata": {
    "ExecuteTime": {
     "end_time": "2022-07-22T18:09:10.480599Z",
     "start_time": "2022-07-22T18:09:10.467132Z"
    }
   },
   "outputs": [],
   "source": [
    "from sklearn.metrics import confusion_matrix\n",
    "cm = confusion_matrix(ytest,model.predict(xtest))"
   ]
  },
  {
   "cell_type": "code",
   "execution_count": 66,
   "id": "0bb380ee",
   "metadata": {
    "ExecuteTime": {
     "end_time": "2022-07-22T18:09:10.713253Z",
     "start_time": "2022-07-22T18:09:10.483599Z"
    }
   },
   "outputs": [
    {
     "data": {
      "text/plain": [
       "<AxesSubplot:>"
      ]
     },
     "execution_count": 66,
     "metadata": {},
     "output_type": "execute_result"
    },
    {
     "data": {
      "image/png": "[encoded data removed]",
      "text/plain": [
       "<Figure size 576x432 with 2 Axes>"
      ]
     },
     "metadata": {
      "needs_background": "light"
     },
     "output_type": "display_data"
    }
   ],
   "source": [
    "plt.figure(figsize=(8,6))\n",
    "snb.heatmap(cm,annot=True)"
   ]
  }
 ],
 "metadata": {
  "kernelspec": {
   "display_name": "Python 3 (ipykernel)",
   "language": "python",
   "name": "python3"
  },
  "language_info": {
   "codemirror_mode": {
    "name": "ipython",
    "version": 3
   },
   "file_extension": ".py",
   "mimetype": "text/x-python",
   "name": "python",
   "nbconvert_exporter": "python",
   "pygments_lexer": "ipython3",
   "version": "3.10.5"
  },
  "toc": {
   "base_numbering": 1,
   "nav_menu": {},
   "number_sections": true,
   "sideBar": true,
   "skip_h1_title": false,
   "title_cell": "Table of Contents",
   "title_sidebar": "Contents",
   "toc_cell": true,
   "toc_position": {
    "height": "calc(100% - 180px)",
    "left": "10px",
    "top": "150px",
    "width": "304.462px"
   },
   "toc_section_display": true,
   "toc_window_display": true
  }
 },
 "nbformat": 4,
 "nbformat_minor": 5
}
