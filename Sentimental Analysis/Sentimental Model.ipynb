{
 "cells": [
  {
   "cell_type": "markdown",
   "id": "3e0d22f2",
   "metadata": {
    "toc": true
   },
   "source": [
    "<h1>Table of Contents<span class=\"tocSkip\"></span></h1>\n",
    "<div class=\"toc\"><ul class=\"toc-item\"><li><span><a href=\"#Positive-Score\" data-toc-modified-id=\"Positive-Score-1\"><span class=\"toc-item-num\">1&nbsp;&nbsp;</span>Positive Score</a></span></li><li><span><a href=\"#Negative-Score\" data-toc-modified-id=\"Negative-Score-2\"><span class=\"toc-item-num\">2&nbsp;&nbsp;</span>Negative Score</a></span></li><li><span><a href=\"#Polarity-Score\" data-toc-modified-id=\"Polarity-Score-3\"><span class=\"toc-item-num\">3&nbsp;&nbsp;</span>Polarity Score</a></span></li><li><span><a href=\"#Subjectivity-Score\" data-toc-modified-id=\"Subjectivity-Score-4\"><span class=\"toc-item-num\">4&nbsp;&nbsp;</span>Subjectivity Score</a></span></li><li><span><a href=\"#Average-Sentence-Length\" data-toc-modified-id=\"Average-Sentence-Length-5\"><span class=\"toc-item-num\">5&nbsp;&nbsp;</span>Average Sentence Length</a></span></li><li><span><a href=\"#Percentage-of-Complex-Words\" data-toc-modified-id=\"Percentage-of-Complex-Words-6\"><span class=\"toc-item-num\">6&nbsp;&nbsp;</span>Percentage of Complex Words</a></span></li><li><span><a href=\"#Fog-Index\" data-toc-modified-id=\"Fog-Index-7\"><span class=\"toc-item-num\">7&nbsp;&nbsp;</span>Fog Index</a></span></li><li><span><a href=\"#Aveerag-Number-of-Word-Per-Sentence\" data-toc-modified-id=\"Aveerag-Number-of-Word-Per-Sentence-8\"><span class=\"toc-item-num\">8&nbsp;&nbsp;</span>Aveerag Number of Word Per Sentence</a></span></li><li><span><a href=\"#Complex-Word-Count\" data-toc-modified-id=\"Complex-Word-Count-9\"><span class=\"toc-item-num\">9&nbsp;&nbsp;</span>Complex Word Count</a></span></li><li><span><a href=\"#Word-Count\" data-toc-modified-id=\"Word-Count-10\"><span class=\"toc-item-num\">10&nbsp;&nbsp;</span>Word Count</a></span></li><li><span><a href=\"#Syllable-Per-Word\" data-toc-modified-id=\"Syllable-Per-Word-11\"><span class=\"toc-item-num\">11&nbsp;&nbsp;</span>Syllable Per Word</a></span></li><li><span><a href=\"#Personal-Pronouns\" data-toc-modified-id=\"Personal-Pronouns-12\"><span class=\"toc-item-num\">12&nbsp;&nbsp;</span>Personal Pronouns</a></span></li><li><span><a href=\"#Average-Word-Length\" data-toc-modified-id=\"Average-Word-Length-13\"><span class=\"toc-item-num\">13&nbsp;&nbsp;</span>Average Word Length</a></span></li></ul></div>"
   ]
  },
  {
   "cell_type": "code",
   "execution_count": 212,
   "id": "4120f9ef",
   "metadata": {
    "ExecuteTime": {
     "end_time": "2023-02-08T13:21:46.772155Z",
     "start_time": "2023-02-08T13:21:46.765155Z"
    }
   },
   "outputs": [],
   "source": [
    "import pandas as pd\n",
    "import string\n",
    "import re\n",
    "from nltk.tokenize import word_tokenize, sent_tokenize"
   ]
  },
  {
   "cell_type": "code",
   "execution_count": 213,
   "id": "23418606",
   "metadata": {
    "ExecuteTime": {
     "end_time": "2023-02-08T13:21:46.818159Z",
     "start_time": "2023-02-08T13:21:46.804159Z"
    }
   },
   "outputs": [],
   "source": [
    "from urllib.request import urlopen\n",
    "import requests\n",
    "from bs4 import BeautifulSoup\n",
    "import urllib.request, urllib.error"
   ]
  },
  {
   "cell_type": "code",
   "execution_count": 269,
   "id": "f4bb1591",
   "metadata": {
    "ExecuteTime": {
     "end_time": "2023-02-08T16:42:59.445382Z",
     "start_time": "2023-02-08T16:42:59.387487Z"
    }
   },
   "outputs": [],
   "source": [
    "db = pd.read_excel(\"Input.xlsx\")"
   ]
  },
  {
   "cell_type": "code",
   "execution_count": 270,
   "id": "e0b477ad",
   "metadata": {
    "ExecuteTime": {
     "end_time": "2023-02-08T16:43:01.887001Z",
     "start_time": "2023-02-08T16:43:01.868407Z"
    }
   },
   "outputs": [
    {
     "data": {
      "text/html": [
       "<div>\n",
       "<style scoped>\n",
       "    .dataframe tbody tr th:only-of-type {\n",
       "        vertical-align: middle;\n",
       "    }\n",
       "\n",
       "    .dataframe tbody tr th {\n",
       "        vertical-align: top;\n",
       "    }\n",
       "\n",
       "    .dataframe thead th {\n",
       "        text-align: right;\n",
       "    }\n",
       "</style>\n",
       "<table border=\"1\" class=\"dataframe\">\n",
       "  <thead>\n",
       "    <tr style=\"text-align: right;\">\n",
       "      <th></th>\n",
       "      <th>URL_ID</th>\n",
       "      <th>URL</th>\n",
       "    </tr>\n",
       "  </thead>\n",
       "  <tbody>\n",
       "    <tr>\n",
       "      <th>0</th>\n",
       "      <td>37.0</td>\n",
       "      <td>https://insights.blackcoffer.com/ai-in-healthc...</td>\n",
       "    </tr>\n",
       "    <tr>\n",
       "      <th>1</th>\n",
       "      <td>38.0</td>\n",
       "      <td>https://insights.blackcoffer.com/what-if-the-c...</td>\n",
       "    </tr>\n",
       "    <tr>\n",
       "      <th>2</th>\n",
       "      <td>39.0</td>\n",
       "      <td>https://insights.blackcoffer.com/what-jobs-wil...</td>\n",
       "    </tr>\n",
       "    <tr>\n",
       "      <th>3</th>\n",
       "      <td>40.0</td>\n",
       "      <td>https://insights.blackcoffer.com/will-machine-...</td>\n",
       "    </tr>\n",
       "    <tr>\n",
       "      <th>4</th>\n",
       "      <td>41.0</td>\n",
       "      <td>https://insights.blackcoffer.com/will-ai-repla...</td>\n",
       "    </tr>\n",
       "    <tr>\n",
       "      <th>5</th>\n",
       "      <td>42.0</td>\n",
       "      <td>https://insights.blackcoffer.com/man-and-machi...</td>\n",
       "    </tr>\n",
       "    <tr>\n",
       "      <th>6</th>\n",
       "      <td>43.0</td>\n",
       "      <td>https://insights.blackcoffer.com/in-future-or-...</td>\n",
       "    </tr>\n",
       "    <tr>\n",
       "      <th>7</th>\n",
       "      <td>44.0</td>\n",
       "      <td>https://insights.blackcoffer.com/how-neural-ne...</td>\n",
       "    </tr>\n",
       "  </tbody>\n",
       "</table>\n",
       "</div>"
      ],
      "text/plain": [
       "   URL_ID                                                URL\n",
       "0    37.0  https://insights.blackcoffer.com/ai-in-healthc...\n",
       "1    38.0  https://insights.blackcoffer.com/what-if-the-c...\n",
       "2    39.0  https://insights.blackcoffer.com/what-jobs-wil...\n",
       "3    40.0  https://insights.blackcoffer.com/will-machine-...\n",
       "4    41.0  https://insights.blackcoffer.com/will-ai-repla...\n",
       "5    42.0  https://insights.blackcoffer.com/man-and-machi...\n",
       "6    43.0  https://insights.blackcoffer.com/in-future-or-...\n",
       "7    44.0  https://insights.blackcoffer.com/how-neural-ne..."
      ]
     },
     "execution_count": 270,
     "metadata": {},
     "output_type": "execute_result"
    }
   ],
   "source": [
    "db.head(8)"
   ]
  },
  {
   "cell_type": "code",
   "execution_count": 27,
   "id": "f04088a6",
   "metadata": {
    "ExecuteTime": {
     "end_time": "2023-02-07T12:05:03.253473Z",
     "start_time": "2023-02-07T12:05:03.233474Z"
    }
   },
   "outputs": [],
   "source": [
    "url = db.drop(['URL_ID'],axis='columns')"
   ]
  },
  {
   "cell_type": "code",
   "execution_count": 28,
   "id": "e0697bad",
   "metadata": {
    "ExecuteTime": {
     "end_time": "2023-02-07T12:05:04.287572Z",
     "start_time": "2023-02-07T12:05:04.260571Z"
    }
   },
   "outputs": [
    {
     "data": {
      "text/html": [
       "<div>\n",
       "<style scoped>\n",
       "    .dataframe tbody tr th:only-of-type {\n",
       "        vertical-align: middle;\n",
       "    }\n",
       "\n",
       "    .dataframe tbody tr th {\n",
       "        vertical-align: top;\n",
       "    }\n",
       "\n",
       "    .dataframe thead th {\n",
       "        text-align: right;\n",
       "    }\n",
       "</style>\n",
       "<table border=\"1\" class=\"dataframe\">\n",
       "  <thead>\n",
       "    <tr style=\"text-align: right;\">\n",
       "      <th></th>\n",
       "      <th>URL</th>\n",
       "    </tr>\n",
       "  </thead>\n",
       "  <tbody>\n",
       "    <tr>\n",
       "      <th>0</th>\n",
       "      <td>https://insights.blackcoffer.com/ai-in-healthc...</td>\n",
       "    </tr>\n",
       "    <tr>\n",
       "      <th>1</th>\n",
       "      <td>https://insights.blackcoffer.com/what-if-the-c...</td>\n",
       "    </tr>\n",
       "    <tr>\n",
       "      <th>2</th>\n",
       "      <td>https://insights.blackcoffer.com/what-jobs-wil...</td>\n",
       "    </tr>\n",
       "    <tr>\n",
       "      <th>3</th>\n",
       "      <td>https://insights.blackcoffer.com/will-machine-...</td>\n",
       "    </tr>\n",
       "    <tr>\n",
       "      <th>4</th>\n",
       "      <td>https://insights.blackcoffer.com/will-ai-repla...</td>\n",
       "    </tr>\n",
       "    <tr>\n",
       "      <th>...</th>\n",
       "      <td>...</td>\n",
       "    </tr>\n",
       "    <tr>\n",
       "      <th>109</th>\n",
       "      <td>https://insights.blackcoffer.com/blockchain-fo...</td>\n",
       "    </tr>\n",
       "    <tr>\n",
       "      <th>110</th>\n",
       "      <td>https://insights.blackcoffer.com/the-future-of...</td>\n",
       "    </tr>\n",
       "    <tr>\n",
       "      <th>111</th>\n",
       "      <td>https://insights.blackcoffer.com/big-data-anal...</td>\n",
       "    </tr>\n",
       "    <tr>\n",
       "      <th>112</th>\n",
       "      <td>https://insights.blackcoffer.com/business-anal...</td>\n",
       "    </tr>\n",
       "    <tr>\n",
       "      <th>113</th>\n",
       "      <td>https://insights.blackcoffer.com/challenges-an...</td>\n",
       "    </tr>\n",
       "  </tbody>\n",
       "</table>\n",
       "<p>114 rows × 1 columns</p>\n",
       "</div>"
      ],
      "text/plain": [
       "                                                   URL\n",
       "0    https://insights.blackcoffer.com/ai-in-healthc...\n",
       "1    https://insights.blackcoffer.com/what-if-the-c...\n",
       "2    https://insights.blackcoffer.com/what-jobs-wil...\n",
       "3    https://insights.blackcoffer.com/will-machine-...\n",
       "4    https://insights.blackcoffer.com/will-ai-repla...\n",
       "..                                                 ...\n",
       "109  https://insights.blackcoffer.com/blockchain-fo...\n",
       "110  https://insights.blackcoffer.com/the-future-of...\n",
       "111  https://insights.blackcoffer.com/big-data-anal...\n",
       "112  https://insights.blackcoffer.com/business-anal...\n",
       "113  https://insights.blackcoffer.com/challenges-an...\n",
       "\n",
       "[114 rows x 1 columns]"
      ]
     },
     "execution_count": 28,
     "metadata": {},
     "output_type": "execute_result"
    }
   ],
   "source": [
    "url"
   ]
  },
  {
   "cell_type": "code",
   "execution_count": null,
   "id": "3716a312",
   "metadata": {},
   "outputs": [],
   "source": [
    "# text_lst = []\n",
    "# error_lst = []\n",
    "# i=-1\n",
    "# for word in url.URL:\n",
    "#     i+=1\n",
    "#     http = urllib3.PoolManager()\n",
    "#     error = http.request(\"GET\", word)\n",
    "#     if (error.status == 404):\n",
    "#         error_lst.append(i+37)\n",
    "#     else:\n",
    "#         page = urlopen(word)\n",
    "#         soup = BeautifulSoup(page, \"html.parser\")\n",
    "#         text_lst.append(soup.get_text())"
   ]
  },
  {
   "cell_type": "code",
   "execution_count": 30,
   "id": "5e2a8fa6",
   "metadata": {
    "ExecuteTime": {
     "end_time": "2023-02-07T12:13:01.601535Z",
     "start_time": "2023-02-07T12:06:10.748806Z"
    }
   },
   "outputs": [
    {
     "name": "stdout",
     "output_type": "stream",
     "text": [
      "HTTP 404 ERROR\n",
      "HTTP 404 ERROR\n",
      "HTTP 404 ERROR\n"
     ]
    }
   ],
   "source": [
    "text_lst = []\n",
    "error_lst = []\n",
    "i=-1\n",
    "for word in url.URL:\n",
    "    i+=1\n",
    "    try:\n",
    "        con = urllib.request.urlopen(word)\n",
    "        page = urlopen(word)\n",
    "        soup = BeautifulSoup(page, \"html.parser\")\n",
    "        text_lst.append(soup.get_text())\n",
    "    except urllib.error.HTTPError as err:\n",
    "        print('HTTP', err.code, 'ERROR')\n",
    "        error_lst.append(i+37)\n",
    "        text_lst.append(\"HTTP 404 ERROR\")"
   ]
  },
  {
   "cell_type": "code",
   "execution_count": 31,
   "id": "536656a6",
   "metadata": {
    "ExecuteTime": {
     "end_time": "2023-02-07T12:13:01.613049Z",
     "start_time": "2023-02-07T12:13:01.601535Z"
    }
   },
   "outputs": [
    {
     "data": {
      "text/plain": [
       "[44, 57, 144]"
      ]
     },
     "execution_count": 31,
     "metadata": {},
     "output_type": "execute_result"
    }
   ],
   "source": [
    "error_lst"
   ]
  },
  {
   "cell_type": "code",
   "execution_count": 32,
   "id": "7f344dd0",
   "metadata": {
    "ExecuteTime": {
     "end_time": "2023-02-07T12:13:01.628778Z",
     "start_time": "2023-02-07T12:13:01.613049Z"
    }
   },
   "outputs": [
    {
     "name": "stdout",
     "output_type": "stream",
     "text": [
      "114\n"
     ]
    }
   ],
   "source": [
    "print(len(text_lst))"
   ]
  },
  {
   "cell_type": "code",
   "execution_count": null,
   "id": "f2702fc7",
   "metadata": {},
   "outputs": [],
   "source": []
  },
  {
   "cell_type": "code",
   "execution_count": 33,
   "id": "db4648b7",
   "metadata": {
    "ExecuteTime": {
     "end_time": "2023-02-07T12:13:01.644778Z",
     "start_time": "2023-02-07T12:13:01.632778Z"
    }
   },
   "outputs": [],
   "source": [
    "import pickle"
   ]
  },
  {
   "cell_type": "code",
   "execution_count": 34,
   "id": "00c2a39d",
   "metadata": {
    "ExecuteTime": {
     "end_time": "2023-02-07T12:13:01.680546Z",
     "start_time": "2023-02-07T12:13:01.646842Z"
    }
   },
   "outputs": [],
   "source": [
    "pickle.dump(text_lst,open(\"Text_Data.pkl\",\"wb\"))\n",
    "pickle.dump(error_lst,open(\"Error_Data.pkl\",\"wb\"))"
   ]
  },
  {
   "cell_type": "code",
   "execution_count": 35,
   "id": "c94e2474",
   "metadata": {
    "ExecuteTime": {
     "end_time": "2023-02-07T12:13:01.693764Z",
     "start_time": "2023-02-07T12:13:01.680546Z"
    }
   },
   "outputs": [],
   "source": [
    "text = pickle.load(open(\"Text_Data.pkl\",\"rb\"))\n",
    "error = pickle.load(open('Error_Data.pkl','rb'))"
   ]
  },
  {
   "cell_type": "code",
   "execution_count": 36,
   "id": "c25e6a6c",
   "metadata": {
    "ExecuteTime": {
     "end_time": "2023-02-07T12:13:01.703764Z",
     "start_time": "2023-02-07T12:13:01.693764Z"
    }
   },
   "outputs": [],
   "source": [
    "for i in range(len(error)):\n",
    "    error[i] = error[i] - 37"
   ]
  },
  {
   "cell_type": "code",
   "execution_count": 37,
   "id": "383dd2b9",
   "metadata": {
    "ExecuteTime": {
     "end_time": "2023-02-07T12:13:01.753720Z",
     "start_time": "2023-02-07T12:13:01.706345Z"
    }
   },
   "outputs": [],
   "source": [
    "for word in range(len(text)):\n",
    "    if word not in error:\n",
    "        words = [w for w in text[word].split()]\n",
    "        words = \" \".join(words)\n",
    "        text[word] = words[4068:-2383]\n",
    "    else:\n",
    "        text[word] = \"HTTP 404 ERROR\""
   ]
  },
  {
   "cell_type": "code",
   "execution_count": 38,
   "id": "03184915",
   "metadata": {
    "ExecuteTime": {
     "end_time": "2023-02-07T12:13:01.769552Z",
     "start_time": "2023-02-07T12:13:01.755346Z"
    }
   },
   "outputs": [],
   "source": [
    "texts = pd.DataFrame(text)"
   ]
  },
  {
   "cell_type": "code",
   "execution_count": 39,
   "id": "2a419d68",
   "metadata": {
    "ExecuteTime": {
     "end_time": "2023-02-07T12:13:01.797610Z",
     "start_time": "2023-02-07T12:13:01.771950Z"
    }
   },
   "outputs": [
    {
     "data": {
      "text/html": [
       "<div>\n",
       "<style scoped>\n",
       "    .dataframe tbody tr th:only-of-type {\n",
       "        vertical-align: middle;\n",
       "    }\n",
       "\n",
       "    .dataframe tbody tr th {\n",
       "        vertical-align: top;\n",
       "    }\n",
       "\n",
       "    .dataframe thead th {\n",
       "        text-align: right;\n",
       "    }\n",
       "</style>\n",
       "<table border=\"1\" class=\"dataframe\">\n",
       "  <thead>\n",
       "    <tr style=\"text-align: right;\">\n",
       "      <th></th>\n",
       "      <th>0</th>\n",
       "    </tr>\n",
       "  </thead>\n",
       "  <tbody>\n",
       "    <tr>\n",
       "      <th>0</th>\n",
       "      <td>Introduction “If anything kills over 10 millio...</td>\n",
       "    </tr>\n",
       "    <tr>\n",
       "      <th>1</th>\n",
       "      <td>1 9727 Human minds, a fascination in itself ca...</td>\n",
       "    </tr>\n",
       "    <tr>\n",
       "      <th>2</th>\n",
       "      <td>Introduction AI is rapidly evolving in the em...</td>\n",
       "    </tr>\n",
       "    <tr>\n",
       "      <th>3</th>\n",
       "      <td>21 6954 “Anything that could give rise to smar...</td>\n",
       "    </tr>\n",
       "    <tr>\n",
       "      <th>4</th>\n",
       "      <td>s the last invention that humanity will ever n...</td>\n",
       "    </tr>\n",
       "    <tr>\n",
       "      <th>5</th>\n",
       "      <td>tion Where is this disruptive technology takin...</td>\n",
       "    </tr>\n",
       "    <tr>\n",
       "      <th>6</th>\n",
       "      <td>upcoming years humans and machines are going ...</td>\n",
       "    </tr>\n",
       "    <tr>\n",
       "      <th>7</th>\n",
       "      <td>HTTP 404 ERROR</td>\n",
       "    </tr>\n",
       "  </tbody>\n",
       "</table>\n",
       "</div>"
      ],
      "text/plain": [
       "                                                   0\n",
       "0  Introduction “If anything kills over 10 millio...\n",
       "1  1 9727 Human minds, a fascination in itself ca...\n",
       "2   Introduction AI is rapidly evolving in the em...\n",
       "3  21 6954 “Anything that could give rise to smar...\n",
       "4  s the last invention that humanity will ever n...\n",
       "5  tion Where is this disruptive technology takin...\n",
       "6   upcoming years humans and machines are going ...\n",
       "7                                     HTTP 404 ERROR"
      ]
     },
     "execution_count": 39,
     "metadata": {},
     "output_type": "execute_result"
    }
   ],
   "source": [
    "texts.head(8)"
   ]
  },
  {
   "cell_type": "code",
   "execution_count": 40,
   "id": "311bbb4b",
   "metadata": {
    "ExecuteTime": {
     "end_time": "2023-02-07T12:13:01.807965Z",
     "start_time": "2023-02-07T12:13:01.801611Z"
    }
   },
   "outputs": [],
   "source": [
    "texts.rename(columns={0:\"Text\"},inplace=True)"
   ]
  },
  {
   "cell_type": "code",
   "execution_count": 41,
   "id": "28b9f2ec",
   "metadata": {
    "ExecuteTime": {
     "end_time": "2023-02-07T12:13:01.832712Z",
     "start_time": "2023-02-07T12:13:01.807965Z"
    }
   },
   "outputs": [
    {
     "data": {
      "text/html": [
       "<div>\n",
       "<style scoped>\n",
       "    .dataframe tbody tr th:only-of-type {\n",
       "        vertical-align: middle;\n",
       "    }\n",
       "\n",
       "    .dataframe tbody tr th {\n",
       "        vertical-align: top;\n",
       "    }\n",
       "\n",
       "    .dataframe thead th {\n",
       "        text-align: right;\n",
       "    }\n",
       "</style>\n",
       "<table border=\"1\" class=\"dataframe\">\n",
       "  <thead>\n",
       "    <tr style=\"text-align: right;\">\n",
       "      <th></th>\n",
       "      <th>Text</th>\n",
       "    </tr>\n",
       "  </thead>\n",
       "  <tbody>\n",
       "    <tr>\n",
       "      <th>0</th>\n",
       "      <td>Introduction “If anything kills over 10 millio...</td>\n",
       "    </tr>\n",
       "    <tr>\n",
       "      <th>1</th>\n",
       "      <td>1 9727 Human minds, a fascination in itself ca...</td>\n",
       "    </tr>\n",
       "    <tr>\n",
       "      <th>2</th>\n",
       "      <td>Introduction AI is rapidly evolving in the em...</td>\n",
       "    </tr>\n",
       "    <tr>\n",
       "      <th>3</th>\n",
       "      <td>21 6954 “Anything that could give rise to smar...</td>\n",
       "    </tr>\n",
       "    <tr>\n",
       "      <th>4</th>\n",
       "      <td>s the last invention that humanity will ever n...</td>\n",
       "    </tr>\n",
       "    <tr>\n",
       "      <th>...</th>\n",
       "      <td>...</td>\n",
       "    </tr>\n",
       "    <tr>\n",
       "      <th>109</th>\n",
       "      <td>aper-thin or let’s say “paper-money thin” diff...</td>\n",
       "    </tr>\n",
       "    <tr>\n",
       "      <th>110</th>\n",
       "      <td>ay or appreciation. Economically, investment i...</td>\n",
       "    </tr>\n",
       "    <tr>\n",
       "      <th>111</th>\n",
       "      <td>e. The high cost of Medical service and lack o...</td>\n",
       "    </tr>\n",
       "    <tr>\n",
       "      <th>112</th>\n",
       "      <td>vering and presenting the meaningful patterns ...</td>\n",
       "    </tr>\n",
       "    <tr>\n",
       "      <th>113</th>\n",
       "      <td>like to explain what big data is and why it h...</td>\n",
       "    </tr>\n",
       "  </tbody>\n",
       "</table>\n",
       "<p>114 rows × 1 columns</p>\n",
       "</div>"
      ],
      "text/plain": [
       "                                                  Text\n",
       "0    Introduction “If anything kills over 10 millio...\n",
       "1    1 9727 Human minds, a fascination in itself ca...\n",
       "2     Introduction AI is rapidly evolving in the em...\n",
       "3    21 6954 “Anything that could give rise to smar...\n",
       "4    s the last invention that humanity will ever n...\n",
       "..                                                 ...\n",
       "109  aper-thin or let’s say “paper-money thin” diff...\n",
       "110  ay or appreciation. Economically, investment i...\n",
       "111  e. The high cost of Medical service and lack o...\n",
       "112  vering and presenting the meaningful patterns ...\n",
       "113   like to explain what big data is and why it h...\n",
       "\n",
       "[114 rows x 1 columns]"
      ]
     },
     "execution_count": 41,
     "metadata": {},
     "output_type": "execute_result"
    }
   ],
   "source": [
    "texts"
   ]
  },
  {
   "cell_type": "code",
   "execution_count": 81,
   "id": "f7e4054a",
   "metadata": {
    "ExecuteTime": {
     "end_time": "2023-02-07T14:12:18.464275Z",
     "start_time": "2023-02-07T14:12:18.454277Z"
    }
   },
   "outputs": [],
   "source": [
    "punch =[stop for stop in string.punctuation]"
   ]
  },
  {
   "cell_type": "code",
   "execution_count": 82,
   "id": "39a251ea",
   "metadata": {
    "ExecuteTime": {
     "end_time": "2023-02-07T14:12:20.935441Z",
     "start_time": "2023-02-07T14:12:20.916438Z"
    }
   },
   "outputs": [
    {
     "data": {
      "text/plain": [
       "['!',\n",
       " '\"',\n",
       " '#',\n",
       " '$',\n",
       " '%',\n",
       " '&',\n",
       " \"'\",\n",
       " '(',\n",
       " ')',\n",
       " '*',\n",
       " '+',\n",
       " ',',\n",
       " '-',\n",
       " '.',\n",
       " '/',\n",
       " ':',\n",
       " ';',\n",
       " '<',\n",
       " '=',\n",
       " '>',\n",
       " '?',\n",
       " '@',\n",
       " '[',\n",
       " '\\\\',\n",
       " ']',\n",
       " '^',\n",
       " '_',\n",
       " '`',\n",
       " '{',\n",
       " '|',\n",
       " '}',\n",
       " '~']"
      ]
     },
     "execution_count": 82,
     "metadata": {},
     "output_type": "execute_result"
    }
   ],
   "source": [
    "punch"
   ]
  },
  {
   "cell_type": "code",
   "execution_count": 63,
   "id": "d7ff1eff",
   "metadata": {
    "ExecuteTime": {
     "end_time": "2023-02-07T13:12:19.048516Z",
     "start_time": "2023-02-07T13:12:19.029512Z"
    }
   },
   "outputs": [],
   "source": [
    "StopWords_Auditor=pd.read_csv(\"StopWords/StopWords_Auditor.txt\",header=None)"
   ]
  },
  {
   "cell_type": "code",
   "execution_count": 64,
   "id": "4bf5dd9f",
   "metadata": {
    "ExecuteTime": {
     "end_time": "2023-02-07T13:12:19.387822Z",
     "start_time": "2023-02-07T13:12:19.370228Z"
    }
   },
   "outputs": [],
   "source": [
    "StopWords_Currencies=pd.read_csv(\"StopWords/StopWords_Currencies.txt\",header=None,encoding=\"ISO-8859-1\",sep='|')"
   ]
  },
  {
   "cell_type": "code",
   "execution_count": 65,
   "id": "0582052e",
   "metadata": {
    "ExecuteTime": {
     "end_time": "2023-02-07T13:12:19.654595Z",
     "start_time": "2023-02-07T13:12:19.637749Z"
    }
   },
   "outputs": [],
   "source": [
    "StopWords_DatesandNumbers=pd.read_csv(\"StopWords/StopWords_DatesandNumbers.txt\",header=None)"
   ]
  },
  {
   "cell_type": "code",
   "execution_count": 66,
   "id": "b693f836",
   "metadata": {
    "ExecuteTime": {
     "end_time": "2023-02-07T13:12:19.904930Z",
     "start_time": "2023-02-07T13:12:19.894935Z"
    }
   },
   "outputs": [],
   "source": [
    "StopWords_Generic=pd.read_csv(\"StopWords/StopWords_Generic.txt\",header=None)"
   ]
  },
  {
   "cell_type": "code",
   "execution_count": 67,
   "id": "5420421b",
   "metadata": {
    "ExecuteTime": {
     "end_time": "2023-02-07T13:12:20.138569Z",
     "start_time": "2023-02-07T13:12:20.122218Z"
    }
   },
   "outputs": [],
   "source": [
    "StopWords_GenericLong=pd.read_csv(\"StopWords/StopWords_GenericLong.txt\",header=None)"
   ]
  },
  {
   "cell_type": "code",
   "execution_count": 68,
   "id": "32c0197f",
   "metadata": {
    "ExecuteTime": {
     "end_time": "2023-02-07T13:12:20.418374Z",
     "start_time": "2023-02-07T13:12:20.400374Z"
    }
   },
   "outputs": [],
   "source": [
    "StopWords_Geographic=pd.read_csv(\"StopWords/StopWords_Geographic.txt\",header=None)"
   ]
  },
  {
   "cell_type": "code",
   "execution_count": 69,
   "id": "f9c4770b",
   "metadata": {
    "ExecuteTime": {
     "end_time": "2023-02-07T13:12:20.839228Z",
     "start_time": "2023-02-07T13:12:20.815232Z"
    }
   },
   "outputs": [],
   "source": [
    "StopWords_Names=pd.read_csv(\"StopWords/StopWords_Names.txt\",header=None)"
   ]
  },
  {
   "cell_type": "code",
   "execution_count": 70,
   "id": "b06aa951",
   "metadata": {
    "ExecuteTime": {
     "end_time": "2023-02-07T13:12:22.142578Z",
     "start_time": "2023-02-07T13:12:22.117787Z"
    }
   },
   "outputs": [
    {
     "data": {
      "text/html": [
       "<div>\n",
       "<style scoped>\n",
       "    .dataframe tbody tr th:only-of-type {\n",
       "        vertical-align: middle;\n",
       "    }\n",
       "\n",
       "    .dataframe tbody tr th {\n",
       "        vertical-align: top;\n",
       "    }\n",
       "\n",
       "    .dataframe thead th {\n",
       "        text-align: right;\n",
       "    }\n",
       "</style>\n",
       "<table border=\"1\" class=\"dataframe\">\n",
       "  <thead>\n",
       "    <tr style=\"text-align: right;\">\n",
       "      <th></th>\n",
       "      <th>0</th>\n",
       "      <th>1</th>\n",
       "    </tr>\n",
       "  </thead>\n",
       "  <tbody>\n",
       "    <tr>\n",
       "      <th>0</th>\n",
       "      <td>AFGHANI</td>\n",
       "      <td>Afghanistan</td>\n",
       "    </tr>\n",
       "    <tr>\n",
       "      <th>1</th>\n",
       "      <td>ARIARY</td>\n",
       "      <td>Madagascar</td>\n",
       "    </tr>\n",
       "    <tr>\n",
       "      <th>2</th>\n",
       "      <td>BAHT</td>\n",
       "      <td>Thailand</td>\n",
       "    </tr>\n",
       "    <tr>\n",
       "      <th>3</th>\n",
       "      <td>BALBOA</td>\n",
       "      <td>Panama</td>\n",
       "    </tr>\n",
       "    <tr>\n",
       "      <th>4</th>\n",
       "      <td>BIRR</td>\n",
       "      <td>Ethiopia</td>\n",
       "    </tr>\n",
       "    <tr>\n",
       "      <th>...</th>\n",
       "      <td>...</td>\n",
       "      <td>...</td>\n",
       "    </tr>\n",
       "    <tr>\n",
       "      <th>80</th>\n",
       "      <td>TUGRIK</td>\n",
       "      <td>Mongolia</td>\n",
       "    </tr>\n",
       "    <tr>\n",
       "      <th>81</th>\n",
       "      <td>VATU</td>\n",
       "      <td>Vanuatu</td>\n",
       "    </tr>\n",
       "    <tr>\n",
       "      <th>82</th>\n",
       "      <td>WON</td>\n",
       "      <td>Korea, South</td>\n",
       "    </tr>\n",
       "    <tr>\n",
       "      <th>83</th>\n",
       "      <td>YEN</td>\n",
       "      <td>Japan</td>\n",
       "    </tr>\n",
       "    <tr>\n",
       "      <th>84</th>\n",
       "      <td>ZLOTY</td>\n",
       "      <td>Poland</td>\n",
       "    </tr>\n",
       "  </tbody>\n",
       "</table>\n",
       "<p>85 rows × 2 columns</p>\n",
       "</div>"
      ],
      "text/plain": [
       "            0               1\n",
       "0   AFGHANI      Afghanistan \n",
       "1     ARIARY      Madagascar \n",
       "2       BAHT        Thailand \n",
       "3     BALBOA          Panama \n",
       "4       BIRR        Ethiopia \n",
       "..        ...             ...\n",
       "80   TUGRIK         Mongolia \n",
       "81      VATU         Vanuatu \n",
       "82      WON     Korea, South \n",
       "83       YEN           Japan \n",
       "84     ZLOTY          Poland \n",
       "\n",
       "[85 rows x 2 columns]"
      ]
     },
     "execution_count": 70,
     "metadata": {},
     "output_type": "execute_result"
    }
   ],
   "source": [
    "StopWords_Currencies"
   ]
  },
  {
   "cell_type": "code",
   "execution_count": 83,
   "id": "e8886c78",
   "metadata": {
    "ExecuteTime": {
     "end_time": "2023-02-07T14:12:26.155906Z",
     "start_time": "2023-02-07T14:12:26.139909Z"
    }
   },
   "outputs": [],
   "source": [
    "punch = punch + [':',',','(',')','’','?']"
   ]
  },
  {
   "cell_type": "code",
   "execution_count": 84,
   "id": "631d8a9a",
   "metadata": {
    "ExecuteTime": {
     "end_time": "2023-02-07T14:12:26.626035Z",
     "start_time": "2023-02-07T14:12:26.616035Z"
    },
    "scrolled": true
   },
   "outputs": [
    {
     "data": {
      "text/plain": [
       "['!',\n",
       " '\"',\n",
       " '#',\n",
       " '$',\n",
       " '%',\n",
       " '&',\n",
       " \"'\",\n",
       " '(',\n",
       " ')',\n",
       " '*',\n",
       " '+',\n",
       " ',',\n",
       " '-',\n",
       " '.',\n",
       " '/',\n",
       " ':',\n",
       " ';',\n",
       " '<',\n",
       " '=',\n",
       " '>',\n",
       " '?',\n",
       " '@',\n",
       " '[',\n",
       " '\\\\',\n",
       " ']',\n",
       " '^',\n",
       " '_',\n",
       " '`',\n",
       " '{',\n",
       " '|',\n",
       " '}',\n",
       " '~',\n",
       " ':',\n",
       " ',',\n",
       " '(',\n",
       " ')',\n",
       " '’',\n",
       " '?']"
      ]
     },
     "execution_count": 84,
     "metadata": {},
     "output_type": "execute_result"
    }
   ],
   "source": [
    "punch"
   ]
  },
  {
   "cell_type": "code",
   "execution_count": 78,
   "id": "67f264a6",
   "metadata": {
    "ExecuteTime": {
     "end_time": "2023-02-07T14:11:49.089204Z",
     "start_time": "2023-02-07T14:11:49.069242Z"
    }
   },
   "outputs": [],
   "source": [
    "def stopward_elimination(text):\n",
    "    nopunch =[char for char in text if char not in punch]\n",
    "    nopunch=''.join(nopunch)\n",
    "    text1=' '.join([word for word in nopunch.split() if word.lower() not in StopWords_Auditor])\n",
    "    text2=' '.join([word for word in text1.split() if word.lower() not in StopWords_Currencies])\n",
    "    text3=' '.join([word for word in text2.split() if word.lower() not in StopWords_DatesandNumbers])\n",
    "    text4=' '.join([word for word in text3.split() if word.lower() not in StopWords_Generic])\n",
    "    text5=' '.join([word for word in text4.split() if word.lower() not in StopWords_GenericLong])\n",
    "    text6=' '.join([word for word in text5.split() if word.lower() not in StopWords_Geographic])\n",
    "    return ' '.join([word for word in text6.split() if word.lower() not in StopWords_Names])"
   ]
  },
  {
   "cell_type": "code",
   "execution_count": 160,
   "id": "9ae68077",
   "metadata": {
    "ExecuteTime": {
     "end_time": "2023-02-07T15:25:56.817055Z",
     "start_time": "2023-02-07T15:25:53.551447Z"
    }
   },
   "outputs": [],
   "source": [
    "text = pd.DataFrame()\n",
    "text['Text']=texts['Text'].apply(stopward_elimination)"
   ]
  },
  {
   "cell_type": "code",
   "execution_count": 161,
   "id": "60bca6f5",
   "metadata": {
    "ExecuteTime": {
     "end_time": "2023-02-07T15:25:56.847439Z",
     "start_time": "2023-02-07T15:25:56.817055Z"
    }
   },
   "outputs": [
    {
     "data": {
      "text/html": [
       "<div>\n",
       "<style scoped>\n",
       "    .dataframe tbody tr th:only-of-type {\n",
       "        vertical-align: middle;\n",
       "    }\n",
       "\n",
       "    .dataframe tbody tr th {\n",
       "        vertical-align: top;\n",
       "    }\n",
       "\n",
       "    .dataframe thead th {\n",
       "        text-align: right;\n",
       "    }\n",
       "</style>\n",
       "<table border=\"1\" class=\"dataframe\">\n",
       "  <thead>\n",
       "    <tr style=\"text-align: right;\">\n",
       "      <th></th>\n",
       "      <th>Text</th>\n",
       "    </tr>\n",
       "  </thead>\n",
       "  <tbody>\n",
       "    <tr>\n",
       "      <th>0</th>\n",
       "      <td>Introduction “If anything kills over 10 millio...</td>\n",
       "    </tr>\n",
       "    <tr>\n",
       "      <th>1</th>\n",
       "      <td>1 9727 Human minds a fascination in itself car...</td>\n",
       "    </tr>\n",
       "    <tr>\n",
       "      <th>2</th>\n",
       "      <td>Introduction AI is rapidly evolving in the emp...</td>\n",
       "    </tr>\n",
       "    <tr>\n",
       "      <th>3</th>\n",
       "      <td>21 6954 “Anything that could give rise to smar...</td>\n",
       "    </tr>\n",
       "    <tr>\n",
       "      <th>4</th>\n",
       "      <td>s the last invention that humanity will ever n...</td>\n",
       "    </tr>\n",
       "    <tr>\n",
       "      <th>...</th>\n",
       "      <td>...</td>\n",
       "    </tr>\n",
       "    <tr>\n",
       "      <th>109</th>\n",
       "      <td>aperthin or lets say “papermoney thin” differe...</td>\n",
       "    </tr>\n",
       "    <tr>\n",
       "      <th>110</th>\n",
       "      <td>ay or appreciation Economically investment is ...</td>\n",
       "    </tr>\n",
       "    <tr>\n",
       "      <th>111</th>\n",
       "      <td>e The high cost of Medical service and lack of...</td>\n",
       "    </tr>\n",
       "    <tr>\n",
       "      <th>112</th>\n",
       "      <td>vering and presenting the meaningful patterns ...</td>\n",
       "    </tr>\n",
       "    <tr>\n",
       "      <th>113</th>\n",
       "      <td>like to explain what big data is and why it ha...</td>\n",
       "    </tr>\n",
       "  </tbody>\n",
       "</table>\n",
       "<p>114 rows × 1 columns</p>\n",
       "</div>"
      ],
      "text/plain": [
       "                                                  Text\n",
       "0    Introduction “If anything kills over 10 millio...\n",
       "1    1 9727 Human minds a fascination in itself car...\n",
       "2    Introduction AI is rapidly evolving in the emp...\n",
       "3    21 6954 “Anything that could give rise to smar...\n",
       "4    s the last invention that humanity will ever n...\n",
       "..                                                 ...\n",
       "109  aperthin or lets say “papermoney thin” differe...\n",
       "110  ay or appreciation Economically investment is ...\n",
       "111  e The high cost of Medical service and lack of...\n",
       "112  vering and presenting the meaningful patterns ...\n",
       "113  like to explain what big data is and why it ha...\n",
       "\n",
       "[114 rows x 1 columns]"
      ]
     },
     "execution_count": 161,
     "metadata": {},
     "output_type": "execute_result"
    }
   ],
   "source": [
    "text"
   ]
  },
  {
   "cell_type": "code",
   "execution_count": 87,
   "id": "f182d499",
   "metadata": {
    "ExecuteTime": {
     "end_time": "2023-02-07T14:21:12.059693Z",
     "start_time": "2023-02-07T14:21:12.039707Z"
    }
   },
   "outputs": [],
   "source": [
    "positive=pd.read_csv(\"MasterDictionary/positive-words.txt\",header=None)\n",
    "negative=pd.read_csv(\"MasterDictionary/negative-words.txt\",header=None,encoding=\"ISO-8859-1\")"
   ]
  },
  {
   "cell_type": "code",
   "execution_count": 88,
   "id": "08907308",
   "metadata": {
    "ExecuteTime": {
     "end_time": "2023-02-07T14:21:19.438274Z",
     "start_time": "2023-02-07T14:21:19.416276Z"
    }
   },
   "outputs": [
    {
     "data": {
      "text/html": [
       "<div>\n",
       "<style scoped>\n",
       "    .dataframe tbody tr th:only-of-type {\n",
       "        vertical-align: middle;\n",
       "    }\n",
       "\n",
       "    .dataframe tbody tr th {\n",
       "        vertical-align: top;\n",
       "    }\n",
       "\n",
       "    .dataframe thead th {\n",
       "        text-align: right;\n",
       "    }\n",
       "</style>\n",
       "<table border=\"1\" class=\"dataframe\">\n",
       "  <thead>\n",
       "    <tr style=\"text-align: right;\">\n",
       "      <th></th>\n",
       "      <th>0</th>\n",
       "    </tr>\n",
       "  </thead>\n",
       "  <tbody>\n",
       "    <tr>\n",
       "      <th>0</th>\n",
       "      <td>2-faced</td>\n",
       "    </tr>\n",
       "    <tr>\n",
       "      <th>1</th>\n",
       "      <td>2-faces</td>\n",
       "    </tr>\n",
       "    <tr>\n",
       "      <th>2</th>\n",
       "      <td>abnormal</td>\n",
       "    </tr>\n",
       "    <tr>\n",
       "      <th>3</th>\n",
       "      <td>abolish</td>\n",
       "    </tr>\n",
       "    <tr>\n",
       "      <th>4</th>\n",
       "      <td>abominable</td>\n",
       "    </tr>\n",
       "    <tr>\n",
       "      <th>...</th>\n",
       "      <td>...</td>\n",
       "    </tr>\n",
       "    <tr>\n",
       "      <th>4778</th>\n",
       "      <td>zaps</td>\n",
       "    </tr>\n",
       "    <tr>\n",
       "      <th>4779</th>\n",
       "      <td>zealot</td>\n",
       "    </tr>\n",
       "    <tr>\n",
       "      <th>4780</th>\n",
       "      <td>zealous</td>\n",
       "    </tr>\n",
       "    <tr>\n",
       "      <th>4781</th>\n",
       "      <td>zealously</td>\n",
       "    </tr>\n",
       "    <tr>\n",
       "      <th>4782</th>\n",
       "      <td>zombie</td>\n",
       "    </tr>\n",
       "  </tbody>\n",
       "</table>\n",
       "<p>4783 rows × 1 columns</p>\n",
       "</div>"
      ],
      "text/plain": [
       "               0\n",
       "0        2-faced\n",
       "1        2-faces\n",
       "2       abnormal\n",
       "3        abolish\n",
       "4     abominable\n",
       "...          ...\n",
       "4778        zaps\n",
       "4779      zealot\n",
       "4780     zealous\n",
       "4781   zealously\n",
       "4782      zombie\n",
       "\n",
       "[4783 rows x 1 columns]"
      ]
     },
     "execution_count": 88,
     "metadata": {},
     "output_type": "execute_result"
    }
   ],
   "source": [
    "negative"
   ]
  },
  {
   "cell_type": "code",
   "execution_count": 116,
   "id": "5757b63a",
   "metadata": {
    "ExecuteTime": {
     "end_time": "2023-02-07T14:43:57.921369Z",
     "start_time": "2023-02-07T14:43:57.899368Z"
    }
   },
   "outputs": [],
   "source": [
    "positive.columns=['Text']\n",
    "negative.columns=['Text']\n",
    "positive['Text']=positive['Text'].astype(str)\n",
    "negative['Text']=negative['Text'].astype(str)"
   ]
  },
  {
   "cell_type": "code",
   "execution_count": 117,
   "id": "723b4d6f",
   "metadata": {
    "ExecuteTime": {
     "end_time": "2023-02-07T14:43:58.601019Z",
     "start_time": "2023-02-07T14:43:58.374230Z"
    }
   },
   "outputs": [],
   "source": [
    "positive['Text']=positive['Text'].apply(stopward_elimination)\n",
    "negative['Text']=negative['Text'].apply(stopward_elimination)"
   ]
  },
  {
   "cell_type": "code",
   "execution_count": 118,
   "id": "4b9defa3",
   "metadata": {
    "ExecuteTime": {
     "end_time": "2023-02-07T14:43:58.888594Z",
     "start_time": "2023-02-07T14:43:58.749061Z"
    }
   },
   "outputs": [],
   "source": [
    "length=positive.shape[0]\n",
    "post=[]\n",
    "for i in range(0,length):\n",
    "    nopunc =[char for char in positive.iloc[i] if char not in string.punctuation or char != '+']\n",
    "    nopunc=''.join(nopunc)\n",
    "    post.append(nopunc)"
   ]
  },
  {
   "cell_type": "code",
   "execution_count": 119,
   "id": "9aa321f4",
   "metadata": {
    "ExecuteTime": {
     "end_time": "2023-02-07T14:43:59.713268Z",
     "start_time": "2023-02-07T14:43:59.453321Z"
    }
   },
   "outputs": [],
   "source": [
    "length=negative.shape[0]\n",
    "neg=[]\n",
    "for i in range(0,length):\n",
    "    nopunc =[char for char in negative.iloc[i] if char not in string.punctuation or char != '+']\n",
    "    nopunc=''.join(nopunc)\n",
    "    neg.append(nopunc)"
   ]
  },
  {
   "cell_type": "code",
   "execution_count": 120,
   "id": "8372ce40",
   "metadata": {
    "ExecuteTime": {
     "end_time": "2023-02-07T14:43:59.865798Z",
     "start_time": "2023-02-07T14:43:59.843496Z"
    }
   },
   "outputs": [],
   "source": [
    "txt_list=[]\n",
    "length=text.shape[0]\n",
    "for i in range(0,length):\n",
    "    txt=' '.join([word for word in text.iloc[i]])\n",
    "    txt_list.append(txt)"
   ]
  },
  {
   "cell_type": "code",
   "execution_count": 132,
   "id": "6e57d58d",
   "metadata": {
    "ExecuteTime": {
     "end_time": "2023-02-07T14:51:26.289204Z",
     "start_time": "2023-02-07T14:51:25.894100Z"
    }
   },
   "outputs": [],
   "source": [
    "tokenize_text=[]\n",
    "for i in txt_list:\n",
    "    tokenize_text.append(word_tokenize(i))"
   ]
  },
  {
   "cell_type": "code",
   "execution_count": 135,
   "id": "19d61b9e",
   "metadata": {
    "ExecuteTime": {
     "end_time": "2023-02-07T14:51:53.466003Z",
     "start_time": "2023-02-07T14:51:53.455003Z"
    }
   },
   "outputs": [
    {
     "data": {
      "text/plain": [
       "114"
      ]
     },
     "execution_count": 135,
     "metadata": {},
     "output_type": "execute_result"
    }
   ],
   "source": [
    "len(tokenize_text)"
   ]
  },
  {
   "cell_type": "markdown",
   "id": "f6384041",
   "metadata": {},
   "source": [
    "## Positive Score"
   ]
  },
  {
   "cell_type": "code",
   "execution_count": 149,
   "id": "92774600",
   "metadata": {
    "ExecuteTime": {
     "end_time": "2023-02-07T14:57:19.742452Z",
     "start_time": "2023-02-07T14:57:17.140877Z"
    }
   },
   "outputs": [
    {
     "name": "stdout",
     "output_type": "stream",
     "text": [
      "postive score= [99, 100, 108, 116, 114, 84, 41, 0, 56, 127, 104, 69, 65, 100, 111, 45, 135, 62, 45, 9, 0, 54, 34, 107, 66, 15, 55, 44, 31, 9, 55, 17, 81, 27, 53, 66, 81, 90, 48, 90, 59, 76, 55, 88, 47, 70, 56, 81, 35, 64, 70, 70, 86, 62, 8, 62, 64, 98, 60, 45, 32, 74, 60, 52, 6, 56, 22, 52, 57, 10, 37, 56, 46, 19, 30, 49, 51, 86, 65, 36, 95, 77, 17, 85, 87, 76, 95, 92, 86, 30, 81, 84, 13, 54, 145, 55, 74, 15, 14, 9, 8, 11, 56, 44, 31, 78, 20, 0, 48, 59, 84, 65, 47, 72]\n"
     ]
    }
   ],
   "source": [
    "positive_score=[]\n",
    "pos_sc=0\n",
    "for j in range(len(tokenize_text)):\n",
    "    for i in tokenize_text[j]:\n",
    "        if(i.lower() in post):\n",
    "            pos_sc+=1\n",
    "    positive_score.append(pos_sc)\n",
    "    pos_sc=0\n",
    "print('postive score=', positive_score)"
   ]
  },
  {
   "cell_type": "markdown",
   "id": "f1bf8b32",
   "metadata": {},
   "source": [
    "## Negative Score"
   ]
  },
  {
   "cell_type": "code",
   "execution_count": 151,
   "id": "2cc2ec19",
   "metadata": {
    "ExecuteTime": {
     "end_time": "2023-02-07T15:03:17.290471Z",
     "start_time": "2023-02-07T15:03:11.047023Z"
    }
   },
   "outputs": [
    {
     "name": "stdout",
     "output_type": "stream",
     "text": [
      "negative score= [34, 38, 38, 28, 28, 24, 12, 1, 12, 41, 69, 22, 29, 24, 24, 0, 39, 0, 5, 4, 1, 70, 15, 38, 3, 2, 10, 8, 8, 0, 36, 1, 19, 18, 37, 48, 23, 26, 7, 8, 6, 16, 71, 21, 44, 26, 79, 34, 12, 25, 52, 11, 54, 69, 1, 4, 33, 16, 33, 44, 42, 47, 27, 44, 2, 45, 25, 57, 35, 2, 2, 57, 24, 39, 33, 51, 36, 47, 45, 25, 78, 54, 14, 89, 65, 67, 86, 74, 18, 24, 94, 44, 27, 63, 33, 21, 34, 15, 6, 15, 8, 11, 20, 54, 47, 72, 26, 1, 15, 27, 14, 48, 4, 42]\n"
     ]
    }
   ],
   "source": [
    "negative_score=[]\n",
    "neg_sc=0\n",
    "for j in range(len(tokenize_text)):\n",
    "    for i in tokenize_text[j]:\n",
    "        if(i.lower() in neg):\n",
    "            neg_sc+=1\n",
    "    negative_score.append(neg_sc)\n",
    "    neg_sc=0\n",
    "print('negative score=', negative_score)"
   ]
  },
  {
   "cell_type": "markdown",
   "id": "7d6d003c",
   "metadata": {},
   "source": [
    "## Polarity Score"
   ]
  },
  {
   "cell_type": "code",
   "execution_count": 153,
   "id": "00e294b9",
   "metadata": {
    "ExecuteTime": {
     "end_time": "2023-02-07T15:08:28.808365Z",
     "start_time": "2023-02-07T15:08:28.787360Z"
    },
    "scrolled": true
   },
   "outputs": [
    {
     "name": "stdout",
     "output_type": "stream",
     "text": [
      "polarity_score= [0.4887218008366782, 0.449275359063222, 0.4794520515106024, 0.611111106867284, 0.6056337985518747, 0.5555555504115227, 0.5471698009967962, -0.9999990000010001, 0.647058814013841, 0.5119047588577098, 0.20231213755888938, 0.5164835108078735, 0.38297871933001365, 0.6129032208636838, 0.6444444396707819, 0.9999999777777784, 0.5517241347602061, 0.999999983870968, 0.7999999840000004, 0.3846153550295881, -0.9999990000010001, -0.12903225702393342, 0.3877550941274471, 0.4758620656837099, 0.9130434650283556, 0.7647058373702448, 0.6923076816568049, 0.6923076789940831, 0.5897435746219597, 0.9999998888889013, 0.20879120649679994, 0.8888888395061756, 0.6199999938, 0.19999999555555567, 0.17777777580246917, 0.15789473545706373, 0.5576923023298818, 0.551724133174792, 0.7454545319008268, 0.836734685339442, 0.815384602840237, 0.6521739059546314, -0.12698412597631648, 0.614678893443313, 0.03296703260475788, 0.45833332855902786, -0.17037036910836764, 0.4086956486200378, 0.4893616917157087, 0.4382022422673906, 0.14754098239720506, 0.7283950527358636, 0.22857142693877552, -0.053435114095915164, 0.7777776913580343, 0.8787878654729112, 0.3195876255712616, 0.7192982393044014, 0.2903225775234132, 0.011235954929933092, -0.1351351333089847, 0.22314049402363229, 0.37931034046769724, 0.08333333246527778, 0.4999999375000079, 0.10891089001078327, -0.06382978587596201, -0.04587155921218753, 0.23913043218336488, 0.6666666111111158, 0.8974358744247213, -0.008849557443809226, 0.31428570979591847, -0.34482758026159344, -0.04761904686318973, -0.0199999998, 0.17241379112168057, 0.2932330805020069, 0.18181818016528928, 0.1803278658962645, 0.09826589538574627, 0.17557251774372123, 0.09677419042663901, -0.02298850561500859, 0.1447368411530471, 0.06293706249694361, 0.04972375663136046, 0.10843373428654376, 0.6538461475591717, 0.11111110905349798, -0.0742857138612245, 0.31249999755859376, -0.34999999125000025, -0.07692307626561473, 0.6292134796111603, 0.44736841516620507, 0.3703703669410151, 0.0, 0.399999980000001, -0.24999998958333375, 0.0, 0.0, 0.4736842042936289, -0.1020408152852978, -0.2051282024983564, 0.03999999973333333, -0.13043477977315696, -0.9999990000010001, 0.523809515495087, 0.372093018929151, 0.7142857069970846, 0.15044247654475684, 0.8431372383698581, 0.26315789242843957]\n"
     ]
    }
   ],
   "source": [
    "polarity_score=[]\n",
    "for j in range(len(tokenize_text)):\n",
    "    pol_sc=(positive_score[j]-negative_score[j])/((positive_score[j]+negative_score[j])+0.000001)\n",
    "    polarity_score.append(pol_sc)\n",
    "print('polarity_score=', polarity_score)"
   ]
  },
  {
   "cell_type": "markdown",
   "id": "2a314a76",
   "metadata": {},
   "source": [
    "## Subjectivity Score"
   ]
  },
  {
   "cell_type": "code",
   "execution_count": 154,
   "id": "15603d4a",
   "metadata": {
    "ExecuteTime": {
     "end_time": "2023-02-07T15:16:14.932706Z",
     "start_time": "2023-02-07T15:16:14.923706Z"
    },
    "scrolled": true
   },
   "outputs": [
    {
     "name": "stdout",
     "output_type": "stream",
     "text": [
      "subjectivity_score [0.03635346754118934, 0.044508255531580575, 0.041176470564013835, 0.05359317901730013, 0.04905875638958428, 0.0466200465838228, 0.040221913952535486, -0.33333322222225925, 0.06241134742920376, 0.039777983330352464, 0.017421602778784667, 0.03959561917472989, 0.029173419749454275, 0.04497041417457372, 0.05327617877937772, 0.0924024638759703, 0.05330372012587244, 0.06609808095298712, 0.058651026306963304, 0.01515151510560147, -0.33333322222225925, -0.01157742401477755, 0.026388888852237655, 0.03483089347055482, 0.0940298506059256, 0.03523035220804783, 0.03978779837330875, 0.058919803504222906, 0.05943152439423379, 0.060402684158371245, 0.023602484442729832, 0.09696969638200184, 0.05294619978399129, 0.017045454513171486, 0.015108592998008881, 0.010688836098165774, 0.03339090383800178, 0.043835616408331765, 0.04761904756374094, 0.0586972082614909, 0.11622806992055248, 0.037617554835349495, -0.016410256393425377, 0.06102003637429869, 0.002548853013977185, 0.031095406338448473, -0.022395326170987995, 0.03014753044891114, 0.03091397845307261, 0.03344768436239478, 0.010619469020283498, 0.017949498017052177, 0.018109790595297232, -0.004635761586333932, 0.049645389718827024, 0.061375661310713585, 0.01712707181374195, 0.046697038697780725, 0.02556818179396952, 0.0005691519632503403, -0.01049317942235763, 0.022632020098380536, 0.030414746515746775, 0.006369426746521157, 0.028985507036336906, 0.010147601466653503, -0.0048309178666168795, -0.004541326063086897, 0.02035152634565076, 0.02122015909490674, 0.060869565111531194, -0.0009560229436366892, 0.03151862459667819, -0.019286403067226225, -0.0029556650217185568, -0.0019920318705258645, 0.011961722478499423, 0.025128865963190163, 0.01109262339928307, 0.012658227833534836, 0.008881922670385619, 0.018312101896248326, 0.00903614455109595, -0.0018717828723108178, 0.013819095468706598, 0.0052878965891375454, 0.005044843046499527, 0.009379885352068846, 0.03707742637018679, 0.007202881143814069, -0.008243500311830373, 0.04123711335954937, -0.021374045768894588, -0.005421686743721875, 0.06455331408383094, 0.024999999981617647, 0.04153686392363773, 0.0, 0.02402402395187981, -0.014319809035036256, 0.0, 0.0, 0.0627177699255788, -0.009803921559015763, -0.016789087075772206, 0.003342618382538931, -0.009983361048280598, -0.33333322222225925, 0.035947712379141926, 0.03648802732441502, 0.045513654066636114, 0.014951627075680186, 0.06099290771490368, 0.029013539623778006]\n"
     ]
    }
   ],
   "source": [
    "subjectiivity_score=[]\n",
    "for j in range(len(tokenize_text)):\n",
    "    sub_sc=(positive_score[j]-negative_score[j])/((len(tokenize_text[j]))+ 0.000001)\n",
    "    subjectiivity_score.append(sub_sc)\n",
    "print('subjectivity_score',subjectiivity_score)"
   ]
  },
  {
   "cell_type": "markdown",
   "id": "efb2d141",
   "metadata": {
    "ExecuteTime": {
     "end_time": "2023-02-07T15:16:58.520353Z",
     "start_time": "2023-02-07T15:16:58.511353Z"
    }
   },
   "source": [
    "## Average Sentence Length"
   ]
  },
  {
   "cell_type": "code",
   "execution_count": 197,
   "id": "b4b3b666",
   "metadata": {
    "ExecuteTime": {
     "end_time": "2023-02-07T15:46:13.528603Z",
     "start_time": "2023-02-07T15:46:13.520604Z"
    }
   },
   "outputs": [],
   "source": [
    "calc = pickle.load(open(\"Text_Data.pkl\",\"rb\"))"
   ]
  },
  {
   "cell_type": "code",
   "execution_count": 198,
   "id": "2910d7c5",
   "metadata": {
    "ExecuteTime": {
     "end_time": "2023-02-07T15:46:13.881334Z",
     "start_time": "2023-02-07T15:46:13.856010Z"
    }
   },
   "outputs": [],
   "source": [
    "calc = pd.DataFrame(calc)"
   ]
  },
  {
   "cell_type": "code",
   "execution_count": 200,
   "id": "a7657a33",
   "metadata": {
    "ExecuteTime": {
     "end_time": "2023-02-07T15:46:42.569894Z",
     "start_time": "2023-02-07T15:46:42.559906Z"
    }
   },
   "outputs": [],
   "source": [
    "calc.rename(columns={0:\"Text\"},inplace=True)"
   ]
  },
  {
   "cell_type": "code",
   "execution_count": 203,
   "id": "b30797a2",
   "metadata": {
    "ExecuteTime": {
     "end_time": "2023-02-07T15:47:14.704622Z",
     "start_time": "2023-02-07T15:47:14.695622Z"
    }
   },
   "outputs": [
    {
     "data": {
      "text/plain": [
       "92"
      ]
     },
     "execution_count": 203,
     "metadata": {},
     "output_type": "execute_result"
    }
   ],
   "source": [
    "calc.Text[0].count(\".\")"
   ]
  },
  {
   "cell_type": "code",
   "execution_count": 236,
   "id": "406af82d",
   "metadata": {
    "ExecuteTime": {
     "end_time": "2023-02-08T13:57:39.939278Z",
     "start_time": "2023-02-08T13:57:39.926279Z"
    },
    "scrolled": true
   },
   "outputs": [
    {
     "name": "stdout",
     "output_type": "stream",
     "text": [
      "avg sentence length= [128.81521739130434, 95.74117647058823, 106.58823529411765, 94.69, 107.20202020202021, 105.57534246575342, 69.0952380952381, 0, 75.77777777777777, 126.91, 87.39568345323741, 111.40579710144928, 76.20618556701031, 103.10416666666667, 100.37373737373737, 86.33333333333333, 315.3030303030303, 76.0657894736842, 74.89830508474576, 77.77777777777777, 0, 112.24, 87.51020408163265, 107.4766355140187, 63.12307692307692, 58.10526315789474, 92.52112676056338, 84.95652173913044, 43.054545454545455, 31.733333333333334, 61.44, 34.55555555555556, 90.43023255813954, 55.41379310344828, 91.8955223880597, 121.54545454545455, 106.96774193548387, 97.86206896551724, 57.91463414634146, 94.34146341463415, 63.975, 117.5609756097561, 63.48863636363637, 66.95555555555555, 89.97402597402598, 80.28440366972477, 62.92553191489362, 107.28571428571429, 104.4090909090909, 124.28333333333333, 101.2156862745098, 72.85661764705883, 102.45631067961165, 107.2967032967033, 25.933333333333334, 81.47058823529412, 76.77697841726619, 100.17142857142858, 98.578125, 118.05376344086021, 89.015625, 80.3953488372093, 117.16363636363636, 90.65116279069767, 27.333333333333332, 80.33333333333333, 73.88, 101.13235294117646, 104.2542372881356, 52.93617021276596, 65.22, 110.49152542372882, 74.26530612244898, 87.93150684931507, 88.26388888888889, 91.46376811594203, 101.89189189189189, 97.3804347826087, 97.84684684684684, 101.68888888888888, 115.3883495145631, 74.3010752688172, 60.628571428571426, 118.27678571428571, 103.21428571428571, 89.74107142857143, 112.2, 95.46031746031746, 142.18987341772151, 101.89795918367346, 98.5050505050505, 67.32142857142857, 88.14893617021276, 143.22222222222223, 126.26744186046511, 104.55128205128206, 117.55357142857143, 90.27586206896552, 51.08108108108108, 57.595238095238095, 43.225806451612904, 47.645161290322584, 55.44117647058823, 86.62857142857143, 95.75862068965517, 112.26804123711341, 70.88235294117646, 0, 106.09433962264151, 77.36111111111111, 84.5, 79.1264367816092, 91.80392156862744, 73.45882352941176]\n"
     ]
    }
   ],
   "source": [
    "avg_senetence_length=[]\n",
    "avg_scr = 0\n",
    "for i in range(len(texts)):\n",
    "    try:\n",
    "        avg_scr = len(texts.Text[i])/(calc.Text[i].count(\".\"))\n",
    "        avg_senetence_length.append(avg_scr)\n",
    "    except ZeroDivisionError:\n",
    "        avg_senetence_length.append(0)\n",
    "print('avg sentence length=', avg_senetence_length)"
   ]
  },
  {
   "cell_type": "markdown",
   "id": "9add8675",
   "metadata": {
    "ExecuteTime": {
     "end_time": "2023-02-08T13:13:34.433710Z",
     "start_time": "2023-02-08T13:13:34.405713Z"
    }
   },
   "source": [
    "## Percentage of Complex Words"
   ]
  },
  {
   "cell_type": "code",
   "execution_count": 249,
   "id": "2f999711",
   "metadata": {
    "ExecuteTime": {
     "end_time": "2023-02-08T16:16:43.128805Z",
     "start_time": "2023-02-08T16:16:42.761989Z"
    },
    "scrolled": true
   },
   "outputs": [
    {
     "name": "stdout",
     "output_type": "stream",
     "text": [
      "percentag of complex words=  [0.3495525727069351, 0.2383345297918162, 0.3352941176470588, 0.23264311814859928, 0.25841414717626926, 0.25485625485625485, 0.2552011095700416, 0.0, 0.2297872340425532, 0.2608695652173913, 0.27177700348432055, 0.3201347935973041, 0.26499189627228525, 0.2467455621301775, 0.27311696264543783, 0.324435318275154, 0.23709050527484732, 0.3187633262260128, 0.3313782991202346, 0.3151515151515151, 0.0, 0.28509406657018815, 0.25555555555555554, 0.23271075214538112, 0.2865671641791045, 0.23035230352303523, 0.2537577365163572, 0.3158756137479542, 0.2532299741602067, 0.31543624161073824, 0.2062111801242236, 0.21818181818181817, 0.3552519214346712, 0.2859848484848485, 0.23229461756373937, 0.3016627078384798, 0.21301093839953944, 0.2321917808219178, 0.21254355400696864, 0.2133142448103078, 0.2412280701754386, 0.2871473354231975, 0.23794871794871794, 0.17122040072859745, 0.21495327102803738, 0.2784452296819788, 0.24634858812074, 0.22706863373957664, 0.24731182795698925, 0.274442538593482, 0.27728613569321536, 0.2561606327958625, 0.2597623089983022, 0.3490066225165563, 0.20567375886524822, 0.2518518518518518, 0.22707182320441988, 0.27961275626423693, 0.2490530303030303, 0.28343767785998863, 0.2497376705141658, 0.24224643755238895, 0.2571428571428571, 0.2770700636942675, 0.18115942028985507, 0.23985239852398524, 0.2576489533011272, 0.28247048138056313, 0.2238667900092507, 0.34748010610079577, 0.19478260869565217, 0.28393881453154873, 0.13753581661891118, 0.2757955641272903, 0.26798029556650244, 0.2918326693227092, 0.2623604465709729, 0.23260309278350516, 0.27454242928452577, 0.13693901035673187, 0.27324973876698017, 0.19187898089171976, 0.29518072289156627, 0.2788956481048198, 0.17902010050251257, 0.25323149236192716, 0.2589686098654709, 0.30015633142261594, 0.27589967284623773, 0.25570228091236497, 0.27520608750792647, 0.26804123711340205, 0.2885496183206107, 0.25421686746987954, 0.2870317002881844, 0.2661764705882353, 0.36656282450674976, 0.3385416666666667, 0.1981981981981982, 0.24105011933174225, 0.2127659574468085, 0.27710843373493976, 0.3327526132404181, 0.2549019607843137, 0.22560335781741866, 0.2885793871866295, 0.24792013311148087, 0.0, 0.2494553376906318, 0.28506271379703535, 0.29128738621586475, 0.3113456464379947, 0.350354609929078, 0.26499032882011603]\n"
     ]
    }
   ],
   "source": [
    "Percentage_of_Complex_words = []\n",
    "vowels=['a','e','i','o','u']\n",
    "count=0\n",
    "complex_word=0\n",
    "complex_Word_Count=0\n",
    "for r in range(len(tokenize_text)):\n",
    "    for i in tokenize_text[r]:\n",
    "        x=re.compile('[es|ed|ing|ly]$')\n",
    "        if x.match(i.lower()):\n",
    "            count+=1\n",
    "        else:\n",
    "            for j in i:\n",
    "                if(j.lower() in vowels ):\n",
    "                    count+=1\n",
    "        if(count>2):\n",
    "            complex_Word_Count+=1\n",
    "        count=0\n",
    "    complex_word=complex_Word_Count/len(tokenize_text[r]) \n",
    "    Percentage_of_Complex_words.append(complex_word)\n",
    "    complex_word=0\n",
    "    complex_Word_Count=0\n",
    "print('percentag of complex words= ',Percentage_of_Complex_words)"
   ]
  },
  {
   "cell_type": "markdown",
   "id": "5da2b40d",
   "metadata": {
    "ExecuteTime": {
     "end_time": "2023-02-08T13:43:04.350270Z",
     "start_time": "2023-02-08T13:43:04.339270Z"
    }
   },
   "source": [
    "## Fog Index"
   ]
  },
  {
   "cell_type": "code",
   "execution_count": 238,
   "id": "681e7465",
   "metadata": {
    "ExecuteTime": {
     "end_time": "2023-02-08T13:57:46.508748Z",
     "start_time": "2023-02-08T13:57:46.497749Z"
    },
    "scrolled": true
   },
   "outputs": [
    {
     "name": "stdout",
     "output_type": "stream",
     "text": [
      "fog index=  [51.66590798560451, 38.39180440015202, 42.769411764705886, 37.96905724725944, 42.984173739678596, 42.33207948824387, 27.740175681923258, 0.0, 30.40302600472813, 50.86834782608696, 35.06698418268869, 44.69037275801864, 30.58847098531304, 41.34036489151874, 40.258741734553126, 34.663107460643396, 126.21604832332207, 30.55382111996409, 30.091873353546397, 31.237171717171716, 0.0, 45.010037626628076, 35.106303854875286, 43.083738506465636, 25.363857634902413, 23.33424618456711, 37.109953798831896, 34.10895894115136, 17.323110171482266, 12.819507829977631, 24.65848447204969, 13.90949494949495, 36.31419379182969, 22.279911180773254, 36.851126802249375, 48.73884690131721, 42.872301149553365, 39.23770429853567, 23.250871080139376, 37.82191106377778, 25.68649122807018, 47.13924917807172, 25.490634032634034, 26.85071038251366, 36.075591698021604, 32.2251395597627, 25.268752201205743, 43.00511316778155, 41.86256109481916, 49.823110348770726, 40.59718896408121, 29.24511131194188, 41.08642919544398, 43.05828396768794, 10.455602836879434, 32.68897603485839, 30.80162009618825, 40.18041653107713, 39.53087121212121, 47.33488044748808, 35.706145068205664, 32.25503810990468, 46.96831168831169, 36.37129314175677, 11.005797101449275, 32.22927429274292, 29.65505958132045, 40.56592936902281, 41.79124163125795, 21.313460127546705, 26.16591304347826, 44.31018569530415, 29.761136775627154, 35.282920965376945, 35.41274767378216, 36.7022403141059, 40.861700935385144, 39.045215150156885, 39.24855571045255, 40.730331159698245, 46.26463970133204, 29.797181699883566, 24.369500860585198, 47.422272544956215, 41.35732232591529, 35.997721168373346, 44.98358744394619, 38.30418951669603, 56.9863092362271, 40.861464585834334, 39.512102637023375, 27.03578792341679, 35.37499431541335, 57.39057563587685, 50.62178942430132, 41.92698340874812, 47.16805370123127, 36.24576149425288, 20.511711711711712, 23.134515285827934, 17.375428963623886, 19.16890788962301, 22.309571633531462, 34.7533893557423, 38.393689618989036, 45.02264824972002, 28.452109229715177, 0.0, 42.53751798413286, 31.05846952996326, 33.91651495448635, 31.77511297121888, 36.86171047142261, 29.489525543292753]\n"
     ]
    }
   ],
   "source": [
    "Fog_Index=[]\n",
    "fg_ind=0\n",
    "for j in range(len(tokenize_text)):\n",
    "    fg_ind = 0.4 * (avg_senetence_length[j] + Percentage_of_Complex_words[j])\n",
    "    Fog_Index.append(fg_ind)\n",
    "print('fog index= ',Fog_Index )"
   ]
  },
  {
   "cell_type": "markdown",
   "id": "7b42b55e",
   "metadata": {},
   "source": [
    "## Aveerag Number of Word Per Sentence"
   ]
  },
  {
   "cell_type": "code",
   "execution_count": 244,
   "id": "241f5491",
   "metadata": {
    "ExecuteTime": {
     "end_time": "2023-02-08T16:04:31.573906Z",
     "start_time": "2023-02-08T16:04:31.553908Z"
    },
    "scrolled": true
   },
   "outputs": [
    {
     "name": "stdout",
     "output_type": "stream",
     "text": [
      "avg no of words per sentence=  [128.81521739130434, 95.74117647058823, 106.58823529411765, 94.69, 107.20202020202021, 105.57534246575342, 69.0952380952381, 0, 75.77777777777777, 126.91, 87.39568345323741, 111.40579710144928, 76.20618556701031, 103.10416666666667, 100.37373737373737, 86.33333333333333, 315.3030303030303, 76.0657894736842, 74.89830508474576, 77.77777777777777, 0, 112.24, 87.51020408163265, 107.4766355140187, 63.12307692307692, 58.10526315789474, 92.52112676056338, 84.95652173913044, 43.054545454545455, 31.733333333333334, 61.44, 34.55555555555556, 90.43023255813954, 55.41379310344828, 91.8955223880597, 121.54545454545455, 106.96774193548387, 97.86206896551724, 57.91463414634146, 94.34146341463415, 63.975, 117.5609756097561, 63.48863636363637, 66.95555555555555, 89.97402597402598, 80.28440366972477, 62.92553191489362, 107.28571428571429, 104.4090909090909, 124.28333333333333, 101.2156862745098, 72.85661764705883, 102.45631067961165, 107.2967032967033, 25.933333333333334, 81.47058823529412, 76.77697841726619, 100.17142857142858, 98.578125, 118.05376344086021, 89.015625, 80.3953488372093, 117.16363636363636, 90.65116279069767, 27.333333333333332, 80.33333333333333, 73.88, 101.13235294117646, 104.2542372881356, 52.93617021276596, 65.22, 110.49152542372882, 74.26530612244898, 87.93150684931507, 88.26388888888889, 91.46376811594203, 101.89189189189189, 97.3804347826087, 97.84684684684684, 101.68888888888888, 115.3883495145631, 74.3010752688172, 60.628571428571426, 118.27678571428571, 103.21428571428571, 89.74107142857143, 112.2, 95.46031746031746, 142.18987341772151, 101.89795918367346, 98.5050505050505, 67.32142857142857, 88.14893617021276, 143.22222222222223, 126.26744186046511, 104.55128205128206, 117.55357142857143, 90.27586206896552, 51.08108108108108, 57.595238095238095, 43.225806451612904, 47.645161290322584, 55.44117647058823, 86.62857142857143, 95.75862068965517, 112.26804123711341, 70.88235294117646, 0, 106.09433962264151, 77.36111111111111, 84.5, 79.1264367816092, 91.80392156862744, 73.45882352941176]\n"
     ]
    }
   ],
   "source": [
    "avg_no_of_words_per_sentence = avg_senetence_length.copy()\n",
    "print(\"avg no of words per sentence= \",avg_no_of_words_per_sentence)"
   ]
  },
  {
   "cell_type": "markdown",
   "id": "228221e3",
   "metadata": {
    "ExecuteTime": {
     "end_time": "2023-02-08T13:54:19.478132Z",
     "start_time": "2023-02-08T13:54:19.469126Z"
    }
   },
   "source": [
    "## Complex Word Count"
   ]
  },
  {
   "cell_type": "code",
   "execution_count": 250,
   "id": "b42fa781",
   "metadata": {
    "ExecuteTime": {
     "end_time": "2023-02-08T16:16:56.485725Z",
     "start_time": "2023-02-08T16:16:56.109617Z"
    }
   },
   "outputs": [
    {
     "name": "stdout",
     "output_type": "stream",
     "text": [
      "complex words count=  [625, 332, 570, 382, 453, 328, 184, 0, 162, 564, 546, 380, 327, 417, 446, 158, 427, 299, 226, 104, 0, 394, 184, 461, 192, 85, 287, 193, 98, 47, 166, 36, 416, 151, 246, 508, 370, 339, 183, 298, 110, 458, 232, 188, 253, 394, 253, 354, 184, 320, 470, 842, 459, 527, 29, 238, 411, 491, 263, 498, 238, 289, 279, 348, 25, 260, 160, 311, 242, 131, 112, 297, 96, 286, 272, 293, 329, 361, 495, 119, 523, 241, 98, 596, 285, 431, 462, 576, 506, 213, 434, 260, 189, 422, 498, 362, 353, 130, 66, 101, 50, 69, 191, 260, 215, 518, 149, 0, 229, 250, 448, 354, 247, 274]\n"
     ]
    }
   ],
   "source": [
    "Complex_words_count = []\n",
    "vowels=['a','e','i','o','u']\n",
    "count=0\n",
    "complex_Count=0\n",
    "for r in range(len(tokenize_text)):\n",
    "    for i in tokenize_text[r]:\n",
    "        x=re.compile('[es|ed|ing|ly]$')\n",
    "        if x.match(i.lower()):\n",
    "            count+=1\n",
    "        else:\n",
    "            for j in i:\n",
    "                if(j.lower() in vowels ):\n",
    "                    count+=1\n",
    "        if(count>2):\n",
    "            complex_Count+=1\n",
    "        count=0\n",
    "    Complex_words_count.append(complex_Count)\n",
    "    complex_Count=0\n",
    "print('complex words count= ',Complex_words_count)"
   ]
  },
  {
   "cell_type": "markdown",
   "id": "4830dba4",
   "metadata": {},
   "source": [
    "## Word Count"
   ]
  },
  {
   "cell_type": "code",
   "execution_count": 248,
   "id": "75650a3a",
   "metadata": {
    "ExecuteTime": {
     "end_time": "2023-02-08T16:14:44.081842Z",
     "start_time": "2023-02-08T16:14:44.062856Z"
    }
   },
   "outputs": [
    {
     "name": "stdout",
     "output_type": "stream",
     "text": [
      "word count=  [1788, 1393, 1700, 1642, 1753, 1287, 721, 3, 705, 2162, 2009, 1187, 1234, 1690, 1633, 487, 1801, 938, 682, 330, 3, 1382, 720, 1981, 670, 369, 1131, 611, 387, 149, 805, 165, 1171, 528, 1059, 1684, 1737, 1460, 861, 1397, 456, 1595, 975, 1098, 1177, 1415, 1027, 1559, 744, 1166, 1695, 3287, 1767, 1510, 141, 945, 1810, 1756, 1056, 1757, 953, 1193, 1085, 1256, 138, 1084, 621, 1101, 1081, 377, 575, 1046, 698, 1037, 1015, 1004, 1254, 1552, 1803, 869, 1914, 1256, 332, 2137, 1592, 1702, 1784, 1919, 1834, 833, 1577, 970, 655, 1660, 1735, 1360, 963, 384, 333, 419, 235, 249, 574, 1020, 953, 1795, 601, 3, 918, 877, 1538, 1137, 705, 1034]\n"
     ]
    }
   ],
   "source": [
    "word_count=[]\n",
    "for i in range(len(tokenize_text)):\n",
    "    word_count.append(len(tokenize_text[i]))\n",
    "print('word count= ', word_count)"
   ]
  },
  {
   "cell_type": "markdown",
   "id": "e1c98cd3",
   "metadata": {},
   "source": [
    "## Syllable Per Word"
   ]
  },
  {
   "cell_type": "code",
   "execution_count": 251,
   "id": "cf303dfa",
   "metadata": {
    "ExecuteTime": {
     "end_time": "2023-02-08T16:18:58.516331Z",
     "start_time": "2023-02-08T16:18:58.172252Z"
    }
   },
   "outputs": [
    {
     "name": "stdout",
     "output_type": "stream",
     "text": [
      "syllable_per_word=  [3880, 2617, 3581, 3074, 3358, 2462, 1384, 2, 1296, 4190, 3922, 2512, 2388, 3222, 3249, 1035, 3327, 1870, 1413, 662, 2, 2738, 1369, 3691, 1308, 715, 2101, 1294, 774, 307, 1473, 300, 2592, 1021, 1950, 3480, 3155, 2703, 1484, 2440, 856, 3174, 1846, 1853, 2132, 2833, 1957, 2792, 1462, 2360, 3322, 6060, 3385, 3218, 253, 1750, 3384, 3329, 2006, 3421, 1814, 2252, 2065, 2471, 239, 2011, 1164, 2191, 1951, 780, 1002, 2078, 1131, 2027, 2058, 2027, 2368, 2840, 3407, 1385, 3774, 2199, 651, 4107, 2715, 3179, 3384, 3744, 3597, 1583, 3118, 1832, 1299, 3324, 3452, 2594, 2178, 887, 602, 752, 413, 498, 1227, 1885, 1734, 3502, 1146, 2, 1743, 1730, 3023, 2238, 1510, 2026]\n"
     ]
    }
   ],
   "source": [
    "syllable_count=[]\n",
    "vowels=['a','e','i','o','u']\n",
    "count=0\n",
    "complex_Count=0\n",
    "for r in range(len(tokenize_text)):\n",
    "    for i in tokenize_text[r]:\n",
    "        x=re.compile('[es|ed|ing|ly]$')\n",
    "        if x.match(i.lower()):\n",
    "            count+=1\n",
    "        else:\n",
    "            for j in i:\n",
    "                if(j.lower() in vowels ):\n",
    "                    count+=1\n",
    "    syllable_count.append(count)\n",
    "    count=0\n",
    "print('syllable_per_word= ',syllable_count)"
   ]
  },
  {
   "cell_type": "markdown",
   "id": "6777becf",
   "metadata": {},
   "source": [
    "## Personal Pronouns"
   ]
  },
  {
   "cell_type": "code",
   "execution_count": 253,
   "id": "663a3868",
   "metadata": {
    "ExecuteTime": {
     "end_time": "2023-02-08T16:22:38.866992Z",
     "start_time": "2023-02-08T16:22:38.828003Z"
    }
   },
   "outputs": [
    {
     "name": "stdout",
     "output_type": "stream",
     "text": [
      "personal pronouns=  [1, 6, 2, 18, 14, 18, 7, 0, 0, 9, 1, 10, 6, 21, 9, 0, 15, 0, 0, 2, 0, 2, 4, 10, 4, 0, 4, 1, 0, 1, 19, 1, 0, 10, 7, 13, 18, 16, 1, 4, 8, 7, 10, 5, 4, 9, 11, 5, 1, 1, 6, 7, 7, 0, 2, 1, 5, 5, 3, 1, 4, 37, 12, 3, 1, 13, 4, 2, 5, 0, 3, 2, 39, 2, 0, 2, 9, 3, 9, 44, 13, 7, 1, 3, 34, 14, 19, 6, 3, 3, 6, 5, 1, 2, 0, 6, 1, 5, 4, 6, 5, 7, 2, 0, 4, 0, 2, 0, 3, 11, 18, 3, 0, 7]\n"
     ]
    }
   ],
   "source": [
    "personal_pronouns=[]\n",
    "pronouns=['i','we','my','ours','us' ]\n",
    "import re\n",
    "count=0\n",
    "for r in range(len(tokenize_text)):\n",
    "    for i in tokenize_text[r]:\n",
    "        if i.lower() in pronouns:\n",
    "            count+=1\n",
    "    personal_pronouns.append(count)\n",
    "    count=0\n",
    "print('personal pronouns= ',personal_pronouns)"
   ]
  },
  {
   "cell_type": "markdown",
   "id": "20e46236",
   "metadata": {
    "ExecuteTime": {
     "end_time": "2023-02-08T16:31:21.803420Z",
     "start_time": "2023-02-08T16:31:21.793419Z"
    }
   },
   "source": [
    "## Average Word Length"
   ]
  },
  {
   "cell_type": "code",
   "execution_count": 258,
   "id": "fa87629d",
   "metadata": {
    "ExecuteTime": {
     "end_time": "2023-02-08T16:35:36.631629Z",
     "start_time": "2023-02-08T16:35:36.560225Z"
    },
    "scrolled": true
   },
   "outputs": [
    {
     "name": "stdout",
     "output_type": "stream",
     "text": [
      "avg word=  [5.633668903803132, 4.84278535534817, 5.397647058823529, 4.771619975639464, 5.063320022818027, 4.993783993783993, 5.042995839112344, 4.0, 4.808510638297872, 4.880666049953747, 5.066202090592334, 5.4818871103622575, 5.0008103727714746, 4.862721893491124, 5.088181261481935, 5.383983572895278, 4.777901166018879, 5.166311300639659, 5.480938416422287, 5.366666666666666, 4.0, 5.093342981186686, 4.956944444444445, 4.8213023725391215, 5.125373134328358, 4.986449864498645, 4.814323607427056, 5.4075286415711945, 5.124031007751938, 5.395973154362416, 4.729192546583851, 4.66060606060606, 5.646456020495303, 5.090909090909091, 4.816808309726157, 5.353325415676959, 4.72769142199194, 4.836301369863014, 4.521486643437863, 4.538296349319971, 4.620614035087719, 5.057680250783699, 4.737435897435898, 4.492714025500911, 4.8946474086661, 5.186572438162544, 4.766309639727361, 4.786401539448365, 5.176075268817204, 5.39622641509434, 5.093805309734513, 5.029814420444174, 4.975099037917374, 5.46953642384106, 4.524822695035461, 4.876190476190477, 4.897790055248619, 5.001138952164009, 4.978219696969697, 5.254410927717701, 4.9832109129066104, 4.797988264878458, 4.942857142857143, 5.212579617834395, 4.355072463768116, 4.784132841328414, 4.959742351046699, 5.248864668483197, 4.692876965772433, 5.6021220159151195, 4.678260869565217, 5.249521988527724, 4.214899713467049, 5.193828351012536, 5.2620689655172415, 5.288844621513944, 5.015948963317384, 4.785438144329897, 5.026067665002773, 4.268124280782509, 5.214733542319749, 4.502388535031847, 5.400602409638554, 5.201684604585868, 4.451633165829146, 4.915981198589894, 4.977017937219731, 5.268368942157374, 5.133042529989095, 5.0, 5.1908687381103364, 4.835051546391752, 5.326717557251908, 5.212650602409639, 5.260518731988473, 5.009558823529412, 5.838006230529595, 5.8203125, 4.678678678678678, 4.7756563245823385, 4.727659574468085, 4.93574297188755, 5.571428571428571, 4.950980392156863, 4.833158447009444, 5.071309192200557, 5.016638935108153, 4.0, 5.127450980392157, 5.354618015963512, 5.155396618985696, 5.058927000879508, 5.64822695035461, 5.039651837524178]\n"
     ]
    }
   ],
   "source": [
    "avg_word_length=[]\n",
    "word_len=0\n",
    "count=0\n",
    "for i in range(len(tokenize_text)):\n",
    "    for j in range(len(tokenize_text[i])):\n",
    "        count+=len(tokenize_text[i][j])\n",
    "    word_len=count/len(tokenize_text[i])\n",
    "    avg_word_length.append(word_len)\n",
    "    count=0\n",
    "print('avg word= ', avg_word_length)"
   ]
  },
  {
   "cell_type": "code",
   "execution_count": 272,
   "id": "2187d737",
   "metadata": {
    "ExecuteTime": {
     "end_time": "2023-02-08T17:09:32.163977Z",
     "start_time": "2023-02-08T17:09:32.155992Z"
    }
   },
   "outputs": [
    {
     "name": "stdout",
     "output_type": "stream",
     "text": [
      "[37, 38, 39, 40, 41, 42, 43, 44, 45, 46, 47, 48, 49, 50, 51, 52, 53, 54, 55, 56, 57, 58, 59, 60, 61, 62, 63, 64, 65, 66, 67, 68, 69, 70, 71, 72, 73, 74, 75, 76, 77, 78, 79, 80, 81, 82, 83, 84, 85, 86, 87, 88, 89, 90, 91, 92, 93, 94, 95, 96, 97, 98, 99, 100, 101, 102, 103, 104, 105, 106, 107, 108, 109, 110, 111, 112, 113, 114, 115, 116, 117, 118, 119, 120, 121, 122, 123, 124, 125, 126, 127, 128, 129, 130, 131, 132, 133, 134, 135, 136, 137, 138, 139, 140, 141, 142, 143, 144, 145, 146, 147, 148, 149, 150]\n"
     ]
    }
   ],
   "source": [
    "URL_ID = []\n",
    "for i in range(len(tokenize_text)):\n",
    "    URL_ID.append(i+37)\n",
    "print(URL_ID)"
   ]
  },
  {
   "cell_type": "code",
   "execution_count": 276,
   "id": "ed06c8f3",
   "metadata": {
    "ExecuteTime": {
     "end_time": "2023-02-08T17:11:21.594429Z",
     "start_time": "2023-02-08T17:11:21.574429Z"
    }
   },
   "outputs": [],
   "source": [
    "db1={'URL_ID':URL_ID,'positive_score':positive_score,'negative_score':negative_score,'Polarity_Score':polarity_score,'subjectiivity_score':subjectiivity_score,'avg_senetence_length':avg_senetence_length,'Percentage_of_Complex_words':Percentage_of_Complex_words,'Fog_Index':Fog_Index,'avg_no_of_words_per_sentence':avg_no_of_words_per_sentence,'complex_Word_Count':complex_Word_Count,'word_count':word_count,'syllable_count':syllable_count,'personal_pronouns':personal_pronouns,'avg_word_length':avg_word_length}"
   ]
  },
  {
   "cell_type": "code",
   "execution_count": 277,
   "id": "47c18bb8",
   "metadata": {
    "ExecuteTime": {
     "end_time": "2023-02-08T17:11:22.001043Z",
     "start_time": "2023-02-08T17:11:21.991045Z"
    }
   },
   "outputs": [],
   "source": [
    "db1 = pd.DataFrame(db1)"
   ]
  },
  {
   "cell_type": "code",
   "execution_count": 278,
   "id": "017cd703",
   "metadata": {
    "ExecuteTime": {
     "end_time": "2023-02-08T17:11:22.482540Z",
     "start_time": "2023-02-08T17:11:22.443538Z"
    }
   },
   "outputs": [
    {
     "data": {
      "text/html": [
       "<div>\n",
       "<style scoped>\n",
       "    .dataframe tbody tr th:only-of-type {\n",
       "        vertical-align: middle;\n",
       "    }\n",
       "\n",
       "    .dataframe tbody tr th {\n",
       "        vertical-align: top;\n",
       "    }\n",
       "\n",
       "    .dataframe thead th {\n",
       "        text-align: right;\n",
       "    }\n",
       "</style>\n",
       "<table border=\"1\" class=\"dataframe\">\n",
       "  <thead>\n",
       "    <tr style=\"text-align: right;\">\n",
       "      <th></th>\n",
       "      <th>URL_ID</th>\n",
       "      <th>positive_score</th>\n",
       "      <th>negative_score</th>\n",
       "      <th>Polarity_Score</th>\n",
       "      <th>subjectiivity_score</th>\n",
       "      <th>avg_senetence_length</th>\n",
       "      <th>Percentage_of_Complex_words</th>\n",
       "      <th>Fog_Index</th>\n",
       "      <th>avg_no_of_words_per_sentence</th>\n",
       "      <th>complex_Word_Count</th>\n",
       "      <th>word_count</th>\n",
       "      <th>syllable_count</th>\n",
       "      <th>personal_pronouns</th>\n",
       "      <th>avg_word_length</th>\n",
       "    </tr>\n",
       "  </thead>\n",
       "  <tbody>\n",
       "    <tr>\n",
       "      <th>0</th>\n",
       "      <td>37</td>\n",
       "      <td>99</td>\n",
       "      <td>34</td>\n",
       "      <td>0.488722</td>\n",
       "      <td>0.036353</td>\n",
       "      <td>128.815217</td>\n",
       "      <td>0.349553</td>\n",
       "      <td>51.665908</td>\n",
       "      <td>128.815217</td>\n",
       "      <td>0</td>\n",
       "      <td>1788</td>\n",
       "      <td>3880</td>\n",
       "      <td>1</td>\n",
       "      <td>5.633669</td>\n",
       "    </tr>\n",
       "    <tr>\n",
       "      <th>1</th>\n",
       "      <td>38</td>\n",
       "      <td>100</td>\n",
       "      <td>38</td>\n",
       "      <td>0.449275</td>\n",
       "      <td>0.044508</td>\n",
       "      <td>95.741176</td>\n",
       "      <td>0.238335</td>\n",
       "      <td>38.391804</td>\n",
       "      <td>95.741176</td>\n",
       "      <td>0</td>\n",
       "      <td>1393</td>\n",
       "      <td>2617</td>\n",
       "      <td>6</td>\n",
       "      <td>4.842785</td>\n",
       "    </tr>\n",
       "    <tr>\n",
       "      <th>2</th>\n",
       "      <td>39</td>\n",
       "      <td>108</td>\n",
       "      <td>38</td>\n",
       "      <td>0.479452</td>\n",
       "      <td>0.041176</td>\n",
       "      <td>106.588235</td>\n",
       "      <td>0.335294</td>\n",
       "      <td>42.769412</td>\n",
       "      <td>106.588235</td>\n",
       "      <td>0</td>\n",
       "      <td>1700</td>\n",
       "      <td>3581</td>\n",
       "      <td>2</td>\n",
       "      <td>5.397647</td>\n",
       "    </tr>\n",
       "    <tr>\n",
       "      <th>3</th>\n",
       "      <td>40</td>\n",
       "      <td>116</td>\n",
       "      <td>28</td>\n",
       "      <td>0.611111</td>\n",
       "      <td>0.053593</td>\n",
       "      <td>94.690000</td>\n",
       "      <td>0.232643</td>\n",
       "      <td>37.969057</td>\n",
       "      <td>94.690000</td>\n",
       "      <td>0</td>\n",
       "      <td>1642</td>\n",
       "      <td>3074</td>\n",
       "      <td>18</td>\n",
       "      <td>4.771620</td>\n",
       "    </tr>\n",
       "    <tr>\n",
       "      <th>4</th>\n",
       "      <td>41</td>\n",
       "      <td>114</td>\n",
       "      <td>28</td>\n",
       "      <td>0.605634</td>\n",
       "      <td>0.049059</td>\n",
       "      <td>107.202020</td>\n",
       "      <td>0.258414</td>\n",
       "      <td>42.984174</td>\n",
       "      <td>107.202020</td>\n",
       "      <td>0</td>\n",
       "      <td>1753</td>\n",
       "      <td>3358</td>\n",
       "      <td>14</td>\n",
       "      <td>5.063320</td>\n",
       "    </tr>\n",
       "    <tr>\n",
       "      <th>...</th>\n",
       "      <td>...</td>\n",
       "      <td>...</td>\n",
       "      <td>...</td>\n",
       "      <td>...</td>\n",
       "      <td>...</td>\n",
       "      <td>...</td>\n",
       "      <td>...</td>\n",
       "      <td>...</td>\n",
       "      <td>...</td>\n",
       "      <td>...</td>\n",
       "      <td>...</td>\n",
       "      <td>...</td>\n",
       "      <td>...</td>\n",
       "      <td>...</td>\n",
       "    </tr>\n",
       "    <tr>\n",
       "      <th>109</th>\n",
       "      <td>146</td>\n",
       "      <td>59</td>\n",
       "      <td>27</td>\n",
       "      <td>0.372093</td>\n",
       "      <td>0.036488</td>\n",
       "      <td>77.361111</td>\n",
       "      <td>0.285063</td>\n",
       "      <td>31.058470</td>\n",
       "      <td>77.361111</td>\n",
       "      <td>0</td>\n",
       "      <td>877</td>\n",
       "      <td>1730</td>\n",
       "      <td>11</td>\n",
       "      <td>5.354618</td>\n",
       "    </tr>\n",
       "    <tr>\n",
       "      <th>110</th>\n",
       "      <td>147</td>\n",
       "      <td>84</td>\n",
       "      <td>14</td>\n",
       "      <td>0.714286</td>\n",
       "      <td>0.045514</td>\n",
       "      <td>84.500000</td>\n",
       "      <td>0.291287</td>\n",
       "      <td>33.916515</td>\n",
       "      <td>84.500000</td>\n",
       "      <td>0</td>\n",
       "      <td>1538</td>\n",
       "      <td>3023</td>\n",
       "      <td>18</td>\n",
       "      <td>5.155397</td>\n",
       "    </tr>\n",
       "    <tr>\n",
       "      <th>111</th>\n",
       "      <td>148</td>\n",
       "      <td>65</td>\n",
       "      <td>48</td>\n",
       "      <td>0.150442</td>\n",
       "      <td>0.014952</td>\n",
       "      <td>79.126437</td>\n",
       "      <td>0.311346</td>\n",
       "      <td>31.775113</td>\n",
       "      <td>79.126437</td>\n",
       "      <td>0</td>\n",
       "      <td>1137</td>\n",
       "      <td>2238</td>\n",
       "      <td>3</td>\n",
       "      <td>5.058927</td>\n",
       "    </tr>\n",
       "    <tr>\n",
       "      <th>112</th>\n",
       "      <td>149</td>\n",
       "      <td>47</td>\n",
       "      <td>4</td>\n",
       "      <td>0.843137</td>\n",
       "      <td>0.060993</td>\n",
       "      <td>91.803922</td>\n",
       "      <td>0.350355</td>\n",
       "      <td>36.861710</td>\n",
       "      <td>91.803922</td>\n",
       "      <td>0</td>\n",
       "      <td>705</td>\n",
       "      <td>1510</td>\n",
       "      <td>0</td>\n",
       "      <td>5.648227</td>\n",
       "    </tr>\n",
       "    <tr>\n",
       "      <th>113</th>\n",
       "      <td>150</td>\n",
       "      <td>72</td>\n",
       "      <td>42</td>\n",
       "      <td>0.263158</td>\n",
       "      <td>0.029014</td>\n",
       "      <td>73.458824</td>\n",
       "      <td>0.264990</td>\n",
       "      <td>29.489526</td>\n",
       "      <td>73.458824</td>\n",
       "      <td>0</td>\n",
       "      <td>1034</td>\n",
       "      <td>2026</td>\n",
       "      <td>7</td>\n",
       "      <td>5.039652</td>\n",
       "    </tr>\n",
       "  </tbody>\n",
       "</table>\n",
       "<p>114 rows × 14 columns</p>\n",
       "</div>"
      ],
      "text/plain": [
       "     URL_ID  positive_score  negative_score  ...  syllable_count  personal_pronouns  avg_word_length\n",
       "0        37              99              34  ...            3880                  1         5.633669\n",
       "1        38             100              38  ...            2617                  6         4.842785\n",
       "2        39             108              38  ...            3581                  2         5.397647\n",
       "3        40             116              28  ...            3074                 18         4.771620\n",
       "4        41             114              28  ...            3358                 14         5.063320\n",
       "..      ...             ...             ...  ...             ...                ...              ...\n",
       "109     146              59              27  ...            1730                 11         5.354618\n",
       "110     147              84              14  ...            3023                 18         5.155397\n",
       "111     148              65              48  ...            2238                  3         5.058927\n",
       "112     149              47               4  ...            1510                  0         5.648227\n",
       "113     150              72              42  ...            2026                  7         5.039652\n",
       "\n",
       "[114 rows x 14 columns]"
      ]
     },
     "execution_count": 278,
     "metadata": {},
     "output_type": "execute_result"
    }
   ],
   "source": [
    "db1"
   ]
  },
  {
   "cell_type": "code",
   "execution_count": 279,
   "id": "0864178c",
   "metadata": {
    "ExecuteTime": {
     "end_time": "2023-02-08T17:11:29.952423Z",
     "start_time": "2023-02-08T17:11:29.928423Z"
    }
   },
   "outputs": [],
   "source": [
    "result = pd.merge(db,db1)"
   ]
  },
  {
   "cell_type": "code",
   "execution_count": 280,
   "id": "117f0a6e",
   "metadata": {
    "ExecuteTime": {
     "end_time": "2023-02-08T17:11:42.802185Z",
     "start_time": "2023-02-08T17:11:42.765199Z"
    }
   },
   "outputs": [
    {
     "data": {
      "text/html": [
       "<div>\n",
       "<style scoped>\n",
       "    .dataframe tbody tr th:only-of-type {\n",
       "        vertical-align: middle;\n",
       "    }\n",
       "\n",
       "    .dataframe tbody tr th {\n",
       "        vertical-align: top;\n",
       "    }\n",
       "\n",
       "    .dataframe thead th {\n",
       "        text-align: right;\n",
       "    }\n",
       "</style>\n",
       "<table border=\"1\" class=\"dataframe\">\n",
       "  <thead>\n",
       "    <tr style=\"text-align: right;\">\n",
       "      <th></th>\n",
       "      <th>URL_ID</th>\n",
       "      <th>URL</th>\n",
       "      <th>positive_score</th>\n",
       "      <th>negative_score</th>\n",
       "      <th>Polarity_Score</th>\n",
       "      <th>subjectiivity_score</th>\n",
       "      <th>avg_senetence_length</th>\n",
       "      <th>Percentage_of_Complex_words</th>\n",
       "      <th>Fog_Index</th>\n",
       "      <th>avg_no_of_words_per_sentence</th>\n",
       "      <th>complex_Word_Count</th>\n",
       "      <th>word_count</th>\n",
       "      <th>syllable_count</th>\n",
       "      <th>personal_pronouns</th>\n",
       "      <th>avg_word_length</th>\n",
       "    </tr>\n",
       "  </thead>\n",
       "  <tbody>\n",
       "    <tr>\n",
       "      <th>0</th>\n",
       "      <td>37.0</td>\n",
       "      <td>https://insights.blackcoffer.com/ai-in-healthc...</td>\n",
       "      <td>99</td>\n",
       "      <td>34</td>\n",
       "      <td>0.488722</td>\n",
       "      <td>0.036353</td>\n",
       "      <td>128.815217</td>\n",
       "      <td>0.349553</td>\n",
       "      <td>51.665908</td>\n",
       "      <td>128.815217</td>\n",
       "      <td>0</td>\n",
       "      <td>1788</td>\n",
       "      <td>3880</td>\n",
       "      <td>1</td>\n",
       "      <td>5.633669</td>\n",
       "    </tr>\n",
       "    <tr>\n",
       "      <th>1</th>\n",
       "      <td>38.0</td>\n",
       "      <td>https://insights.blackcoffer.com/what-if-the-c...</td>\n",
       "      <td>100</td>\n",
       "      <td>38</td>\n",
       "      <td>0.449275</td>\n",
       "      <td>0.044508</td>\n",
       "      <td>95.741176</td>\n",
       "      <td>0.238335</td>\n",
       "      <td>38.391804</td>\n",
       "      <td>95.741176</td>\n",
       "      <td>0</td>\n",
       "      <td>1393</td>\n",
       "      <td>2617</td>\n",
       "      <td>6</td>\n",
       "      <td>4.842785</td>\n",
       "    </tr>\n",
       "    <tr>\n",
       "      <th>2</th>\n",
       "      <td>39.0</td>\n",
       "      <td>https://insights.blackcoffer.com/what-jobs-wil...</td>\n",
       "      <td>108</td>\n",
       "      <td>38</td>\n",
       "      <td>0.479452</td>\n",
       "      <td>0.041176</td>\n",
       "      <td>106.588235</td>\n",
       "      <td>0.335294</td>\n",
       "      <td>42.769412</td>\n",
       "      <td>106.588235</td>\n",
       "      <td>0</td>\n",
       "      <td>1700</td>\n",
       "      <td>3581</td>\n",
       "      <td>2</td>\n",
       "      <td>5.397647</td>\n",
       "    </tr>\n",
       "    <tr>\n",
       "      <th>3</th>\n",
       "      <td>40.0</td>\n",
       "      <td>https://insights.blackcoffer.com/will-machine-...</td>\n",
       "      <td>116</td>\n",
       "      <td>28</td>\n",
       "      <td>0.611111</td>\n",
       "      <td>0.053593</td>\n",
       "      <td>94.690000</td>\n",
       "      <td>0.232643</td>\n",
       "      <td>37.969057</td>\n",
       "      <td>94.690000</td>\n",
       "      <td>0</td>\n",
       "      <td>1642</td>\n",
       "      <td>3074</td>\n",
       "      <td>18</td>\n",
       "      <td>4.771620</td>\n",
       "    </tr>\n",
       "    <tr>\n",
       "      <th>4</th>\n",
       "      <td>41.0</td>\n",
       "      <td>https://insights.blackcoffer.com/will-ai-repla...</td>\n",
       "      <td>114</td>\n",
       "      <td>28</td>\n",
       "      <td>0.605634</td>\n",
       "      <td>0.049059</td>\n",
       "      <td>107.202020</td>\n",
       "      <td>0.258414</td>\n",
       "      <td>42.984174</td>\n",
       "      <td>107.202020</td>\n",
       "      <td>0</td>\n",
       "      <td>1753</td>\n",
       "      <td>3358</td>\n",
       "      <td>14</td>\n",
       "      <td>5.063320</td>\n",
       "    </tr>\n",
       "    <tr>\n",
       "      <th>...</th>\n",
       "      <td>...</td>\n",
       "      <td>...</td>\n",
       "      <td>...</td>\n",
       "      <td>...</td>\n",
       "      <td>...</td>\n",
       "      <td>...</td>\n",
       "      <td>...</td>\n",
       "      <td>...</td>\n",
       "      <td>...</td>\n",
       "      <td>...</td>\n",
       "      <td>...</td>\n",
       "      <td>...</td>\n",
       "      <td>...</td>\n",
       "      <td>...</td>\n",
       "      <td>...</td>\n",
       "    </tr>\n",
       "    <tr>\n",
       "      <th>109</th>\n",
       "      <td>146.0</td>\n",
       "      <td>https://insights.blackcoffer.com/blockchain-fo...</td>\n",
       "      <td>59</td>\n",
       "      <td>27</td>\n",
       "      <td>0.372093</td>\n",
       "      <td>0.036488</td>\n",
       "      <td>77.361111</td>\n",
       "      <td>0.285063</td>\n",
       "      <td>31.058470</td>\n",
       "      <td>77.361111</td>\n",
       "      <td>0</td>\n",
       "      <td>877</td>\n",
       "      <td>1730</td>\n",
       "      <td>11</td>\n",
       "      <td>5.354618</td>\n",
       "    </tr>\n",
       "    <tr>\n",
       "      <th>110</th>\n",
       "      <td>147.0</td>\n",
       "      <td>https://insights.blackcoffer.com/the-future-of...</td>\n",
       "      <td>84</td>\n",
       "      <td>14</td>\n",
       "      <td>0.714286</td>\n",
       "      <td>0.045514</td>\n",
       "      <td>84.500000</td>\n",
       "      <td>0.291287</td>\n",
       "      <td>33.916515</td>\n",
       "      <td>84.500000</td>\n",
       "      <td>0</td>\n",
       "      <td>1538</td>\n",
       "      <td>3023</td>\n",
       "      <td>18</td>\n",
       "      <td>5.155397</td>\n",
       "    </tr>\n",
       "    <tr>\n",
       "      <th>111</th>\n",
       "      <td>148.0</td>\n",
       "      <td>https://insights.blackcoffer.com/big-data-anal...</td>\n",
       "      <td>65</td>\n",
       "      <td>48</td>\n",
       "      <td>0.150442</td>\n",
       "      <td>0.014952</td>\n",
       "      <td>79.126437</td>\n",
       "      <td>0.311346</td>\n",
       "      <td>31.775113</td>\n",
       "      <td>79.126437</td>\n",
       "      <td>0</td>\n",
       "      <td>1137</td>\n",
       "      <td>2238</td>\n",
       "      <td>3</td>\n",
       "      <td>5.058927</td>\n",
       "    </tr>\n",
       "    <tr>\n",
       "      <th>112</th>\n",
       "      <td>149.0</td>\n",
       "      <td>https://insights.blackcoffer.com/business-anal...</td>\n",
       "      <td>47</td>\n",
       "      <td>4</td>\n",
       "      <td>0.843137</td>\n",
       "      <td>0.060993</td>\n",
       "      <td>91.803922</td>\n",
       "      <td>0.350355</td>\n",
       "      <td>36.861710</td>\n",
       "      <td>91.803922</td>\n",
       "      <td>0</td>\n",
       "      <td>705</td>\n",
       "      <td>1510</td>\n",
       "      <td>0</td>\n",
       "      <td>5.648227</td>\n",
       "    </tr>\n",
       "    <tr>\n",
       "      <th>113</th>\n",
       "      <td>150.0</td>\n",
       "      <td>https://insights.blackcoffer.com/challenges-an...</td>\n",
       "      <td>72</td>\n",
       "      <td>42</td>\n",
       "      <td>0.263158</td>\n",
       "      <td>0.029014</td>\n",
       "      <td>73.458824</td>\n",
       "      <td>0.264990</td>\n",
       "      <td>29.489526</td>\n",
       "      <td>73.458824</td>\n",
       "      <td>0</td>\n",
       "      <td>1034</td>\n",
       "      <td>2026</td>\n",
       "      <td>7</td>\n",
       "      <td>5.039652</td>\n",
       "    </tr>\n",
       "  </tbody>\n",
       "</table>\n",
       "<p>114 rows × 15 columns</p>\n",
       "</div>"
      ],
      "text/plain": [
       "     URL_ID                                                URL  ...  personal_pronouns  avg_word_length\n",
       "0      37.0  https://insights.blackcoffer.com/ai-in-healthc...  ...                  1         5.633669\n",
       "1      38.0  https://insights.blackcoffer.com/what-if-the-c...  ...                  6         4.842785\n",
       "2      39.0  https://insights.blackcoffer.com/what-jobs-wil...  ...                  2         5.397647\n",
       "3      40.0  https://insights.blackcoffer.com/will-machine-...  ...                 18         4.771620\n",
       "4      41.0  https://insights.blackcoffer.com/will-ai-repla...  ...                 14         5.063320\n",
       "..      ...                                                ...  ...                ...              ...\n",
       "109   146.0  https://insights.blackcoffer.com/blockchain-fo...  ...                 11         5.354618\n",
       "110   147.0  https://insights.blackcoffer.com/the-future-of...  ...                 18         5.155397\n",
       "111   148.0  https://insights.blackcoffer.com/big-data-anal...  ...                  3         5.058927\n",
       "112   149.0  https://insights.blackcoffer.com/business-anal...  ...                  0         5.648227\n",
       "113   150.0  https://insights.blackcoffer.com/challenges-an...  ...                  7         5.039652\n",
       "\n",
       "[114 rows x 15 columns]"
      ]
     },
     "execution_count": 280,
     "metadata": {},
     "output_type": "execute_result"
    }
   ],
   "source": [
    "result"
   ]
  },
  {
   "cell_type": "code",
   "execution_count": 297,
   "id": "091a929a",
   "metadata": {
    "ExecuteTime": {
     "end_time": "2023-02-08T17:37:04.142719Z",
     "start_time": "2023-02-08T17:37:04.134717Z"
    }
   },
   "outputs": [],
   "source": [
    "import openpyxl"
   ]
  },
  {
   "cell_type": "code",
   "execution_count": 298,
   "id": "4b3a6b29",
   "metadata": {
    "ExecuteTime": {
     "end_time": "2023-02-08T17:38:11.204613Z",
     "start_time": "2023-02-08T17:38:11.087273Z"
    }
   },
   "outputs": [],
   "source": [
    "result.to_excel('Output Data Structure.xlsx', sheet_name='new sheet')"
   ]
  },
  {
   "cell_type": "code",
   "execution_count": null,
   "id": "38231e2e",
   "metadata": {},
   "outputs": [],
   "source": []
  }
 ],
 "metadata": {
  "kernelspec": {
   "display_name": "Python 3 (ipykernel)",
   "language": "python",
   "name": "python3"
  },
  "language_info": {
   "codemirror_mode": {
    "name": "ipython",
    "version": 3
   },
   "file_extension": ".py",
   "mimetype": "text/x-python",
   "name": "python",
   "nbconvert_exporter": "python",
   "pygments_lexer": "ipython3",
   "version": "3.10.5"
  },
  "toc": {
   "base_numbering": 1,
   "nav_menu": {},
   "number_sections": true,
   "sideBar": true,
   "skip_h1_title": false,
   "title_cell": "Table of Contents",
   "title_sidebar": "Contents",
   "toc_cell": true,
   "toc_position": {
    "height": "100px",
    "left": "953px",
    "top": "110.525px",
    "width": "194.4px"
   },
   "toc_section_display": true,
   "toc_window_display": true
  }
 },
 "nbformat": 4,
 "nbformat_minor": 5
}
